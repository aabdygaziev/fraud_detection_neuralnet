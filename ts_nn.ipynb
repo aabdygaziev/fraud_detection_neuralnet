{
 "cells": [
  {
   "cell_type": "code",
   "execution_count": 1,
   "metadata": {},
   "outputs": [
    {
     "name": "stderr",
     "output_type": "stream",
     "text": [
      "/Users/abdygaziev/anaconda3/envs/learn-deep/lib/python3.6/site-packages/tensorflow/python/framework/dtypes.py:526: FutureWarning: Passing (type, 1) or '1type' as a synonym of type is deprecated; in a future version of numpy, it will be understood as (type, (1,)) / '(1,)type'.\n",
      "  _np_qint8 = np.dtype([(\"qint8\", np.int8, 1)])\n",
      "/Users/abdygaziev/anaconda3/envs/learn-deep/lib/python3.6/site-packages/tensorflow/python/framework/dtypes.py:527: FutureWarning: Passing (type, 1) or '1type' as a synonym of type is deprecated; in a future version of numpy, it will be understood as (type, (1,)) / '(1,)type'.\n",
      "  _np_quint8 = np.dtype([(\"quint8\", np.uint8, 1)])\n",
      "/Users/abdygaziev/anaconda3/envs/learn-deep/lib/python3.6/site-packages/tensorflow/python/framework/dtypes.py:528: FutureWarning: Passing (type, 1) or '1type' as a synonym of type is deprecated; in a future version of numpy, it will be understood as (type, (1,)) / '(1,)type'.\n",
      "  _np_qint16 = np.dtype([(\"qint16\", np.int16, 1)])\n",
      "/Users/abdygaziev/anaconda3/envs/learn-deep/lib/python3.6/site-packages/tensorflow/python/framework/dtypes.py:529: FutureWarning: Passing (type, 1) or '1type' as a synonym of type is deprecated; in a future version of numpy, it will be understood as (type, (1,)) / '(1,)type'.\n",
      "  _np_quint16 = np.dtype([(\"quint16\", np.uint16, 1)])\n",
      "/Users/abdygaziev/anaconda3/envs/learn-deep/lib/python3.6/site-packages/tensorflow/python/framework/dtypes.py:530: FutureWarning: Passing (type, 1) or '1type' as a synonym of type is deprecated; in a future version of numpy, it will be understood as (type, (1,)) / '(1,)type'.\n",
      "  _np_qint32 = np.dtype([(\"qint32\", np.int32, 1)])\n",
      "/Users/abdygaziev/anaconda3/envs/learn-deep/lib/python3.6/site-packages/tensorflow/python/framework/dtypes.py:535: FutureWarning: Passing (type, 1) or '1type' as a synonym of type is deprecated; in a future version of numpy, it will be understood as (type, (1,)) / '(1,)type'.\n",
      "  np_resource = np.dtype([(\"resource\", np.ubyte, 1)])\n"
     ]
    }
   ],
   "source": [
    "# import packages\n",
    "import pandas as pd\n",
    "import numpy as np\n",
    "\n",
    "import tensorflow as tf\n",
    "from tensorflow import keras\n",
    "from tensorflow.keras import metrics\n",
    "\n",
    "from tensorflow import feature_column\n",
    "from tensorflow.keras import layers\n",
    "\n",
    "import os\n",
    "import tempfile\n",
    "\n",
    "import matplotlib as mpl\n",
    "import matplotlib.pyplot as plt\n",
    "import numpy as np\n",
    "import pandas as pd\n",
    "import seaborn as sns\n",
    "\n",
    "import sklearn\n",
    "from sklearn.metrics import confusion_matrix\n",
    "from sklearn.model_selection import train_test_split\n",
    "from sklearn.preprocessing import StandardScaler"
   ]
  },
  {
   "cell_type": "code",
   "execution_count": 2,
   "metadata": {},
   "outputs": [],
   "source": [
    "df = pd.read_pickle('/Users/abdygaziev/Documents/FlatironMaterials/Projects/train_dummy.pickle')"
   ]
  },
  {
   "cell_type": "code",
   "execution_count": 3,
   "metadata": {},
   "outputs": [
    {
     "data": {
      "text/html": [
       "<div>\n",
       "<style scoped>\n",
       "    .dataframe tbody tr th:only-of-type {\n",
       "        vertical-align: middle;\n",
       "    }\n",
       "\n",
       "    .dataframe tbody tr th {\n",
       "        vertical-align: top;\n",
       "    }\n",
       "\n",
       "    .dataframe thead th {\n",
       "        text-align: right;\n",
       "    }\n",
       "</style>\n",
       "<table border=\"1\" class=\"dataframe\">\n",
       "  <thead>\n",
       "    <tr style=\"text-align: right;\">\n",
       "      <th></th>\n",
       "      <th>isFraud</th>\n",
       "      <th>TransactionDT</th>\n",
       "      <th>TransactionAmt</th>\n",
       "      <th>card1</th>\n",
       "      <th>card2</th>\n",
       "      <th>card3</th>\n",
       "      <th>card5</th>\n",
       "      <th>addr1</th>\n",
       "      <th>addr2</th>\n",
       "      <th>C1</th>\n",
       "      <th>...</th>\n",
       "      <th>P_emaildomain_web.de</th>\n",
       "      <th>P_emaildomain_windstream.net</th>\n",
       "      <th>P_emaildomain_yahoo.co.jp</th>\n",
       "      <th>P_emaildomain_yahoo.co.uk</th>\n",
       "      <th>P_emaildomain_yahoo.com</th>\n",
       "      <th>P_emaildomain_yahoo.com.mx</th>\n",
       "      <th>P_emaildomain_yahoo.de</th>\n",
       "      <th>P_emaildomain_yahoo.es</th>\n",
       "      <th>P_emaildomain_yahoo.fr</th>\n",
       "      <th>P_emaildomain_ymail.com</th>\n",
       "    </tr>\n",
       "    <tr>\n",
       "      <th>TransactionID</th>\n",
       "      <th></th>\n",
       "      <th></th>\n",
       "      <th></th>\n",
       "      <th></th>\n",
       "      <th></th>\n",
       "      <th></th>\n",
       "      <th></th>\n",
       "      <th></th>\n",
       "      <th></th>\n",
       "      <th></th>\n",
       "      <th></th>\n",
       "      <th></th>\n",
       "      <th></th>\n",
       "      <th></th>\n",
       "      <th></th>\n",
       "      <th></th>\n",
       "      <th></th>\n",
       "      <th></th>\n",
       "      <th></th>\n",
       "      <th></th>\n",
       "      <th></th>\n",
       "    </tr>\n",
       "  </thead>\n",
       "  <tbody>\n",
       "    <tr>\n",
       "      <th>3001687</th>\n",
       "      <td>0</td>\n",
       "      <td>413891</td>\n",
       "      <td>45.000</td>\n",
       "      <td>16661</td>\n",
       "      <td>490.0</td>\n",
       "      <td>150.0</td>\n",
       "      <td>226.0</td>\n",
       "      <td>327.000000</td>\n",
       "      <td>87.00000</td>\n",
       "      <td>1.0</td>\n",
       "      <td>...</td>\n",
       "      <td>0</td>\n",
       "      <td>0</td>\n",
       "      <td>0</td>\n",
       "      <td>0</td>\n",
       "      <td>0</td>\n",
       "      <td>0</td>\n",
       "      <td>0</td>\n",
       "      <td>0</td>\n",
       "      <td>0</td>\n",
       "      <td>0</td>\n",
       "    </tr>\n",
       "    <tr>\n",
       "      <th>3001688</th>\n",
       "      <td>0</td>\n",
       "      <td>413902</td>\n",
       "      <td>50.000</td>\n",
       "      <td>6194</td>\n",
       "      <td>498.0</td>\n",
       "      <td>150.0</td>\n",
       "      <td>117.0</td>\n",
       "      <td>337.000000</td>\n",
       "      <td>87.00000</td>\n",
       "      <td>145.0</td>\n",
       "      <td>...</td>\n",
       "      <td>0</td>\n",
       "      <td>0</td>\n",
       "      <td>0</td>\n",
       "      <td>0</td>\n",
       "      <td>0</td>\n",
       "      <td>0</td>\n",
       "      <td>0</td>\n",
       "      <td>0</td>\n",
       "      <td>0</td>\n",
       "      <td>0</td>\n",
       "    </tr>\n",
       "    <tr>\n",
       "      <th>3001689</th>\n",
       "      <td>1</td>\n",
       "      <td>413915</td>\n",
       "      <td>160.475</td>\n",
       "      <td>9635</td>\n",
       "      <td>405.0</td>\n",
       "      <td>185.0</td>\n",
       "      <td>226.0</td>\n",
       "      <td>290.733794</td>\n",
       "      <td>86.80063</td>\n",
       "      <td>1.0</td>\n",
       "      <td>...</td>\n",
       "      <td>0</td>\n",
       "      <td>0</td>\n",
       "      <td>0</td>\n",
       "      <td>0</td>\n",
       "      <td>0</td>\n",
       "      <td>0</td>\n",
       "      <td>0</td>\n",
       "      <td>0</td>\n",
       "      <td>0</td>\n",
       "      <td>0</td>\n",
       "    </tr>\n",
       "    <tr>\n",
       "      <th>3001690</th>\n",
       "      <td>0</td>\n",
       "      <td>413942</td>\n",
       "      <td>50.000</td>\n",
       "      <td>11207</td>\n",
       "      <td>361.0</td>\n",
       "      <td>150.0</td>\n",
       "      <td>226.0</td>\n",
       "      <td>126.000000</td>\n",
       "      <td>87.00000</td>\n",
       "      <td>1.0</td>\n",
       "      <td>...</td>\n",
       "      <td>0</td>\n",
       "      <td>0</td>\n",
       "      <td>0</td>\n",
       "      <td>0</td>\n",
       "      <td>0</td>\n",
       "      <td>0</td>\n",
       "      <td>0</td>\n",
       "      <td>0</td>\n",
       "      <td>0</td>\n",
       "      <td>0</td>\n",
       "    </tr>\n",
       "    <tr>\n",
       "      <th>3001692</th>\n",
       "      <td>0</td>\n",
       "      <td>413957</td>\n",
       "      <td>50.000</td>\n",
       "      <td>12544</td>\n",
       "      <td>321.0</td>\n",
       "      <td>150.0</td>\n",
       "      <td>226.0</td>\n",
       "      <td>476.000000</td>\n",
       "      <td>87.00000</td>\n",
       "      <td>1.0</td>\n",
       "      <td>...</td>\n",
       "      <td>0</td>\n",
       "      <td>0</td>\n",
       "      <td>0</td>\n",
       "      <td>0</td>\n",
       "      <td>0</td>\n",
       "      <td>0</td>\n",
       "      <td>0</td>\n",
       "      <td>0</td>\n",
       "      <td>0</td>\n",
       "      <td>0</td>\n",
       "    </tr>\n",
       "  </tbody>\n",
       "</table>\n",
       "<p>5 rows × 267 columns</p>\n",
       "</div>"
      ],
      "text/plain": [
       "               isFraud  TransactionDT  TransactionAmt  card1  card2  card3  \\\n",
       "TransactionID                                                                \n",
       "3001687              0         413891          45.000  16661  490.0  150.0   \n",
       "3001688              0         413902          50.000   6194  498.0  150.0   \n",
       "3001689              1         413915         160.475   9635  405.0  185.0   \n",
       "3001690              0         413942          50.000  11207  361.0  150.0   \n",
       "3001692              0         413957          50.000  12544  321.0  150.0   \n",
       "\n",
       "               card5       addr1     addr2     C1  ...  P_emaildomain_web.de  \\\n",
       "TransactionID                                      ...                         \n",
       "3001687        226.0  327.000000  87.00000    1.0  ...                     0   \n",
       "3001688        117.0  337.000000  87.00000  145.0  ...                     0   \n",
       "3001689        226.0  290.733794  86.80063    1.0  ...                     0   \n",
       "3001690        226.0  126.000000  87.00000    1.0  ...                     0   \n",
       "3001692        226.0  476.000000  87.00000    1.0  ...                     0   \n",
       "\n",
       "               P_emaildomain_windstream.net  P_emaildomain_yahoo.co.jp  \\\n",
       "TransactionID                                                            \n",
       "3001687                                   0                          0   \n",
       "3001688                                   0                          0   \n",
       "3001689                                   0                          0   \n",
       "3001690                                   0                          0   \n",
       "3001692                                   0                          0   \n",
       "\n",
       "               P_emaildomain_yahoo.co.uk  P_emaildomain_yahoo.com  \\\n",
       "TransactionID                                                       \n",
       "3001687                                0                        0   \n",
       "3001688                                0                        0   \n",
       "3001689                                0                        0   \n",
       "3001690                                0                        0   \n",
       "3001692                                0                        0   \n",
       "\n",
       "               P_emaildomain_yahoo.com.mx  P_emaildomain_yahoo.de  \\\n",
       "TransactionID                                                       \n",
       "3001687                                 0                       0   \n",
       "3001688                                 0                       0   \n",
       "3001689                                 0                       0   \n",
       "3001690                                 0                       0   \n",
       "3001692                                 0                       0   \n",
       "\n",
       "               P_emaildomain_yahoo.es  P_emaildomain_yahoo.fr  \\\n",
       "TransactionID                                                   \n",
       "3001687                             0                       0   \n",
       "3001688                             0                       0   \n",
       "3001689                             0                       0   \n",
       "3001690                             0                       0   \n",
       "3001692                             0                       0   \n",
       "\n",
       "               P_emaildomain_ymail.com  \n",
       "TransactionID                           \n",
       "3001687                              0  \n",
       "3001688                              0  \n",
       "3001689                              0  \n",
       "3001690                              0  \n",
       "3001692                              0  \n",
       "\n",
       "[5 rows x 267 columns]"
      ]
     },
     "execution_count": 3,
     "metadata": {},
     "output_type": "execute_result"
    }
   ],
   "source": [
    "# from this data we get our target data\n",
    "df.head(5)"
   ]
  },
  {
   "cell_type": "code",
   "execution_count": 4,
   "metadata": {},
   "outputs": [
    {
     "data": {
      "text/plain": [
       "(533007, 267)"
      ]
     },
     "execution_count": 4,
     "metadata": {},
     "output_type": "execute_result"
    }
   ],
   "source": [
    "df.shape"
   ]
  },
  {
   "cell_type": "code",
   "execution_count": 5,
   "metadata": {},
   "outputs": [
    {
     "name": "stdout",
     "output_type": "stream",
     "text": [
      "Examples:\n",
      "    Total: 533007\n",
      "    Positive: 17838 (3.35% of total)\n",
      "\n"
     ]
    }
   ],
   "source": [
    "# examining classes\n",
    "neg, pos = np.bincount(df['isFraud'])\n",
    "total = neg + pos\n",
    "print('Examples:\\n    Total: {}\\n    Positive: {} ({:.2f}% of total)\\n'.format(\n",
    "    total, pos, 100 * pos / total))"
   ]
  },
  {
   "cell_type": "code",
   "execution_count": 6,
   "metadata": {},
   "outputs": [],
   "source": [
    "cleaned_df = df.copy()\n",
    "\n",
    "# The `Amount` column covers a huge range. Convert to log-space.\n",
    "eps=0.001 # 0 => 0.1¢\n",
    "cleaned_df['Log Ammount'] = np.log(cleaned_df.pop('TransactionAmt')+eps)"
   ]
  },
  {
   "cell_type": "code",
   "execution_count": 7,
   "metadata": {},
   "outputs": [],
   "source": [
    "# Use a utility from sklearn to split and shuffle our dataset.\n",
    "train_df, test_df = train_test_split(cleaned_df, test_size=0.2)\n",
    "train_df, val_df = train_test_split(train_df, test_size=0.2)\n",
    "\n",
    "# Form np arrays of labels and features.\n",
    "train_labels = np.array(train_df.pop('isFraud'))\n",
    "bool_train_labels = train_labels != 0\n",
    "val_labels = np.array(val_df.pop('isFraud'))\n",
    "test_labels = np.array(test_df.pop('isFraud'))\n",
    "\n",
    "train_features = np.array(train_df)\n",
    "val_features = np.array(val_df)\n",
    "test_features = np.array(test_df)"
   ]
  },
  {
   "cell_type": "code",
   "execution_count": 8,
   "metadata": {},
   "outputs": [
    {
     "name": "stdout",
     "output_type": "stream",
     "text": [
      "Training labels shape: (341124,)\n",
      "Validation labels shape: (85281,)\n",
      "Test labels shape: (106602,)\n",
      "Training features shape: (341124, 266)\n",
      "Validation features shape: (85281, 266)\n",
      "Test features shape: (106602, 266)\n"
     ]
    }
   ],
   "source": [
    "#Normalize the input features using the sklearn StandardScaler. \n",
    "#This will set the mean to 0 and standard deviation to 1.\n",
    "scaler = StandardScaler()\n",
    "train_features = scaler.fit_transform(train_features)\n",
    "\n",
    "val_features = scaler.transform(val_features)\n",
    "test_features = scaler.transform(test_features)\n",
    "\n",
    "train_features = np.clip(train_features, -5, 5)\n",
    "val_features = np.clip(val_features, -5, 5)\n",
    "test_features = np.clip(test_features, -5, 5)\n",
    "pos_df = pd.DataFrame(train_features[ bool_train_labels], columns = train_df.columns)\n",
    "neg_df = pd.DataFrame(train_features[~bool_train_labels], columns = train_df.columns)\n",
    "\n",
    "print('Training labels shape:', train_labels.shape)\n",
    "print('Validation labels shape:', val_labels.shape)\n",
    "print('Test labels shape:', test_labels.shape)\n",
    "\n",
    "print('Training features shape:', train_features.shape)\n",
    "print('Validation features shape:', val_features.shape)\n",
    "print('Test features shape:', test_features.shape)"
   ]
  },
  {
   "cell_type": "code",
   "execution_count": 9,
   "metadata": {},
   "outputs": [
    {
     "name": "stdout",
     "output_type": "stream",
     "text": [
      "WARNING:tensorflow:From /Users/abdygaziev/anaconda3/envs/learn-deep/lib/python3.6/site-packages/tensorflow/python/ops/resource_variable_ops.py:435: colocate_with (from tensorflow.python.framework.ops) is deprecated and will be removed in a future version.\n",
      "Instructions for updating:\n",
      "Colocations handled automatically by placer.\n"
     ]
    }
   ],
   "source": [
    "METRICS = [\n",
    "      keras.metrics.TruePositives(name='tp'),\n",
    "      keras.metrics.FalsePositives(name='fp'),\n",
    "      keras.metrics.TrueNegatives(name='tn'),\n",
    "      keras.metrics.FalseNegatives(name='fn'), \n",
    "      keras.metrics.BinaryAccuracy(name='accuracy'),\n",
    "      keras.metrics.Precision(name='precision'),\n",
    "      keras.metrics.Recall(name='recall')]\n",
    "\n",
    "def make_model(metrics = METRICS, output_bias=None):\n",
    "    if output_bias is not None:\n",
    "        output_bias = tf.keras.initializers.Constant(output_bias)\n",
    "    model = keras.Sequential([\n",
    "        keras.layers.Dense(\n",
    "            16, activation='relu',\n",
    "            input_shape=(train_features.shape[-1],)),\n",
    "        keras.layers.Dropout(0.5),\n",
    "        keras.layers.Dense(1, activation='sigmoid',\n",
    "                         bias_initializer=output_bias),\n",
    "  ])\n",
    "\n",
    "    model.compile(\n",
    "        optimizer=keras.optimizers.Adam(lr=1e-3),\n",
    "        loss=keras.losses.BinaryCrossentropy(),\n",
    "        metrics=metrics)\n",
    "\n",
    "    return model"
   ]
  },
  {
   "cell_type": "code",
   "execution_count": 10,
   "metadata": {},
   "outputs": [],
   "source": [
    "#buidling a model\n",
    "EPOCHS = 100\n",
    "BATCH_SIZE = 2048\n",
    "\n",
    "early_stopping = tf.keras.callbacks.EarlyStopping(\n",
    "    monitor='val_auc', \n",
    "    verbose=1,\n",
    "    patience=10,\n",
    "    mode='max',\n",
    "    restore_best_weights=True)"
   ]
  },
  {
   "cell_type": "code",
   "execution_count": 11,
   "metadata": {},
   "outputs": [
    {
     "name": "stdout",
     "output_type": "stream",
     "text": [
      "WARNING:tensorflow:From /Users/abdygaziev/anaconda3/envs/learn-deep/lib/python3.6/site-packages/tensorflow/python/keras/layers/core.py:143: calling dropout (from tensorflow.python.ops.nn_ops) with keep_prob is deprecated and will be removed in a future version.\n",
      "Instructions for updating:\n",
      "Please use `rate` instead of `keep_prob`. Rate should be set to `rate = 1 - keep_prob`.\n",
      "WARNING:tensorflow:From /Users/abdygaziev/anaconda3/envs/learn-deep/lib/python3.6/site-packages/tensorflow/python/keras/utils/losses_utils.py:170: to_float (from tensorflow.python.ops.math_ops) is deprecated and will be removed in a future version.\n",
      "Instructions for updating:\n",
      "Use tf.cast instead.\n",
      "_________________________________________________________________\n",
      "Layer (type)                 Output Shape              Param #   \n",
      "=================================================================\n",
      "dense (Dense)                (None, 16)                4272      \n",
      "_________________________________________________________________\n",
      "dropout (Dropout)            (None, 16)                0         \n",
      "_________________________________________________________________\n",
      "dense_1 (Dense)              (None, 1)                 17        \n",
      "=================================================================\n",
      "Total params: 4,289\n",
      "Trainable params: 4,289\n",
      "Non-trainable params: 0\n",
      "_________________________________________________________________\n"
     ]
    }
   ],
   "source": [
    "model = make_model()\n",
    "model.summary()"
   ]
  },
  {
   "cell_type": "code",
   "execution_count": 12,
   "metadata": {},
   "outputs": [
    {
     "data": {
      "text/plain": [
       "array([[0.88664234],\n",
       "       [0.12426606],\n",
       "       [0.34886593],\n",
       "       [0.14765677],\n",
       "       [0.13951358],\n",
       "       [0.25482392],\n",
       "       [0.4527484 ],\n",
       "       [0.080982  ],\n",
       "       [0.2075168 ],\n",
       "       [0.24749799]], dtype=float32)"
      ]
     },
     "execution_count": 12,
     "metadata": {},
     "output_type": "execute_result"
    }
   ],
   "source": [
    "model.predict(train_features[:10])"
   ]
  },
  {
   "cell_type": "code",
   "execution_count": 13,
   "metadata": {},
   "outputs": [
    {
     "name": "stdout",
     "output_type": "stream",
     "text": [
      "Loss: 0.3821\n"
     ]
    }
   ],
   "source": [
    "results = model.evaluate(train_features, train_labels, batch_size=BATCH_SIZE, verbose=0)\n",
    "print(\"Loss: {:0.4f}\".format(results[0]))"
   ]
  },
  {
   "cell_type": "code",
   "execution_count": 14,
   "metadata": {},
   "outputs": [
    {
     "data": {
      "text/plain": [
       "array([-3.36316399])"
      ]
     },
     "execution_count": 14,
     "metadata": {},
     "output_type": "execute_result"
    }
   ],
   "source": [
    "initial_bias = np.log([pos/neg])\n",
    "initial_bias"
   ]
  },
  {
   "cell_type": "code",
   "execution_count": 15,
   "metadata": {},
   "outputs": [
    {
     "data": {
      "text/plain": [
       "array([[0.00602597],\n",
       "       [0.07672566],\n",
       "       [0.13021064],\n",
       "       [0.05583805],\n",
       "       [0.05773321],\n",
       "       [0.04503769],\n",
       "       [0.05500486],\n",
       "       [0.02448329],\n",
       "       [0.09103196],\n",
       "       [0.03213195]], dtype=float32)"
      ]
     },
     "execution_count": 15,
     "metadata": {},
     "output_type": "execute_result"
    }
   ],
   "source": [
    "model = make_model(output_bias = initial_bias)\n",
    "model.predict(train_features[:10])"
   ]
  },
  {
   "cell_type": "code",
   "execution_count": 16,
   "metadata": {},
   "outputs": [
    {
     "name": "stdout",
     "output_type": "stream",
     "text": [
      "Loss: 0.1844\n"
     ]
    }
   ],
   "source": [
    "results = model.evaluate(train_features, train_labels, batch_size=BATCH_SIZE, verbose=0)\n",
    "print(\"Loss: {:0.4f}\".format(results[0]))"
   ]
  },
  {
   "cell_type": "code",
   "execution_count": 17,
   "metadata": {},
   "outputs": [
    {
     "name": "stdout",
     "output_type": "stream",
     "text": [
      "WARNING:tensorflow:This model was compiled with a Keras optimizer (<tensorflow.python.keras.optimizers.Adam object at 0x1a3f20a860>) but is being saved in TensorFlow format with `save_weights`. The model's weights will be saved, but unlike with TensorFlow optimizers in the TensorFlow format the optimizer's state will not be saved.\n",
      "\n",
      "Consider using a TensorFlow optimizer from `tf.train`.\n",
      "WARNING:tensorflow:From /Users/abdygaziev/anaconda3/envs/learn-deep/lib/python3.6/site-packages/tensorflow/python/keras/engine/network.py:1436: update_checkpoint_state (from tensorflow.python.training.checkpoint_management) is deprecated and will be removed in a future version.\n",
      "Instructions for updating:\n",
      "Use tf.train.CheckpointManager to manage checkpoints rather than manually editing the Checkpoint proto.\n"
     ]
    }
   ],
   "source": [
    "initial_weights = os.path.join(tempfile.mkdtemp(),'initial_weights')\n",
    "model.save_weights(initial_weights)"
   ]
  },
  {
   "cell_type": "code",
   "execution_count": 18,
   "metadata": {},
   "outputs": [
    {
     "name": "stdout",
     "output_type": "stream",
     "text": [
      "WARNING:tensorflow:From /Users/abdygaziev/anaconda3/envs/learn-deep/lib/python3.6/site-packages/tensorflow/python/ops/math_ops.py:3066: to_int32 (from tensorflow.python.ops.math_ops) is deprecated and will be removed in a future version.\n",
      "Instructions for updating:\n",
      "Use tf.cast instead.\n"
     ]
    }
   ],
   "source": [
    "model = make_model()\n",
    "model.load_weights(initial_weights)\n",
    "model.layers[-1].bias.assign([0.0])\n",
    "zero_bias_history = model.fit(\n",
    "    train_features,\n",
    "    train_labels,\n",
    "    batch_size=BATCH_SIZE,\n",
    "    epochs=20,\n",
    "    validation_data=(val_features, val_labels), \n",
    "    verbose=0)"
   ]
  },
  {
   "cell_type": "code",
   "execution_count": 19,
   "metadata": {},
   "outputs": [],
   "source": [
    "model = make_model()\n",
    "model.load_weights(initial_weights)\n",
    "careful_bias_history = model.fit(\n",
    "    train_features,\n",
    "    train_labels,\n",
    "    batch_size=BATCH_SIZE,\n",
    "    epochs=20,\n",
    "    validation_data=(val_features, val_labels), \n",
    "    verbose=0)"
   ]
  },
  {
   "cell_type": "code",
   "execution_count": 20,
   "metadata": {},
   "outputs": [],
   "source": [
    "mpl.rcParams['figure.figsize'] = (12, 10)\n",
    "colors = plt.rcParams['axes.prop_cycle'].by_key()['color']"
   ]
  },
  {
   "cell_type": "code",
   "execution_count": 21,
   "metadata": {},
   "outputs": [],
   "source": [
    "def plot_loss(history, label, n):\n",
    "  # Use a log scale to show the wide range of values.\n",
    "    plt.semilogy(history.epoch,  history.history['loss'], color=colors[n], label='Train '+label)\n",
    "    plt.semilogy(history.epoch,  history.history['val_loss'],\n",
    "              color=colors[n], label='Val '+label,\n",
    "              linestyle=\"--\")\n",
    "    plt.xlabel('Epoch')\n",
    "    plt.ylabel('Loss')\n",
    "  \n",
    "    plt.legend()"
   ]
  },
  {
   "cell_type": "code",
   "execution_count": 22,
   "metadata": {},
   "outputs": [
    {
     "data": {
      "image/png": "[encoded data removed]",
      "text/plain": [
       "<Figure size 864x720 with 1 Axes>"
      ]
     },
     "metadata": {
      "needs_background": "light"
     },
     "output_type": "display_data"
    }
   ],
   "source": [
    "plot_loss(zero_bias_history, \"Zero Bias\", 0)\n",
    "plot_loss(careful_bias_history, \"Careful Bias\", 1)"
   ]
  },
  {
   "cell_type": "code",
   "execution_count": null,
   "metadata": {},
   "outputs": [
    {
     "name": "stdout",
     "output_type": "stream",
     "text": [
      "Train on 341124 samples, validate on 85281 samples\n",
      "Epoch 1/100\n",
      "339968/341124 [============================>.] - ETA: 0s - loss: 0.1324 - tp: 956.0000 - fp: 804.0000 - tn: 327817.0000 - fn: 10391.0000 - accuracy: 0.9671 - precision: 0.5432 - recall: 0.0843WARNING:tensorflow:Early stopping conditioned on metric `val_auc` which is not available. Available metrics are: loss,tp,fp,tn,fn,accuracy,precision,recall,val_loss,val_tp,val_fp,val_tn,val_fn,val_accuracy,val_precision,val_recall\n",
      "341124/341124 [==============================] - 4s 13us/sample - loss: 0.1323 - tp: 962.0000 - fp: 806.0000 - tn: 328939.0000 - fn: 10417.0000 - accuracy: 0.9671 - precision: 0.5441 - recall: 0.0845 - val_loss: 0.1158 - val_tp: 340.0000 - val_fp: 66.0000 - val_tn: 82316.0000 - val_fn: 2559.0000 - val_accuracy: 0.9692 - val_precision: 0.8374 - val_recall: 0.1173\n",
      "Epoch 2/100\n",
      "339968/341124 [============================>.] - ETA: 0s - loss: 0.1178 - tp: 1337.0000 - fp: 531.0000 - tn: 328090.0000 - fn: 10010.0000 - accuracy: 0.9690 - precision: 0.7157 - recall: 0.1178WARNING:tensorflow:Early stopping conditioned on metric `val_auc` which is not available. Available metrics are: loss,tp,fp,tn,fn,accuracy,precision,recall,val_loss,val_tp,val_fp,val_tn,val_fn,val_accuracy,val_precision,val_recall\n",
      "341124/341124 [==============================] - 4s 11us/sample - loss: 0.1178 - tp: 1341.0000 - fp: 531.0000 - tn: 329214.0000 - fn: 10038.0000 - accuracy: 0.9690 - precision: 0.7163 - recall: 0.1178 - val_loss: 0.1115 - val_tp: 384.0000 - val_fp: 93.0000 - val_tn: 82289.0000 - val_fn: 2515.0000 - val_accuracy: 0.9694 - val_precision: 0.8050 - val_recall: 0.1325\n",
      "Epoch 3/100\n",
      "337920/341124 [============================>.] - ETA: 0s - loss: 0.1151 - tp: 1449.0000 - fp: 581.0000 - tn: 326069.0000 - fn: 9821.0000 - accuracy: 0.9692 - precision: 0.7138 - recall: 0.1286WARNING:tensorflow:Early stopping conditioned on metric `val_auc` which is not available. Available metrics are: loss,tp,fp,tn,fn,accuracy,precision,recall,val_loss,val_tp,val_fp,val_tn,val_fn,val_accuracy,val_precision,val_recall\n",
      "341124/341124 [==============================] - 4s 11us/sample - loss: 0.1150 - tp: 1466.0000 - fp: 588.0000 - tn: 329157.0000 - fn: 9913.0000 - accuracy: 0.9692 - precision: 0.7137 - recall: 0.1288 - val_loss: 0.1104 - val_tp: 361.0000 - val_fp: 70.0000 - val_tn: 82312.0000 - val_fn: 2538.0000 - val_accuracy: 0.9694 - val_precision: 0.8376 - val_recall: 0.1245\n",
      "Epoch 4/100\n",
      "339968/341124 [============================>.] - ETA: 0s - loss: 0.1127 - tp: 1620.0000 - fp: 583.0000 - tn: 328048.0000 - fn: 9717.0000 - accuracy: 0.9697 - precision: 0.7354 - recall: 0.1429WARNING:tensorflow:Early stopping conditioned on metric `val_auc` which is not available. Available metrics are: loss,tp,fp,tn,fn,accuracy,precision,recall,val_loss,val_tp,val_fp,val_tn,val_fn,val_accuracy,val_precision,val_recall\n",
      "341124/341124 [==============================] - 4s 11us/sample - loss: 0.1127 - tp: 1629.0000 - fp: 584.0000 - tn: 329161.0000 - fn: 9750.0000 - accuracy: 0.9697 - precision: 0.7361 - recall: 0.1432 - val_loss: 0.1094 - val_tp: 378.0000 - val_fp: 69.0000 - val_tn: 82313.0000 - val_fn: 2521.0000 - val_accuracy: 0.9696 - val_precision: 0.8456 - val_recall: 0.1304\n",
      "Epoch 5/100\n",
      "339968/341124 [============================>.] - ETA: 0s - loss: 0.1119 - tp: 1649.0000 - fp: 623.0000 - tn: 328017.0000 - fn: 9679.0000 - accuracy: 0.9697 - precision: 0.7258 - recall: 0.1456WARNING:tensorflow:Early stopping conditioned on metric `val_auc` which is not available. Available metrics are: loss,tp,fp,tn,fn,accuracy,precision,recall,val_loss,val_tp,val_fp,val_tn,val_fn,val_accuracy,val_precision,val_recall\n",
      "341124/341124 [==============================] - 4s 11us/sample - loss: 0.1120 - tp: 1658.0000 - fp: 624.0000 - tn: 329121.0000 - fn: 9721.0000 - accuracy: 0.9697 - precision: 0.7266 - recall: 0.1457 - val_loss: 0.1084 - val_tp: 424.0000 - val_fp: 69.0000 - val_tn: 82313.0000 - val_fn: 2475.0000 - val_accuracy: 0.9702 - val_precision: 0.8600 - val_recall: 0.1463\n",
      "Epoch 6/100\n",
      "339968/341124 [============================>.] - ETA: 0s - loss: 0.1113 - tp: 1738.0000 - fp: 615.0000 - tn: 328013.0000 - fn: 9602.0000 - accuracy: 0.9699 - precision: 0.7386 - recall: 0.1533WARNING:tensorflow:Early stopping conditioned on metric `val_auc` which is not available. Available metrics are: loss,tp,fp,tn,fn,accuracy,precision,recall,val_loss,val_tp,val_fp,val_tn,val_fn,val_accuracy,val_precision,val_recall\n",
      "341124/341124 [==============================] - 4s 11us/sample - loss: 0.1113 - tp: 1743.0000 - fp: 617.0000 - tn: 329128.0000 - fn: 9636.0000 - accuracy: 0.9699 - precision: 0.7386 - recall: 0.1532 - val_loss: 0.1079 - val_tp: 416.0000 - val_fp: 72.0000 - val_tn: 82310.0000 - val_fn: 2483.0000 - val_accuracy: 0.9700 - val_precision: 0.8525 - val_recall: 0.1435\n",
      "Epoch 7/100\n",
      "337920/341124 [============================>.] - ETA: 0s - loss: 0.1105 - tp: 1766.0000 - fp: 620.0000 - tn: 326027.0000 - fn: 9507.0000 - accuracy: 0.9700 - precision: 0.7402 - recall: 0.1567WARNING:tensorflow:Early stopping conditioned on metric `val_auc` which is not available. Available metrics are: loss,tp,fp,tn,fn,accuracy,precision,recall,val_loss,val_tp,val_fp,val_tn,val_fn,val_accuracy,val_precision,val_recall\n",
      "341124/341124 [==============================] - 4s 11us/sample - loss: 0.1105 - tp: 1780.0000 - fp: 623.0000 - tn: 329122.0000 - fn: 9599.0000 - accuracy: 0.9700 - precision: 0.7407 - recall: 0.1564 - val_loss: 0.1074 - val_tp: 405.0000 - val_fp: 62.0000 - val_tn: 82320.0000 - val_fn: 2494.0000 - val_accuracy: 0.9700 - val_precision: 0.8672 - val_recall: 0.1397\n",
      "Epoch 8/100\n",
      "335872/341124 [============================>.] - ETA: 0s - loss: 0.1101 - tp: 1832.0000 - fp: 596.0000 - tn: 324045.0000 - fn: 9399.0000 - accuracy: 0.9702 - precision: 0.7545 - recall: 0.1631WARNING:tensorflow:Early stopping conditioned on metric `val_auc` which is not available. Available metrics are: loss,tp,fp,tn,fn,accuracy,precision,recall,val_loss,val_tp,val_fp,val_tn,val_fn,val_accuracy,val_precision,val_recall\n",
      "341124/341124 [==============================] - 4s 11us/sample - loss: 0.1100 - tp: 1851.0000 - fp: 608.0000 - tn: 329137.0000 - fn: 9528.0000 - accuracy: 0.9703 - precision: 0.7527 - recall: 0.1627 - val_loss: 0.1066 - val_tp: 437.0000 - val_fp: 74.0000 - val_tn: 82308.0000 - val_fn: 2462.0000 - val_accuracy: 0.9703 - val_precision: 0.8552 - val_recall: 0.1507\n",
      "Epoch 9/100\n",
      "339968/341124 [============================>.] - ETA: 0s - loss: 0.1098 - tp: 1856.0000 - fp: 626.0000 - tn: 328003.0000 - fn: 9483.0000 - accuracy: 0.9703 - precision: 0.7478 - recall: 0.1637WARNING:tensorflow:Early stopping conditioned on metric `val_auc` which is not available. Available metrics are: loss,tp,fp,tn,fn,accuracy,precision,recall,val_loss,val_tp,val_fp,val_tn,val_fn,val_accuracy,val_precision,val_recall\n",
      "341124/341124 [==============================] - 4s 11us/sample - loss: 0.1098 - tp: 1864.0000 - fp: 630.0000 - tn: 329115.0000 - fn: 9515.0000 - accuracy: 0.9703 - precision: 0.7474 - recall: 0.1638 - val_loss: 0.1064 - val_tp: 494.0000 - val_fp: 102.0000 - val_tn: 82280.0000 - val_fn: 2405.0000 - val_accuracy: 0.9706 - val_precision: 0.8289 - val_recall: 0.1704\n",
      "Epoch 10/100\n",
      "335872/341124 [============================>.] - ETA: 0s - loss: 0.1090 - tp: 1887.0000 - fp: 607.0000 - tn: 324082.0000 - fn: 9296.0000 - accuracy: 0.9705 - precision: 0.7566 - recall: 0.1687WARNING:tensorflow:Early stopping conditioned on metric `val_auc` which is not available. Available metrics are: loss,tp,fp,tn,fn,accuracy,precision,recall,val_loss,val_tp,val_fp,val_tn,val_fn,val_accuracy,val_precision,val_recall\n",
      "341124/341124 [==============================] - 4s 11us/sample - loss: 0.1091 - tp: 1922.0000 - fp: 619.0000 - tn: 329126.0000 - fn: 9457.0000 - accuracy: 0.9705 - precision: 0.7564 - recall: 0.1689 - val_loss: 0.1058 - val_tp: 448.0000 - val_fp: 74.0000 - val_tn: 82308.0000 - val_fn: 2451.0000 - val_accuracy: 0.9704 - val_precision: 0.8582 - val_recall: 0.1545\n",
      "Epoch 11/100\n",
      "339968/341124 [============================>.] - ETA: 0s - loss: 0.1082 - tp: 1951.0000 - fp: 612.0000 - tn: 328022.0000 - fn: 9383.0000 - accuracy: 0.9706 - precision: 0.7612 - recall: 0.1721WARNING:tensorflow:Early stopping conditioned on metric `val_auc` which is not available. Available metrics are: loss,tp,fp,tn,fn,accuracy,precision,recall,val_loss,val_tp,val_fp,val_tn,val_fn,val_accuracy,val_precision,val_recall\n",
      "341124/341124 [==============================] - 4s 11us/sample - loss: 0.1083 - tp: 1955.0000 - fp: 614.0000 - tn: 329131.0000 - fn: 9424.0000 - accuracy: 0.9706 - precision: 0.7610 - recall: 0.1718 - val_loss: 0.1050 - val_tp: 481.0000 - val_fp: 84.0000 - val_tn: 82298.0000 - val_fn: 2418.0000 - val_accuracy: 0.9707 - val_precision: 0.8513 - val_recall: 0.1659\n",
      "Epoch 12/100\n",
      "339968/341124 [============================>.] - ETA: 0s - loss: 0.1084 - tp: 1972.0000 - fp: 620.0000 - tn: 328004.0000 - fn: 9372.0000 - accuracy: 0.9706 - precision: 0.7608 - recall: 0.1738WARNING:tensorflow:Early stopping conditioned on metric `val_auc` which is not available. Available metrics are: loss,tp,fp,tn,fn,accuracy,precision,recall,val_loss,val_tp,val_fp,val_tn,val_fn,val_accuracy,val_precision,val_recall\n",
      "341124/341124 [==============================] - 4s 11us/sample - loss: 0.1085 - tp: 1978.0000 - fp: 623.0000 - tn: 329122.0000 - fn: 9401.0000 - accuracy: 0.9706 - precision: 0.7605 - recall: 0.1738 - val_loss: 0.1052 - val_tp: 463.0000 - val_fp: 69.0000 - val_tn: 82313.0000 - val_fn: 2436.0000 - val_accuracy: 0.9706 - val_precision: 0.8703 - val_recall: 0.1597\n",
      "Epoch 13/100\n",
      "337920/341124 [============================>.] - ETA: 0s - loss: 0.1077 - tp: 1991.0000 - fp: 646.0000 - tn: 326013.0000 - fn: 9270.0000 - accuracy: 0.9707 - precision: 0.7550 - recall: 0.1768WARNING:tensorflow:Early stopping conditioned on metric `val_auc` which is not available. Available metrics are: loss,tp,fp,tn,fn,accuracy,precision,recall,val_loss,val_tp,val_fp,val_tn,val_fn,val_accuracy,val_precision,val_recall\n",
      "341124/341124 [==============================] - 4s 11us/sample - loss: 0.1076 - tp: 2020.0000 - fp: 651.0000 - tn: 329094.0000 - fn: 9359.0000 - accuracy: 0.9707 - precision: 0.7563 - recall: 0.1775 - val_loss: 0.1046 - val_tp: 487.0000 - val_fp: 84.0000 - val_tn: 82298.0000 - val_fn: 2412.0000 - val_accuracy: 0.9707 - val_precision: 0.8529 - val_recall: 0.1680\n",
      "Epoch 14/100\n",
      "335872/341124 [============================>.] - ETA: 0s - loss: 0.1077 - tp: 2025.0000 - fp: 628.0000 - tn: 324028.0000 - fn: 9191.0000 - accuracy: 0.9708 - precision: 0.7633 - recall: 0.1805WARNING:tensorflow:Early stopping conditioned on metric `val_auc` which is not available. Available metrics are: loss,tp,fp,tn,fn,accuracy,precision,recall,val_loss,val_tp,val_fp,val_tn,val_fn,val_accuracy,val_precision,val_recall\n",
      "341124/341124 [==============================] - 4s 13us/sample - loss: 0.1076 - tp: 2056.0000 - fp: 639.0000 - tn: 329106.0000 - fn: 9323.0000 - accuracy: 0.9708 - precision: 0.7629 - recall: 0.1807 - val_loss: 0.1045 - val_tp: 466.0000 - val_fp: 68.0000 - val_tn: 82314.0000 - val_fn: 2433.0000 - val_accuracy: 0.9707 - val_precision: 0.8727 - val_recall: 0.1607\n",
      "Epoch 15/100\n",
      "337920/341124 [============================>.] - ETA: 0s - loss: 0.1075 - tp: 2052.0000 - fp: 647.0000 - tn: 326000.0000 - fn: 9221.0000 - accuracy: 0.9708 - precision: 0.7603 - recall: 0.1820WARNING:tensorflow:Early stopping conditioned on metric `val_auc` which is not available. Available metrics are: loss,tp,fp,tn,fn,accuracy,precision,recall,val_loss,val_tp,val_fp,val_tn,val_fn,val_accuracy,val_precision,val_recall\n",
      "341124/341124 [==============================] - 4s 11us/sample - loss: 0.1075 - tp: 2069.0000 - fp: 656.0000 - tn: 329089.0000 - fn: 9310.0000 - accuracy: 0.9708 - precision: 0.7593 - recall: 0.1818 - val_loss: 0.1041 - val_tp: 484.0000 - val_fp: 77.0000 - val_tn: 82305.0000 - val_fn: 2415.0000 - val_accuracy: 0.9708 - val_precision: 0.8627 - val_recall: 0.1670\n",
      "Epoch 16/100\n",
      "339968/341124 [============================>.] - ETA: 0s - loss: 0.1071 - tp: 2090.0000 - fp: 641.0000 - tn: 327988.0000 - fn: 9249.0000 - accuracy: 0.9709 - precision: 0.7653 - recall: 0.1843WARNING:tensorflow:Early stopping conditioned on metric `val_auc` which is not available. Available metrics are: loss,tp,fp,tn,fn,accuracy,precision,recall,val_loss,val_tp,val_fp,val_tn,val_fn,val_accuracy,val_precision,val_recall\n",
      "341124/341124 [==============================] - 4s 11us/sample - loss: 0.1072 - tp: 2095.0000 - fp: 642.0000 - tn: 329103.0000 - fn: 9284.0000 - accuracy: 0.9709 - precision: 0.7654 - recall: 0.1841 - val_loss: 0.1038 - val_tp: 514.0000 - val_fp: 96.0000 - val_tn: 82286.0000 - val_fn: 2385.0000 - val_accuracy: 0.9709 - val_precision: 0.8426 - val_recall: 0.1773\n",
      "Epoch 17/100\n",
      "337920/341124 [============================>.] - ETA: 0s - loss: 0.1070 - tp: 2098.0000 - fp: 652.0000 - tn: 325998.0000 - fn: 9172.0000 - accuracy: 0.9709 - precision: 0.7629 - recall: 0.1862WARNING:tensorflow:Early stopping conditioned on metric `val_auc` which is not available. Available metrics are: loss,tp,fp,tn,fn,accuracy,precision,recall,val_loss,val_tp,val_fp,val_tn,val_fn,val_accuracy,val_precision,val_recall\n",
      "341124/341124 [==============================] - 4s 11us/sample - loss: 0.1070 - tp: 2120.0000 - fp: 662.0000 - tn: 329083.0000 - fn: 9259.0000 - accuracy: 0.9709 - precision: 0.7620 - recall: 0.1863 - val_loss: 0.1038 - val_tp: 508.0000 - val_fp: 86.0000 - val_tn: 82296.0000 - val_fn: 2391.0000 - val_accuracy: 0.9710 - val_precision: 0.8552 - val_recall: 0.1752\n",
      "Epoch 18/100\n",
      "337920/341124 [============================>.] - ETA: 0s - loss: 0.1065 - tp: 2140.0000 - fp: 657.0000 - tn: 325989.0000 - fn: 9134.0000 - accuracy: 0.9710 - precision: 0.7651 - recall: 0.1898WARNING:tensorflow:Early stopping conditioned on metric `val_auc` which is not available. Available metrics are: loss,tp,fp,tn,fn,accuracy,precision,recall,val_loss,val_tp,val_fp,val_tn,val_fn,val_accuracy,val_precision,val_recall\n",
      "341124/341124 [==============================] - 4s 11us/sample - loss: 0.1064 - tp: 2161.0000 - fp: 658.0000 - tn: 329087.0000 - fn: 9218.0000 - accuracy: 0.9710 - precision: 0.7666 - recall: 0.1899 - val_loss: 0.1035 - val_tp: 501.0000 - val_fp: 80.0000 - val_tn: 82302.0000 - val_fn: 2398.0000 - val_accuracy: 0.9709 - val_precision: 0.8623 - val_recall: 0.1728\n",
      "Epoch 19/100\n",
      "337920/341124 [============================>.] - ETA: 0s - loss: 0.1062 - tp: 2173.0000 - fp: 663.0000 - tn: 325986.0000 - fn: 9098.0000 - accuracy: 0.9711 - precision: 0.7662 - recall: 0.1928WARNING:tensorflow:Early stopping conditioned on metric `val_auc` which is not available. Available metrics are: loss,tp,fp,tn,fn,accuracy,precision,recall,val_loss,val_tp,val_fp,val_tn,val_fn,val_accuracy,val_precision,val_recall\n",
      "341124/341124 [==============================] - 4s 11us/sample - loss: 0.1062 - tp: 2191.0000 - fp: 668.0000 - tn: 329077.0000 - fn: 9188.0000 - accuracy: 0.9711 - precision: 0.7664 - recall: 0.1925 - val_loss: 0.1040 - val_tp: 482.0000 - val_fp: 66.0000 - val_tn: 82316.0000 - val_fn: 2417.0000 - val_accuracy: 0.9709 - val_precision: 0.8796 - val_recall: 0.1663\n",
      "Epoch 20/100\n",
      "339968/341124 [============================>.] - ETA: 0s - loss: 0.1063 - tp: 2206.0000 - fp: 642.0000 - tn: 327975.0000 - fn: 9145.0000 - accuracy: 0.9712 - precision: 0.7746 - recall: 0.1943WARNING:tensorflow:Early stopping conditioned on metric `val_auc` which is not available. Available metrics are: loss,tp,fp,tn,fn,accuracy,precision,recall,val_loss,val_tp,val_fp,val_tn,val_fn,val_accuracy,val_precision,val_recall\n",
      "341124/341124 [==============================] - 4s 11us/sample - loss: 0.1063 - tp: 2210.0000 - fp: 647.0000 - tn: 329098.0000 - fn: 9169.0000 - accuracy: 0.9712 - precision: 0.7735 - recall: 0.1942 - val_loss: 0.1030 - val_tp: 534.0000 - val_fp: 90.0000 - val_tn: 82292.0000 - val_fn: 2365.0000 - val_accuracy: 0.9712 - val_precision: 0.8558 - val_recall: 0.1842\n",
      "Epoch 21/100\n",
      "337920/341124 [============================>.] - ETA: 0s - loss: 0.1065 - tp: 2134.0000 - fp: 643.0000 - tn: 326003.0000 - fn: 9140.0000 - accuracy: 0.9710 - precision: 0.7685 - recall: 0.1893WARNING:tensorflow:Early stopping conditioned on metric `val_auc` which is not available. Available metrics are: loss,tp,fp,tn,fn,accuracy,precision,recall,val_loss,val_tp,val_fp,val_tn,val_fn,val_accuracy,val_precision,val_recall\n",
      "341124/341124 [==============================] - 4s 11us/sample - loss: 0.1064 - tp: 2160.0000 - fp: 647.0000 - tn: 329098.0000 - fn: 9219.0000 - accuracy: 0.9711 - precision: 0.7695 - recall: 0.1898 - val_loss: 0.1028 - val_tp: 542.0000 - val_fp: 92.0000 - val_tn: 82290.0000 - val_fn: 2357.0000 - val_accuracy: 0.9713 - val_precision: 0.8549 - val_recall: 0.1870\n",
      "Epoch 22/100\n",
      "337920/341124 [============================>.] - ETA: 0s - loss: 0.1059 - tp: 2229.0000 - fp: 645.0000 - tn: 326003.0000 - fn: 9043.0000 - accuracy: 0.9713 - precision: 0.7756 - recall: 0.1977WARNING:tensorflow:Early stopping conditioned on metric `val_auc` which is not available. Available metrics are: loss,tp,fp,tn,fn,accuracy,precision,recall,val_loss,val_tp,val_fp,val_tn,val_fn,val_accuracy,val_precision,val_recall\n",
      "341124/341124 [==============================] - 4s 11us/sample - loss: 0.1060 - tp: 2249.0000 - fp: 653.0000 - tn: 329092.0000 - fn: 9130.0000 - accuracy: 0.9713 - precision: 0.7750 - recall: 0.1976 - val_loss: 0.1024 - val_tp: 586.0000 - val_fp: 125.0000 - val_tn: 82257.0000 - val_fn: 2313.0000 - val_accuracy: 0.9714 - val_precision: 0.8242 - val_recall: 0.2021\n",
      "Epoch 23/100\n",
      "335872/341124 [============================>.] - ETA: 0s - loss: 0.1061 - tp: 2214.0000 - fp: 615.0000 - tn: 324028.0000 - fn: 9015.0000 - accuracy: 0.9713 - precision: 0.7826 - recall: 0.1972WARNING:tensorflow:Early stopping conditioned on metric `val_auc` which is not available. Available metrics are: loss,tp,fp,tn,fn,accuracy,precision,recall,val_loss,val_tp,val_fp,val_tn,val_fn,val_accuracy,val_precision,val_recall\n",
      "341124/341124 [==============================] - 4s 11us/sample - loss: 0.1058 - tp: 2256.0000 - fp: 624.0000 - tn: 329121.0000 - fn: 9123.0000 - accuracy: 0.9714 - precision: 0.7833 - recall: 0.1983 - val_loss: 0.1025 - val_tp: 602.0000 - val_fp: 142.0000 - val_tn: 82240.0000 - val_fn: 2297.0000 - val_accuracy: 0.9714 - val_precision: 0.8091 - val_recall: 0.2077\n",
      "Epoch 24/100\n",
      "337920/341124 [============================>.] - ETA: 0s - loss: 0.1061 - tp: 2173.0000 - fp: 647.0000 - tn: 326005.0000 - fn: 9095.0000 - accuracy: 0.9712 - precision: 0.7706 - recall: 0.1928WARNING:tensorflow:Early stopping conditioned on metric `val_auc` which is not available. Available metrics are: loss,tp,fp,tn,fn,accuracy,precision,recall,val_loss,val_tp,val_fp,val_tn,val_fn,val_accuracy,val_precision,val_recall\n",
      "341124/341124 [==============================] - 4s 11us/sample - loss: 0.1060 - tp: 2194.0000 - fp: 651.0000 - tn: 329094.0000 - fn: 9185.0000 - accuracy: 0.9712 - precision: 0.7712 - recall: 0.1928 - val_loss: 0.1024 - val_tp: 572.0000 - val_fp: 111.0000 - val_tn: 82271.0000 - val_fn: 2327.0000 - val_accuracy: 0.9714 - val_precision: 0.8375 - val_recall: 0.1973\n",
      "Epoch 25/100\n",
      "335872/341124 [============================>.] - ETA: 0s - loss: 0.1051 - tp: 2251.0000 - fp: 645.0000 - tn: 324051.0000 - fn: 8925.0000 - accuracy: 0.9715 - precision: 0.7773 - recall: 0.2014WARNING:tensorflow:Early stopping conditioned on metric `val_auc` which is not available. Available metrics are: loss,tp,fp,tn,fn,accuracy,precision,recall,val_loss,val_tp,val_fp,val_tn,val_fn,val_accuracy,val_precision,val_recall\n",
      "341124/341124 [==============================] - 4s 11us/sample - loss: 0.1054 - tp: 2285.0000 - fp: 653.0000 - tn: 329092.0000 - fn: 9094.0000 - accuracy: 0.9714 - precision: 0.7777 - recall: 0.2008 - val_loss: 0.1025 - val_tp: 521.0000 - val_fp: 69.0000 - val_tn: 82313.0000 - val_fn: 2378.0000 - val_accuracy: 0.9713 - val_precision: 0.8831 - val_recall: 0.1797\n",
      "Epoch 26/100\n",
      "335872/341124 [============================>.] - ETA: 0s - loss: 0.1050 - tp: 2266.0000 - fp: 650.0000 - tn: 324015.0000 - fn: 8941.0000 - accuracy: 0.9714 - precision: 0.7771 - recall: 0.2022WARNING:tensorflow:Early stopping conditioned on metric `val_auc` which is not available. Available metrics are: loss,tp,fp,tn,fn,accuracy,precision,recall,val_loss,val_tp,val_fp,val_tn,val_fn,val_accuracy,val_precision,val_recall\n",
      "341124/341124 [==============================] - 4s 11us/sample - loss: 0.1050 - tp: 2303.0000 - fp: 665.0000 - tn: 329080.0000 - fn: 9076.0000 - accuracy: 0.9714 - precision: 0.7759 - recall: 0.2024 - val_loss: 0.1019 - val_tp: 543.0000 - val_fp: 76.0000 - val_tn: 82306.0000 - val_fn: 2356.0000 - val_accuracy: 0.9715 - val_precision: 0.8772 - val_recall: 0.1873\n",
      "Epoch 27/100\n",
      "337920/341124 [============================>.] - ETA: 0s - loss: 0.1052 - tp: 2238.0000 - fp: 637.0000 - tn: 325999.0000 - fn: 9046.0000 - accuracy: 0.9713 - precision: 0.7784 - recall: 0.1983WARNING:tensorflow:Early stopping conditioned on metric `val_auc` which is not available. Available metrics are: loss,tp,fp,tn,fn,accuracy,precision,recall,val_loss,val_tp,val_fp,val_tn,val_fn,val_accuracy,val_precision,val_recall\n",
      "341124/341124 [==============================] - 4s 11us/sample - loss: 0.1052 - tp: 2253.0000 - fp: 641.0000 - tn: 329104.0000 - fn: 9126.0000 - accuracy: 0.9714 - precision: 0.7785 - recall: 0.1980 - val_loss: 0.1017 - val_tp: 576.0000 - val_fp: 100.0000 - val_tn: 82282.0000 - val_fn: 2323.0000 - val_accuracy: 0.9716 - val_precision: 0.8521 - val_recall: 0.1987\n",
      "Epoch 28/100\n",
      "337920/341124 [============================>.] - ETA: 0s - loss: 0.1054 - tp: 2269.0000 - fp: 639.0000 - tn: 326004.0000 - fn: 9008.0000 - accuracy: 0.9715 - precision: 0.7803 - recall: 0.2012WARNING:tensorflow:Early stopping conditioned on metric `val_auc` which is not available. Available metrics are: loss,tp,fp,tn,fn,accuracy,precision,recall,val_loss,val_tp,val_fp,val_tn,val_fn,val_accuracy,val_precision,val_recall\n",
      "341124/341124 [==============================] - 4s 11us/sample - loss: 0.1054 - tp: 2289.0000 - fp: 654.0000 - tn: 329091.0000 - fn: 9090.0000 - accuracy: 0.9714 - precision: 0.7778 - recall: 0.2012 - val_loss: 0.1015 - val_tp: 588.0000 - val_fp: 110.0000 - val_tn: 82272.0000 - val_fn: 2311.0000 - val_accuracy: 0.9716 - val_precision: 0.8424 - val_recall: 0.2028\n",
      "Epoch 29/100\n",
      "337920/341124 [============================>.] - ETA: 0s - loss: 0.1051 - tp: 2271.0000 - fp: 617.0000 - tn: 326041.0000 - fn: 8991.0000 - accuracy: 0.9716 - precision: 0.7864 - recall: 0.2017WARNING:tensorflow:Early stopping conditioned on metric `val_auc` which is not available. Available metrics are: loss,tp,fp,tn,fn,accuracy,precision,recall,val_loss,val_tp,val_fp,val_tn,val_fn,val_accuracy,val_precision,val_recall\n",
      "341124/341124 [==============================] - 4s 11us/sample - loss: 0.1051 - tp: 2295.0000 - fp: 620.0000 - tn: 329125.0000 - fn: 9084.0000 - accuracy: 0.9716 - precision: 0.7873 - recall: 0.2017 - val_loss: 0.1015 - val_tp: 569.0000 - val_fp: 91.0000 - val_tn: 82291.0000 - val_fn: 2330.0000 - val_accuracy: 0.9716 - val_precision: 0.8621 - val_recall: 0.1963\n",
      "Epoch 30/100\n",
      "335872/341124 [============================>.] - ETA: 0s - loss: 0.1050 - tp: 2269.0000 - fp: 642.0000 - tn: 324031.0000 - fn: 8930.0000 - accuracy: 0.9715 - precision: 0.7795 - recall: 0.2026WARNING:tensorflow:Early stopping conditioned on metric `val_auc` which is not available. Available metrics are: loss,tp,fp,tn,fn,accuracy,precision,recall,val_loss,val_tp,val_fp,val_tn,val_fn,val_accuracy,val_precision,val_recall\n",
      "341124/341124 [==============================] - 4s 11us/sample - loss: 0.1050 - tp: 2309.0000 - fp: 652.0000 - tn: 329093.0000 - fn: 9070.0000 - accuracy: 0.9715 - precision: 0.7798 - recall: 0.2029 - val_loss: 0.1015 - val_tp: 563.0000 - val_fp: 101.0000 - val_tn: 82281.0000 - val_fn: 2336.0000 - val_accuracy: 0.9714 - val_precision: 0.8479 - val_recall: 0.1942\n",
      "Epoch 31/100\n",
      "337920/341124 [============================>.] - ETA: 0s - loss: 0.1044 - tp: 2317.0000 - fp: 649.0000 - tn: 326000.0000 - fn: 8954.0000 - accuracy: 0.9716 - precision: 0.7812 - recall: 0.2056WARNING:tensorflow:Early stopping conditioned on metric `val_auc` which is not available. Available metrics are: loss,tp,fp,tn,fn,accuracy,precision,recall,val_loss,val_tp,val_fp,val_tn,val_fn,val_accuracy,val_precision,val_recall\n",
      "341124/341124 [==============================] - 4s 11us/sample - loss: 0.1045 - tp: 2334.0000 - fp: 652.0000 - tn: 329093.0000 - fn: 9045.0000 - accuracy: 0.9716 - precision: 0.7816 - recall: 0.2051 - val_loss: 0.1020 - val_tp: 535.0000 - val_fp: 67.0000 - val_tn: 82315.0000 - val_fn: 2364.0000 - val_accuracy: 0.9715 - val_precision: 0.8887 - val_recall: 0.1845\n",
      "Epoch 32/100\n",
      "339968/341124 [============================>.] - ETA: 0s - loss: 0.1043 - tp: 2382.0000 - fp: 638.0000 - tn: 327993.0000 - fn: 8955.0000 - accuracy: 0.9718 - precision: 0.7887 - recall: 0.2101WARNING:tensorflow:Early stopping conditioned on metric `val_auc` which is not available. Available metrics are: loss,tp,fp,tn,fn,accuracy,precision,recall,val_loss,val_tp,val_fp,val_tn,val_fn,val_accuracy,val_precision,val_recall\n",
      "341124/341124 [==============================] - 4s 11us/sample - loss: 0.1043 - tp: 2391.0000 - fp: 639.0000 - tn: 329106.0000 - fn: 8988.0000 - accuracy: 0.9718 - precision: 0.7891 - recall: 0.2101 - val_loss: 0.1013 - val_tp: 616.0000 - val_fp: 135.0000 - val_tn: 82247.0000 - val_fn: 2283.0000 - val_accuracy: 0.9716 - val_precision: 0.8202 - val_recall: 0.2125\n",
      "Epoch 33/100\n",
      "339968/341124 [============================>.] - ETA: 0s - loss: 0.1043 - tp: 2381.0000 - fp: 661.0000 - tn: 327970.0000 - fn: 8956.0000 - accuracy: 0.9717 - precision: 0.7827 - recall: 0.2100WARNING:tensorflow:Early stopping conditioned on metric `val_auc` which is not available. Available metrics are: loss,tp,fp,tn,fn,accuracy,precision,recall,val_loss,val_tp,val_fp,val_tn,val_fn,val_accuracy,val_precision,val_recall\n",
      "341124/341124 [==============================] - 4s 11us/sample - loss: 0.1043 - tp: 2387.0000 - fp: 662.0000 - tn: 329083.0000 - fn: 8992.0000 - accuracy: 0.9717 - precision: 0.7829 - recall: 0.2098 - val_loss: 0.1018 - val_tp: 519.0000 - val_fp: 68.0000 - val_tn: 82314.0000 - val_fn: 2380.0000 - val_accuracy: 0.9713 - val_precision: 0.8842 - val_recall: 0.1790\n",
      "Epoch 34/100\n",
      "335872/341124 [============================>.] - ETA: 0s - loss: 0.1047 - tp: 2329.0000 - fp: 676.0000 - tn: 323980.0000 - fn: 8887.0000 - accuracy: 0.9715 - precision: 0.7750 - recall: 0.2076WARNING:tensorflow:Early stopping conditioned on metric `val_auc` which is not available. Available metrics are: loss,tp,fp,tn,fn,accuracy,precision,recall,val_loss,val_tp,val_fp,val_tn,val_fn,val_accuracy,val_precision,val_recall\n",
      "341124/341124 [==============================] - 4s 11us/sample - loss: 0.1046 - tp: 2368.0000 - fp: 681.0000 - tn: 329064.0000 - fn: 9011.0000 - accuracy: 0.9716 - precision: 0.7766 - recall: 0.2081 - val_loss: 0.1008 - val_tp: 612.0000 - val_fp: 113.0000 - val_tn: 82269.0000 - val_fn: 2287.0000 - val_accuracy: 0.9719 - val_precision: 0.8441 - val_recall: 0.2111\n",
      "Epoch 35/100\n",
      "339968/341124 [============================>.] - ETA: 0s - loss: 0.1044 - tp: 2358.0000 - fp: 691.0000 - tn: 327941.0000 - fn: 8978.0000 - accuracy: 0.9716 - precision: 0.7734 - recall: 0.2080WARNING:tensorflow:Early stopping conditioned on metric `val_auc` which is not available. Available metrics are: loss,tp,fp,tn,fn,accuracy,precision,recall,val_loss,val_tp,val_fp,val_tn,val_fn,val_accuracy,val_precision,val_recall\n",
      "341124/341124 [==============================] - 4s 11us/sample - loss: 0.1045 - tp: 2369.0000 - fp: 695.0000 - tn: 329050.0000 - fn: 9010.0000 - accuracy: 0.9715 - precision: 0.7732 - recall: 0.2082 - val_loss: 0.1007 - val_tp: 576.0000 - val_fp: 81.0000 - val_tn: 82301.0000 - val_fn: 2323.0000 - val_accuracy: 0.9718 - val_precision: 0.8767 - val_recall: 0.1987\n",
      "Epoch 36/100\n",
      "339968/341124 [============================>.] - ETA: 0s - loss: 0.1043 - tp: 2392.0000 - fp: 658.0000 - tn: 327968.0000 - fn: 8950.0000 - accuracy: 0.9717 - precision: 0.7843 - recall: 0.2109WARNING:tensorflow:Early stopping conditioned on metric `val_auc` which is not available. Available metrics are: loss,tp,fp,tn,fn,accuracy,precision,recall,val_loss,val_tp,val_fp,val_tn,val_fn,val_accuracy,val_precision,val_recall\n",
      "341124/341124 [==============================] - 4s 11us/sample - loss: 0.1043 - tp: 2399.0000 - fp: 663.0000 - tn: 329082.0000 - fn: 8980.0000 - accuracy: 0.9717 - precision: 0.7835 - recall: 0.2108 - val_loss: 0.1009 - val_tp: 614.0000 - val_fp: 121.0000 - val_tn: 82261.0000 - val_fn: 2285.0000 - val_accuracy: 0.9718 - val_precision: 0.8354 - val_recall: 0.2118\n",
      "Epoch 37/100\n",
      "339968/341124 [============================>.] - ETA: 0s - loss: 0.1042 - tp: 2381.0000 - fp: 643.0000 - tn: 327989.0000 - fn: 8955.0000 - accuracy: 0.9718 - precision: 0.7874 - recall: 0.2100WARNING:tensorflow:Early stopping conditioned on metric `val_auc` which is not available. Available metrics are: loss,tp,fp,tn,fn,accuracy,precision,recall,val_loss,val_tp,val_fp,val_tn,val_fn,val_accuracy,val_precision,val_recall\n",
      "341124/341124 [==============================] - 4s 11us/sample - loss: 0.1042 - tp: 2391.0000 - fp: 644.0000 - tn: 329101.0000 - fn: 8988.0000 - accuracy: 0.9718 - precision: 0.7878 - recall: 0.2101 - val_loss: 0.1007 - val_tp: 578.0000 - val_fp: 80.0000 - val_tn: 82302.0000 - val_fn: 2321.0000 - val_accuracy: 0.9718 - val_precision: 0.8784 - val_recall: 0.1994\n",
      "Epoch 38/100\n",
      "335872/341124 [============================>.] - ETA: 0s - loss: 0.1039 - tp: 2380.0000 - fp: 672.0000 - tn: 323990.0000 - fn: 8830.0000 - accuracy: 0.9717 - precision: 0.7798 - recall: 0.2123WARNING:tensorflow:Early stopping conditioned on metric `val_auc` which is not available. Available metrics are: loss,tp,fp,tn,fn,accuracy,precision,recall,val_loss,val_tp,val_fp,val_tn,val_fn,val_accuracy,val_precision,val_recall\n",
      "341124/341124 [==============================] - 4s 11us/sample - loss: 0.1038 - tp: 2415.0000 - fp: 678.0000 - tn: 329067.0000 - fn: 8964.0000 - accuracy: 0.9717 - precision: 0.7808 - recall: 0.2122 - val_loss: 0.1009 - val_tp: 571.0000 - val_fp: 84.0000 - val_tn: 82298.0000 - val_fn: 2328.0000 - val_accuracy: 0.9717 - val_precision: 0.8718 - val_recall: 0.1970\n",
      "Epoch 39/100\n",
      "339968/341124 [============================>.] - ETA: 0s - loss: 0.1038 - tp: 2456.0000 - fp: 661.0000 - tn: 327958.0000 - fn: 8893.0000 - accuracy: 0.9719 - precision: 0.7879 - recall: 0.2164WARNING:tensorflow:Early stopping conditioned on metric `val_auc` which is not available. Available metrics are: loss,tp,fp,tn,fn,accuracy,precision,recall,val_loss,val_tp,val_fp,val_tn,val_fn,val_accuracy,val_precision,val_recall\n",
      "341124/341124 [==============================] - 4s 11us/sample - loss: 0.1037 - tp: 2464.0000 - fp: 663.0000 - tn: 329082.0000 - fn: 8915.0000 - accuracy: 0.9719 - precision: 0.7880 - recall: 0.2165 - val_loss: 0.1006 - val_tp: 604.0000 - val_fp: 108.0000 - val_tn: 82274.0000 - val_fn: 2295.0000 - val_accuracy: 0.9718 - val_precision: 0.8483 - val_recall: 0.2083\n",
      "Epoch 40/100\n",
      "337920/341124 [============================>.] - ETA: 0s - loss: 0.1037 - tp: 2379.0000 - fp: 665.0000 - tn: 325993.0000 - fn: 8883.0000 - accuracy: 0.9717 - precision: 0.7815 - recall: 0.2112WARNING:tensorflow:Early stopping conditioned on metric `val_auc` which is not available. Available metrics are: loss,tp,fp,tn,fn,accuracy,precision,recall,val_loss,val_tp,val_fp,val_tn,val_fn,val_accuracy,val_precision,val_recall\n",
      "341124/341124 [==============================] - 4s 11us/sample - loss: 0.1038 - tp: 2402.0000 - fp: 671.0000 - tn: 329074.0000 - fn: 8977.0000 - accuracy: 0.9717 - precision: 0.7816 - recall: 0.2111 - val_loss: 0.1006 - val_tp: 597.0000 - val_fp: 104.0000 - val_tn: 82278.0000 - val_fn: 2302.0000 - val_accuracy: 0.9718 - val_precision: 0.8516 - val_recall: 0.2059\n",
      "Epoch 41/100\n",
      "337920/341124 [============================>.] - ETA: 0s - loss: 0.1040 - tp: 2422.0000 - fp: 641.0000 - tn: 326014.0000 - fn: 8843.0000 - accuracy: 0.9719 - precision: 0.7907 - recall: 0.2150WARNING:tensorflow:Early stopping conditioned on metric `val_auc` which is not available. Available metrics are: loss,tp,fp,tn,fn,accuracy,precision,recall,val_loss,val_tp,val_fp,val_tn,val_fn,val_accuracy,val_precision,val_recall\n",
      "341124/341124 [==============================] - 4s 11us/sample - loss: 0.1040 - tp: 2445.0000 - fp: 646.0000 - tn: 329099.0000 - fn: 8934.0000 - accuracy: 0.9719 - precision: 0.7910 - recall: 0.2149 - val_loss: 0.1003 - val_tp: 617.0000 - val_fp: 111.0000 - val_tn: 82271.0000 - val_fn: 2282.0000 - val_accuracy: 0.9719 - val_precision: 0.8475 - val_recall: 0.2128\n",
      "Epoch 42/100\n",
      "337920/341124 [============================>.] - ETA: 0s - loss: 0.1038 - tp: 2418.0000 - fp: 678.0000 - tn: 325972.0000 - fn: 8852.0000 - accuracy: 0.9718 - precision: 0.7810 - recall: 0.2146WARNING:tensorflow:Early stopping conditioned on metric `val_auc` which is not available. Available metrics are: loss,tp,fp,tn,fn,accuracy,precision,recall,val_loss,val_tp,val_fp,val_tn,val_fn,val_accuracy,val_precision,val_recall\n",
      "341124/341124 [==============================] - 4s 11us/sample - loss: 0.1038 - tp: 2443.0000 - fp: 680.0000 - tn: 329065.0000 - fn: 8936.0000 - accuracy: 0.9718 - precision: 0.7823 - recall: 0.2147 - val_loss: 0.1002 - val_tp: 600.0000 - val_fp: 101.0000 - val_tn: 82281.0000 - val_fn: 2299.0000 - val_accuracy: 0.9719 - val_precision: 0.8559 - val_recall: 0.2070\n",
      "Epoch 43/100\n",
      "339968/341124 [============================>.] - ETA: 0s - loss: 0.1035 - tp: 2445.0000 - fp: 641.0000 - tn: 327996.0000 - fn: 8886.0000 - accuracy: 0.9720 - precision: 0.7923 - recall: 0.2158WARNING:tensorflow:Early stopping conditioned on metric `val_auc` which is not available. Available metrics are: loss,tp,fp,tn,fn,accuracy,precision,recall,val_loss,val_tp,val_fp,val_tn,val_fn,val_accuracy,val_precision,val_recall\n",
      "341124/341124 [==============================] - 4s 11us/sample - loss: 0.1035 - tp: 2457.0000 - fp: 641.0000 - tn: 329104.0000 - fn: 8922.0000 - accuracy: 0.9720 - precision: 0.7931 - recall: 0.2159 - val_loss: 0.1002 - val_tp: 599.0000 - val_fp: 100.0000 - val_tn: 82282.0000 - val_fn: 2300.0000 - val_accuracy: 0.9719 - val_precision: 0.8569 - val_recall: 0.2066\n",
      "Epoch 44/100\n",
      "335872/341124 [============================>.] - ETA: 0s - loss: 0.1038 - tp: 2449.0000 - fp: 671.0000 - tn: 323988.0000 - fn: 8764.0000 - accuracy: 0.9719 - precision: 0.7849 - recall: 0.2184WARNING:tensorflow:Early stopping conditioned on metric `val_auc` which is not available. Available metrics are: loss,tp,fp,tn,fn,accuracy,precision,recall,val_loss,val_tp,val_fp,val_tn,val_fn,val_accuracy,val_precision,val_recall\n",
      "341124/341124 [==============================] - 4s 11us/sample - loss: 0.1038 - tp: 2482.0000 - fp: 682.0000 - tn: 329063.0000 - fn: 8897.0000 - accuracy: 0.9719 - precision: 0.7845 - recall: 0.2181 - val_loss: 0.1011 - val_tp: 554.0000 - val_fp: 71.0000 - val_tn: 82311.0000 - val_fn: 2345.0000 - val_accuracy: 0.9717 - val_precision: 0.8864 - val_recall: 0.1911\n",
      "Epoch 45/100\n",
      "337920/341124 [============================>.] - ETA: 0s - loss: 0.1033 - tp: 2443.0000 - fp: 659.0000 - tn: 325976.0000 - fn: 8842.0000 - accuracy: 0.9719 - precision: 0.7876 - recall: 0.2165WARNING:tensorflow:Early stopping conditioned on metric `val_auc` which is not available. Available metrics are: loss,tp,fp,tn,fn,accuracy,precision,recall,val_loss,val_tp,val_fp,val_tn,val_fn,val_accuracy,val_precision,val_recall\n",
      "341124/341124 [==============================] - 4s 11us/sample - loss: 0.1032 - tp: 2468.0000 - fp: 664.0000 - tn: 329081.0000 - fn: 8911.0000 - accuracy: 0.9719 - precision: 0.7880 - recall: 0.2169 - val_loss: 0.1002 - val_tp: 599.0000 - val_fp: 90.0000 - val_tn: 82292.0000 - val_fn: 2300.0000 - val_accuracy: 0.9720 - val_precision: 0.8694 - val_recall: 0.2066\n",
      "Epoch 46/100\n",
      "337920/341124 [============================>.] - ETA: 0s - loss: 0.1031 - tp: 2480.0000 - fp: 664.0000 - tn: 325998.0000 - fn: 8778.0000 - accuracy: 0.9721 - precision: 0.7888 - recall: 0.2203WARNING:tensorflow:Early stopping conditioned on metric `val_auc` which is not available. Available metrics are: loss,tp,fp,tn,fn,accuracy,precision,recall,val_loss,val_tp,val_fp,val_tn,val_fn,val_accuracy,val_precision,val_recall\n",
      "341124/341124 [==============================] - 4s 11us/sample - loss: 0.1032 - tp: 2502.0000 - fp: 669.0000 - tn: 329076.0000 - fn: 8877.0000 - accuracy: 0.9720 - precision: 0.7890 - recall: 0.2199 - val_loss: 0.1000 - val_tp: 617.0000 - val_fp: 100.0000 - val_tn: 82282.0000 - val_fn: 2282.0000 - val_accuracy: 0.9721 - val_precision: 0.8605 - val_recall: 0.2128\n",
      "Epoch 47/100\n",
      "339968/341124 [============================>.] - ETA: 0s - loss: 0.1031 - tp: 2479.0000 - fp: 635.0000 - tn: 327994.0000 - fn: 8860.0000 - accuracy: 0.9721 - precision: 0.7961 - recall: 0.2186WARNING:tensorflow:Early stopping conditioned on metric `val_auc` which is not available. Available metrics are: loss,tp,fp,tn,fn,accuracy,precision,recall,val_loss,val_tp,val_fp,val_tn,val_fn,val_accuracy,val_precision,val_recall\n",
      "341124/341124 [==============================] - 4s 11us/sample - loss: 0.1032 - tp: 2485.0000 - fp: 638.0000 - tn: 329107.0000 - fn: 8894.0000 - accuracy: 0.9721 - precision: 0.7957 - recall: 0.2184 - val_loss: 0.1002 - val_tp: 585.0000 - val_fp: 92.0000 - val_tn: 82290.0000 - val_fn: 2314.0000 - val_accuracy: 0.9718 - val_precision: 0.8641 - val_recall: 0.2018\n",
      "Epoch 48/100\n",
      "337920/341124 [============================>.] - ETA: 0s - loss: 0.1032 - tp: 2470.0000 - fp: 678.0000 - tn: 325965.0000 - fn: 8807.0000 - accuracy: 0.9719 - precision: 0.7846 - recall: 0.2190WARNING:tensorflow:Early stopping conditioned on metric `val_auc` which is not available. Available metrics are: loss,tp,fp,tn,fn,accuracy,precision,recall,val_loss,val_tp,val_fp,val_tn,val_fn,val_accuracy,val_precision,val_recall\n",
      "341124/341124 [==============================] - 4s 11us/sample - loss: 0.1031 - tp: 2502.0000 - fp: 687.0000 - tn: 329058.0000 - fn: 8877.0000 - accuracy: 0.9720 - precision: 0.7846 - recall: 0.2199 - val_loss: 0.1002 - val_tp: 573.0000 - val_fp: 74.0000 - val_tn: 82308.0000 - val_fn: 2326.0000 - val_accuracy: 0.9719 - val_precision: 0.8856 - val_recall: 0.1977\n",
      "Epoch 49/100\n",
      "335872/341124 [============================>.] - ETA: 0s - loss: 0.1036 - tp: 2415.0000 - fp: 673.0000 - tn: 324004.0000 - fn: 8780.0000 - accuracy: 0.9719 - precision: 0.7821 - recall: 0.2157WARNING:tensorflow:Early stopping conditioned on metric `val_auc` which is not available. Available metrics are: loss,tp,fp,tn,fn,accuracy,precision,recall,val_loss,val_tp,val_fp,val_tn,val_fn,val_accuracy,val_precision,val_recall\n",
      "341124/341124 [==============================] - 4s 11us/sample - loss: 0.1035 - tp: 2468.0000 - fp: 689.0000 - tn: 329056.0000 - fn: 8911.0000 - accuracy: 0.9719 - precision: 0.7818 - recall: 0.2169 - val_loss: 0.0999 - val_tp: 630.0000 - val_fp: 109.0000 - val_tn: 82273.0000 - val_fn: 2269.0000 - val_accuracy: 0.9721 - val_precision: 0.8525 - val_recall: 0.2173\n",
      "Epoch 50/100\n",
      "337920/341124 [============================>.] - ETA: 0s - loss: 0.1027 - tp: 2507.0000 - fp: 668.0000 - tn: 325978.0000 - fn: 8767.0000 - accuracy: 0.9721 - precision: 0.7896 - recall: 0.2224WARNING:tensorflow:Early stopping conditioned on metric `val_auc` which is not available. Available metrics are: loss,tp,fp,tn,fn,accuracy,precision,recall,val_loss,val_tp,val_fp,val_tn,val_fn,val_accuracy,val_precision,val_recall\n",
      "341124/341124 [==============================] - 4s 11us/sample - loss: 0.1027 - tp: 2536.0000 - fp: 678.0000 - tn: 329067.0000 - fn: 8843.0000 - accuracy: 0.9721 - precision: 0.7890 - recall: 0.2229 - val_loss: 0.1006 - val_tp: 585.0000 - val_fp: 81.0000 - val_tn: 82301.0000 - val_fn: 2314.0000 - val_accuracy: 0.9719 - val_precision: 0.8784 - val_recall: 0.2018\n",
      "Epoch 51/100\n",
      "339968/341124 [============================>.] - ETA: 0s - loss: 0.1031 - tp: 2477.0000 - fp: 673.0000 - tn: 327955.0000 - fn: 8863.0000 - accuracy: 0.9720 - precision: 0.7863 - recall: 0.2184WARNING:tensorflow:Early stopping conditioned on metric `val_auc` which is not available. Available metrics are: loss,tp,fp,tn,fn,accuracy,precision,recall,val_loss,val_tp,val_fp,val_tn,val_fn,val_accuracy,val_precision,val_recall\n",
      "341124/341124 [==============================] - 4s 11us/sample - loss: 0.1031 - tp: 2482.0000 - fp: 678.0000 - tn: 329067.0000 - fn: 8897.0000 - accuracy: 0.9719 - precision: 0.7854 - recall: 0.2181 - val_loss: 0.1005 - val_tp: 552.0000 - val_fp: 66.0000 - val_tn: 82316.0000 - val_fn: 2347.0000 - val_accuracy: 0.9717 - val_precision: 0.8932 - val_recall: 0.1904\n",
      "Epoch 52/100\n",
      "335872/341124 [============================>.] - ETA: 0s - loss: 0.1028 - tp: 2484.0000 - fp: 666.0000 - tn: 324009.0000 - fn: 8713.0000 - accuracy: 0.9721 - precision: 0.7886 - recall: 0.2218WARNING:tensorflow:Early stopping conditioned on metric `val_auc` which is not available. Available metrics are: loss,tp,fp,tn,fn,accuracy,precision,recall,val_loss,val_tp,val_fp,val_tn,val_fn,val_accuracy,val_precision,val_recall\n",
      "341124/341124 [==============================] - 4s 11us/sample - loss: 0.1029 - tp: 2515.0000 - fp: 675.0000 - tn: 329070.0000 - fn: 8864.0000 - accuracy: 0.9720 - precision: 0.7884 - recall: 0.2210 - val_loss: 0.0996 - val_tp: 648.0000 - val_fp: 109.0000 - val_tn: 82273.0000 - val_fn: 2251.0000 - val_accuracy: 0.9723 - val_precision: 0.8560 - val_recall: 0.2235\n",
      "Epoch 53/100\n",
      "335872/341124 [============================>.] - ETA: 0s - loss: 0.1030 - tp: 2502.0000 - fp: 667.0000 - tn: 324009.0000 - fn: 8694.0000 - accuracy: 0.9721 - precision: 0.7895 - recall: 0.2235WARNING:tensorflow:Early stopping conditioned on metric `val_auc` which is not available. Available metrics are: loss,tp,fp,tn,fn,accuracy,precision,recall,val_loss,val_tp,val_fp,val_tn,val_fn,val_accuracy,val_precision,val_recall\n",
      "341124/341124 [==============================] - 4s 11us/sample - loss: 0.1030 - tp: 2544.0000 - fp: 676.0000 - tn: 329069.0000 - fn: 8835.0000 - accuracy: 0.9721 - precision: 0.7901 - recall: 0.2236 - val_loss: 0.0998 - val_tp: 662.0000 - val_fp: 141.0000 - val_tn: 82241.0000 - val_fn: 2237.0000 - val_accuracy: 0.9721 - val_precision: 0.8244 - val_recall: 0.2284\n",
      "Epoch 54/100\n",
      "337920/341124 [============================>.] - ETA: 0s - loss: 0.1030 - tp: 2504.0000 - fp: 648.0000 - tn: 325976.0000 - fn: 8792.0000 - accuracy: 0.9721 - precision: 0.7944 - recall: 0.2217WARNING:tensorflow:Early stopping conditioned on metric `val_auc` which is not available. Available metrics are: loss,tp,fp,tn,fn,accuracy,precision,recall,val_loss,val_tp,val_fp,val_tn,val_fn,val_accuracy,val_precision,val_recall\n",
      "341124/341124 [==============================] - 4s 11us/sample - loss: 0.1028 - tp: 2527.0000 - fp: 653.0000 - tn: 329092.0000 - fn: 8852.0000 - accuracy: 0.9721 - precision: 0.7947 - recall: 0.2221 - val_loss: 0.0996 - val_tp: 646.0000 - val_fp: 119.0000 - val_tn: 82263.0000 - val_fn: 2253.0000 - val_accuracy: 0.9722 - val_precision: 0.8444 - val_recall: 0.2228\n",
      "Epoch 55/100\n",
      "337920/341124 [============================>.] - ETA: 0s - loss: 0.1032 - tp: 2481.0000 - fp: 700.0000 - tn: 325948.0000 - fn: 8791.0000 - accuracy: 0.9719 - precision: 0.7799 - recall: 0.2201WARNING:tensorflow:Early stopping conditioned on metric `val_auc` which is not available. Available metrics are: loss,tp,fp,tn,fn,accuracy,precision,recall,val_loss,val_tp,val_fp,val_tn,val_fn,val_accuracy,val_precision,val_recall\n",
      "341124/341124 [==============================] - 4s 11us/sample - loss: 0.1032 - tp: 2502.0000 - fp: 707.0000 - tn: 329038.0000 - fn: 8877.0000 - accuracy: 0.9719 - precision: 0.7797 - recall: 0.2199 - val_loss: 0.0997 - val_tp: 686.0000 - val_fp: 150.0000 - val_tn: 82232.0000 - val_fn: 2213.0000 - val_accuracy: 0.9723 - val_precision: 0.8206 - val_recall: 0.2366\n",
      "Epoch 56/100\n",
      "337920/341124 [============================>.] - ETA: 0s - loss: 0.1023 - tp: 2530.0000 - fp: 655.0000 - tn: 326002.0000 - fn: 8733.0000 - accuracy: 0.9722 - precision: 0.7943 - recall: 0.2246WARNING:tensorflow:Early stopping conditioned on metric `val_auc` which is not available. Available metrics are: loss,tp,fp,tn,fn,accuracy,precision,recall,val_loss,val_tp,val_fp,val_tn,val_fn,val_accuracy,val_precision,val_recall\n",
      "341124/341124 [==============================] - 4s 11us/sample - loss: 0.1024 - tp: 2557.0000 - fp: 662.0000 - tn: 329083.0000 - fn: 8822.0000 - accuracy: 0.9722 - precision: 0.7943 - recall: 0.2247 - val_loss: 0.0995 - val_tp: 619.0000 - val_fp: 90.0000 - val_tn: 82292.0000 - val_fn: 2280.0000 - val_accuracy: 0.9722 - val_precision: 0.8731 - val_recall: 0.2135\n",
      "Epoch 57/100\n",
      "262144/341124 [======================>.......] - ETA: 0s - loss: 0.1023 - tp: 1990.0000 - fp: 495.0000 - tn: 252934.0000 - fn: 6725.0000 - accuracy: 0.9725 - precision: 0.8008 - recall: 0.2283WARNING:tensorflow:Early stopping conditioned on metric `val_auc` which is not available. Available metrics are: loss,tp,fp,tn,fn,accuracy,precision,recall,val_loss,val_tp,val_fp,val_tn,val_fn,val_accuracy,val_precision,val_recall\n",
      "341124/341124 [==============================] - 4s 12us/sample - loss: 0.1016 - tp: 2677.0000 - fp: 688.0000 - tn: 329057.0000 - fn: 8702.0000 - accuracy: 0.9725 - precision: 0.7955 - recall: 0.2353 - val_loss: 0.0987 - val_tp: 663.0000 - val_fp: 104.0000 - val_tn: 82278.0000 - val_fn: 2236.0000 - val_accuracy: 0.9726 - val_precision: 0.8644 - val_recall: 0.2287\n",
      "Epoch 79/100\n",
      "335872/341124 [============================>.] - ETA: 0s - loss: 0.1015 - tp: 2639.0000 - fp: 658.0000 - tn: 324014.0000 - fn: 8561.0000 - accuracy: 0.9726 - precision: 0.8004 - recall: 0.2356WARNING:tensorflow:Early stopping conditioned on metric `val_auc` which is not available. Available metrics are: loss,tp,fp,tn,fn,accuracy,precision,recall,val_loss,val_tp,val_fp,val_tn,val_fn,val_accuracy,val_precision,val_recall\n",
      "341124/341124 [==============================] - 4s 11us/sample - loss: 0.1014 - tp: 2685.0000 - fp: 671.0000 - tn: 329074.0000 - fn: 8694.0000 - accuracy: 0.9725 - precision: 0.8001 - recall: 0.2360 - val_loss: 0.0989 - val_tp: 622.0000 - val_fp: 69.0000 - val_tn: 82313.0000 - val_fn: 2277.0000 - val_accuracy: 0.9725 - val_precision: 0.9001 - val_recall: 0.2146\n",
      "Epoch 80/100\n",
      "339968/341124 [============================>.] - ETA: 0s - loss: 0.1013 - tp: 2715.0000 - fp: 700.0000 - tn: 327920.0000 - fn: 8633.0000 - accuracy: 0.9725 - precision: 0.7950 - recall: 0.2392WARNING:tensorflow:Early stopping conditioned on metric `val_auc` which is not available. Available metrics are: loss,tp,fp,tn,fn,accuracy,precision,recall,val_loss,val_tp,val_fp,val_tn,val_fn,val_accuracy,val_precision,val_recall\n",
      "341124/341124 [==============================] - 4s 10us/sample - loss: 0.1013 - tp: 2720.0000 - fp: 703.0000 - tn: 329042.0000 - fn: 8659.0000 - accuracy: 0.9726 - precision: 0.7946 - recall: 0.2390 - val_loss: 0.0994 - val_tp: 598.0000 - val_fp: 58.0000 - val_tn: 82324.0000 - val_fn: 2301.0000 - val_accuracy: 0.9723 - val_precision: 0.9116 - val_recall: 0.2063\n",
      "Epoch 81/100\n",
      "339968/341124 [============================>.] - ETA: 0s - loss: 0.1019 - tp: 2647.0000 - fp: 675.0000 - tn: 327955.0000 - fn: 8691.0000 - accuracy: 0.9725 - precision: 0.7968 - recall: 0.2335WARNING:tensorflow:Early stopping conditioned on metric `val_auc` which is not available. Available metrics are: loss,tp,fp,tn,fn,accuracy,precision,recall,val_loss,val_tp,val_fp,val_tn,val_fn,val_accuracy,val_precision,val_recall\n",
      "341124/341124 [==============================] - 4s 11us/sample - loss: 0.1020 - tp: 2657.0000 - fp: 676.0000 - tn: 329069.0000 - fn: 8722.0000 - accuracy: 0.9724 - precision: 0.7972 - recall: 0.2335 - val_loss: 0.0989 - val_tp: 610.0000 - val_fp: 60.0000 - val_tn: 82322.0000 - val_fn: 2289.0000 - val_accuracy: 0.9725 - val_precision: 0.9104 - val_recall: 0.2104\n",
      "Epoch 82/100\n",
      "335872/341124 [============================>.] - ETA: 0s - loss: 0.1017 - tp: 2620.0000 - fp: 686.0000 - tn: 323964.0000 - fn: 8602.0000 - accuracy: 0.9723 - precision: 0.7925 - recall: 0.2335WARNING:tensorflow:Early stopping conditioned on metric `val_auc` which is not available. Available metrics are: loss,tp,fp,tn,fn,accuracy,precision,recall,val_loss,val_tp,val_fp,val_tn,val_fn,val_accuracy,val_precision,val_recall\n",
      "341124/341124 [==============================] - 4s 10us/sample - loss: 0.1014 - tp: 2659.0000 - fp: 691.0000 - tn: 329054.0000 - fn: 8720.0000 - accuracy: 0.9724 - precision: 0.7937 - recall: 0.2337 - val_loss: 0.0990 - val_tp: 618.0000 - val_fp: 59.0000 - val_tn: 82323.0000 - val_fn: 2281.0000 - val_accuracy: 0.9726 - val_precision: 0.9129 - val_recall: 0.2132\n",
      "Epoch 83/100\n",
      "339968/341124 [============================>.] - ETA: 0s - loss: 0.1014 - tp: 2656.0000 - fp: 671.0000 - tn: 327955.0000 - fn: 8686.0000 - accuracy: 0.9725 - precision: 0.7983 - recall: 0.2342WARNING:tensorflow:Early stopping conditioned on metric `val_auc` which is not available. Available metrics are: loss,tp,fp,tn,fn,accuracy,precision,recall,val_loss,val_tp,val_fp,val_tn,val_fn,val_accuracy,val_precision,val_recall\n",
      "341124/341124 [==============================] - 4s 11us/sample - loss: 0.1013 - tp: 2670.0000 - fp: 673.0000 - tn: 329072.0000 - fn: 8709.0000 - accuracy: 0.9725 - precision: 0.7987 - recall: 0.2346 - val_loss: 0.0981 - val_tp: 657.0000 - val_fp: 76.0000 - val_tn: 82306.0000 - val_fn: 2242.0000 - val_accuracy: 0.9728 - val_precision: 0.8963 - val_recall: 0.2266\n",
      "Epoch 84/100\n",
      "339968/341124 [============================>.] - ETA: 0s - loss: 0.1016 - tp: 2676.0000 - fp: 713.0000 - tn: 327914.0000 - fn: 8665.0000 - accuracy: 0.9724 - precision: 0.7896 - recall: 0.2360WARNING:tensorflow:Early stopping conditioned on metric `val_auc` which is not available. Available metrics are: loss,tp,fp,tn,fn,accuracy,precision,recall,val_loss,val_tp,val_fp,val_tn,val_fn,val_accuracy,val_precision,val_recall\n",
      "341124/341124 [==============================] - 4s 10us/sample - loss: 0.1016 - tp: 2682.0000 - fp: 714.0000 - tn: 329031.0000 - fn: 8697.0000 - accuracy: 0.9724 - precision: 0.7898 - recall: 0.2357 - val_loss: 0.0985 - val_tp: 633.0000 - val_fp: 69.0000 - val_tn: 82313.0000 - val_fn: 2266.0000 - val_accuracy: 0.9726 - val_precision: 0.9017 - val_recall: 0.2184\n",
      "Epoch 85/100\n",
      "337920/341124 [============================>.] - ETA: 0s - loss: 0.1015 - tp: 2675.0000 - fp: 671.0000 - tn: 325970.0000 - fn: 8604.0000 - accuracy: 0.9726 - precision: 0.7995 - recall: 0.2372WARNING:tensorflow:Early stopping conditioned on metric `val_auc` which is not available. Available metrics are: loss,tp,fp,tn,fn,accuracy,precision,recall,val_loss,val_tp,val_fp,val_tn,val_fn,val_accuracy,val_precision,val_recall\n",
      "341124/341124 [==============================] - 4s 11us/sample - loss: 0.1015 - tp: 2700.0000 - fp: 681.0000 - tn: 329064.0000 - fn: 8679.0000 - accuracy: 0.9726 - precision: 0.7986 - recall: 0.2373 - val_loss: 0.0979 - val_tp: 681.0000 - val_fp: 99.0000 - val_tn: 82283.0000 - val_fn: 2218.0000 - val_accuracy: 0.9728 - val_precision: 0.8731 - val_recall: 0.2349\n",
      "Epoch 86/100\n",
      "337920/341124 [============================>.] - ETA: 0s - loss: 0.1013 - tp: 2702.0000 - fp: 676.0000 - tn: 325960.0000 - fn: 8582.0000 - accuracy: 0.9726 - precision: 0.7999 - recall: 0.2395WARNING:tensorflow:Early stopping conditioned on metric `val_auc` which is not available. Available metrics are: loss,tp,fp,tn,fn,accuracy,precision,recall,val_loss,val_tp,val_fp,val_tn,val_fn,val_accuracy,val_precision,val_recall\n",
      "341124/341124 [==============================] - 4s 11us/sample - loss: 0.1012 - tp: 2725.0000 - fp: 682.0000 - tn: 329063.0000 - fn: 8654.0000 - accuracy: 0.9726 - precision: 0.7998 - recall: 0.2395 - val_loss: 0.0983 - val_tp: 658.0000 - val_fp: 80.0000 - val_tn: 82302.0000 - val_fn: 2241.0000 - val_accuracy: 0.9728 - val_precision: 0.8916 - val_recall: 0.2270\n",
      "Epoch 87/100\n",
      "337920/341124 [============================>.] - ETA: 0s - loss: 0.1012 - tp: 2684.0000 - fp: 679.0000 - tn: 325963.0000 - fn: 8594.0000 - accuracy: 0.9726 - precision: 0.7981 - recall: 0.2380 ETA: 0s - loss: 0.1015 - tp: 2345.0000 - fp: 589.0000 - tn: 284456.0000 - fn: 7522.0000 - accuracy: 0.9725 - precWARNING:tensorflow:Early stopping conditioned on metric `val_auc` which is not available. Available metrics are: loss,tp,fp,tn,fn,accuracy,precision,recall,val_loss,val_tp,val_fp,val_tn,val_fn,val_accuracy,val_precision,val_recall\n",
      "341124/341124 [==============================] - 7s 21us/sample - loss: 0.1012 - tp: 2706.0000 - fp: 682.0000 - tn: 329063.0000 - fn: 8673.0000 - accuracy: 0.9726 - precision: 0.7987 - recall: 0.2378 - val_loss: 0.0984 - val_tp: 645.0000 - val_fp: 75.0000 - val_tn: 82307.0000 - val_fn: 2254.0000 - val_accuracy: 0.9727 - val_precision: 0.8958 - val_recall: 0.2225\n",
      "Epoch 88/100\n",
      "339968/341124 [============================>.] - ETA: 0s - loss: 0.1011 - tp: 2728.0000 - fp: 660.0000 - tn: 327968.0000 - fn: 8612.0000 - accuracy: 0.9727 - precision: 0.8052 - recall: 0.2406 ETA: 2s - loss: 0.1010 - tp: 1900.0000 - fp: 452.0000 - tn: 227218.0000 - fWARNING:tensorflow:Early stopping conditioned on metric `val_auc` which is not available. Available metrics are: loss,tp,fp,tn,fn,accuracy,precision,recall,val_loss,val_tp,val_fp,val_tn,val_fn,val_accuracy,val_precision,val_recall\n",
      "341124/341124 [==============================] - 9s 25us/sample - loss: 0.1010 - tp: 2739.0000 - fp: 663.0000 - tn: 329082.0000 - fn: 8640.0000 - accuracy: 0.9727 - precision: 0.8051 - recall: 0.2407 - val_loss: 0.0977 - val_tp: 676.0000 - val_fp: 90.0000 - val_tn: 82292.0000 - val_fn: 2223.0000 - val_accuracy: 0.9729 - val_precision: 0.8825 - val_recall: 0.2332\n",
      "Epoch 89/100\n",
      "339968/341124 [============================>.] - ETA: 0s - loss: 0.1013 - tp: 2721.0000 - fp: 709.0000 - tn: 327922.0000 - fn: 8616.0000 - accuracy: 0.9726 - precision: 0.7933 - recall: 0.2400WARNING:tensorflow:Early stopping conditioned on metric `val_auc` which is not available. Available metrics are: loss,tp,fp,tn,fn,accuracy,precision,recall,val_loss,val_tp,val_fp,val_tn,val_fn,val_accuracy,val_precision,val_recall\n",
      "341124/341124 [==============================] - 5s 15us/sample - loss: 0.1013 - tp: 2730.0000 - fp: 709.0000 - tn: 329036.0000 - fn: 8649.0000 - accuracy: 0.9726 - precision: 0.7938 - recall: 0.2399 - val_loss: 0.0983 - val_tp: 636.0000 - val_fp: 72.0000 - val_tn: 82310.0000 - val_fn: 2263.0000 - val_accuracy: 0.9726 - val_precision: 0.8983 - val_recall: 0.2194\n",
      "Epoch 90/100\n",
      "339968/341124 [============================>.] - ETA: 0s - loss: 0.1011 - tp: 2703.0000 - fp: 695.0000 - tn: 327926.0000 - fn: 8644.0000 - accuracy: 0.9725 - precision: 0.7955 - recall: 0.2382WARNING:tensorflow:Early stopping conditioned on metric `val_auc` which is not available. Available metrics are: loss,tp,fp,tn,fn,accuracy,precision,recall,val_loss,val_tp,val_fp,val_tn,val_fn,val_accuracy,val_precision,val_recall\n",
      "341124/341124 [==============================] - 7s 20us/sample - loss: 0.1010 - tp: 2713.0000 - fp: 698.0000 - tn: 329047.0000 - fn: 8666.0000 - accuracy: 0.9725 - precision: 0.7954 - recall: 0.2384 - val_loss: 0.0979 - val_tp: 701.0000 - val_fp: 103.0000 - val_tn: 82279.0000 - val_fn: 2198.0000 - val_accuracy: 0.9730 - val_precision: 0.8719 - val_recall: 0.2418\n",
      "Epoch 91/100\n",
      "337920/341124 [============================>.] - ETA: 0s - loss: 0.1010 - tp: 2703.0000 - fp: 713.0000 - tn: 325941.0000 - fn: 8563.0000 - accuracy: 0.9725 - precision: 0.7913 - recall: 0.2399WARNING:tensorflow:Early stopping conditioned on metric `val_auc` which is not available. Available metrics are: loss,tp,fp,tn,fn,accuracy,precision,recall,val_loss,val_tp,val_fp,val_tn,val_fn,val_accuracy,val_precision,val_recall\n",
      "341124/341124 [==============================] - 6s 17us/sample - loss: 0.1010 - tp: 2730.0000 - fp: 719.0000 - tn: 329026.0000 - fn: 8649.0000 - accuracy: 0.9725 - precision: 0.7915 - recall: 0.2399 - val_loss: 0.0979 - val_tp: 657.0000 - val_fp: 77.0000 - val_tn: 82305.0000 - val_fn: 2242.0000 - val_accuracy: 0.9728 - val_precision: 0.8951 - val_recall: 0.2266\n",
      "Epoch 92/100\n",
      "337920/341124 [============================>.] - ETA: 0s - loss: 0.1010 - tp: 2724.0000 - fp: 692.0000 - tn: 325962.0000 - fn: 8542.0000 - accuracy: 0.9727 - precision: 0.7974 - recall: 0.2418WARNING:tensorflow:Early stopping conditioned on metric `val_auc` which is not available. Available metrics are: loss,tp,fp,tn,fn,accuracy,precision,recall,val_loss,val_tp,val_fp,val_tn,val_fn,val_accuracy,val_precision,val_recall\n",
      "341124/341124 [==============================] - 5s 16us/sample - loss: 0.1010 - tp: 2752.0000 - fp: 697.0000 - tn: 329048.0000 - fn: 8627.0000 - accuracy: 0.9727 - precision: 0.7979 - recall: 0.2418 - val_loss: 0.0980 - val_tp: 663.0000 - val_fp: 85.0000 - val_tn: 82297.0000 - val_fn: 2236.0000 - val_accuracy: 0.9728 - val_precision: 0.8864 - val_recall: 0.2287\n",
      "Epoch 93/100\n",
      "335872/341124 [============================>.] - ETA: 0s - loss: 0.1012 - tp: 2694.0000 - fp: 686.0000 - tn: 323981.0000 - fn: 8511.0000 - accuracy: 0.9726 - precision: 0.7970 - recall: 0.2404WARNING:tensorflow:Early stopping conditioned on metric `val_auc` which is not available. Available metrics are: loss,tp,fp,tn,fn,accuracy,precision,recall,val_loss,val_tp,val_fp,val_tn,val_fn,val_accuracy,val_precision,val_recall\n",
      "341124/341124 [==============================] - 4s 12us/sample - loss: 0.1011 - tp: 2744.0000 - fp: 695.0000 - tn: 329050.0000 - fn: 8635.0000 - accuracy: 0.9726 - precision: 0.7979 - recall: 0.2411 - val_loss: 0.0986 - val_tp: 617.0000 - val_fp: 62.0000 - val_tn: 82320.0000 - val_fn: 2282.0000 - val_accuracy: 0.9725 - val_precision: 0.9087 - val_recall: 0.2128\n",
      "Epoch 94/100\n",
      "335872/341124 [============================>.] - ETA: 0s - loss: 0.1011 - tp: 2700.0000 - fp: 685.0000 - tn: 323970.0000 - fn: 8517.0000 - accuracy: 0.9726 - precision: 0.7976 - recall: 0.2407WARNING:tensorflow:Early stopping conditioned on metric `val_auc` which is not available. Available metrics are: loss,tp,fp,tn,fn,accuracy,precision,recall,val_loss,val_tp,val_fp,val_tn,val_fn,val_accuracy,val_precision,val_recall\n",
      "341124/341124 [==============================] - 4s 11us/sample - loss: 0.1010 - tp: 2744.0000 - fp: 699.0000 - tn: 329046.0000 - fn: 8635.0000 - accuracy: 0.9726 - precision: 0.7970 - recall: 0.2411 - val_loss: 0.0981 - val_tp: 642.0000 - val_fp: 71.0000 - val_tn: 82311.0000 - val_fn: 2257.0000 - val_accuracy: 0.9727 - val_precision: 0.9004 - val_recall: 0.2215\n",
      "Epoch 95/100\n",
      "313344/341124 [==========================>...] - ETA: 0s - loss: 0.1009 - tp: 2509.0000 - fp: 649.0000 - tn: 302276.0000 - fn: 7910.0000 - accuracy: 0.9727 - precision: 0.7945 - recall: 0.2408"
     ]
    }
   ],
   "source": [
    "model = make_model()\n",
    "model.load_weights(initial_weights)\n",
    "baseline_history = model.fit(\n",
    "    train_features,\n",
    "    train_labels,\n",
    "    batch_size=BATCH_SIZE,\n",
    "    epochs=EPOCHS,\n",
    "    callbacks = [early_stopping],\n",
    "    validation_data=(val_features, val_labels))"
   ]
  },
  {
   "cell_type": "code",
   "execution_count": 26,
   "metadata": {},
   "outputs": [],
   "source": [
    "def plot_metrics(history):\n",
    "    metrics =  ['loss', 'precision', 'recall']\n",
    "    for n, metric in enumerate(metrics):\n",
    "        name = metric.replace(\"_\",\" \").capitalize()\n",
    "        plt.subplot(2,2,n+1)\n",
    "        plt.plot(history.epoch,  history.history[metric], color=colors[0], label='Train')\n",
    "        plt.plot(history.epoch, history.history['val_'+metric],\n",
    "             color=colors[0], linestyle=\"--\", label='Val')\n",
    "        plt.xlabel('Epoch')\n",
    "        plt.ylabel(name)\n",
    "        if metric == 'loss':\n",
    "            plt.ylim([0, plt.ylim()[1]])\n",
    "        elif metric == 'auc':\n",
    "            plt.ylim([0.8,1])\n",
    "        else:\n",
    "            plt.ylim([0,1])\n",
    "\n",
    "    plt.legend()\n"
   ]
  },
  {
   "cell_type": "code",
   "execution_count": 27,
   "metadata": {},
   "outputs": [
    {
     "data": {
      "image/png": "[encoded data removed]",
      "text/plain": [
       "<Figure size 864x720 with 3 Axes>"
      ]
     },
     "metadata": {
      "needs_background": "light"
     },
     "output_type": "display_data"
    }
   ],
   "source": [
    "plot_metrics(baseline_history)"
   ]
  },
  {
   "cell_type": "code",
   "execution_count": 28,
   "metadata": {},
   "outputs": [],
   "source": [
    "train_predictions_baseline = model.predict(train_features, batch_size=BATCH_SIZE)\n",
    "test_predictions_baseline = model.predict(test_features, batch_size=BATCH_SIZE)"
   ]
  },
  {
   "cell_type": "code",
   "execution_count": 29,
   "metadata": {},
   "outputs": [],
   "source": [
    "def plot_cm(labels, predictions, p=0.5):\n",
    "    cm = confusion_matrix(labels, predictions > p)\n",
    "    plt.figure(figsize=(5,5))\n",
    "    sns.heatmap(cm, annot=True, fmt=\"d\")\n",
    "    plt.title('Confusion matrix @{:.2f}'.format(p))\n",
    "    plt.ylabel('Actual label')\n",
    "    plt.xlabel('Predicted label')\n",
    "\n",
    "    print('Legitimate Transactions Detected (True Negatives): ', cm[0][0])\n",
    "    print('Legitimate Transactions Incorrectly Detected (False Positives): ', cm[0][1])\n",
    "    print('Fraudulent Transactions Missed (False Negatives): ', cm[1][0])\n",
    "    print('Fraudulent Transactions Detected (True Positives): ', cm[1][1])\n",
    "    print('Total Fraudulent Transactions: ', np.sum(cm[1]))"
   ]
  },
  {
   "cell_type": "code",
   "execution_count": 30,
   "metadata": {},
   "outputs": [
    {
     "name": "stdout",
     "output_type": "stream",
     "text": [
      "loss :  0.09688574128466984\n",
      "tp :  762.0\n",
      "fp :  106.0\n",
      "tn :  102936.0\n",
      "fn :  2798.0\n",
      "accuracy :  0.9727585\n",
      "precision :  0.87788016\n",
      "recall :  0.21404494\n",
      "\n",
      "Legitimate Transactions Detected (True Negatives):  102936\n",
      "Legitimate Transactions Incorrectly Detected (False Positives):  106\n",
      "Fraudulent Transactions Missed (False Negatives):  2798\n",
      "Fraudulent Transactions Detected (True Positives):  762\n",
      "Total Fraudulent Transactions:  3560\n"
     ]
    },
    {
     "data": {
      "image/png": "[encoded data removed]",
      "text/plain": [
       "<Figure size 360x360 with 2 Axes>"
      ]
     },
     "metadata": {
      "needs_background": "light"
     },
     "output_type": "display_data"
    }
   ],
   "source": [
    "baseline_results = model.evaluate(test_features, test_labels,\n",
    "                                  batch_size=BATCH_SIZE, verbose=0)\n",
    "for name, value in zip(model.metrics_names, baseline_results):\n",
    "  print(name, ': ', value)\n",
    "print()\n",
    "\n",
    "plot_cm(test_labels, test_predictions_baseline)"
   ]
  },
  {
   "cell_type": "code",
   "execution_count": null,
   "metadata": {},
   "outputs": [],
   "source": []
  }
 ],
 "metadata": {
  "kernelspec": {
   "display_name": "Python 3",
   "language": "python",
   "name": "python3"
  },
  "language_info": {
   "codemirror_mode": {
    "name": "ipython",
    "version": 3
   },
   "file_extension": ".py",
   "mimetype": "text/x-python",
   "name": "python",
   "nbconvert_exporter": "python",
   "pygments_lexer": "ipython3",
   "version": "3.6.9"
  }
 },
 "nbformat": 4,
 "nbformat_minor": 4
}
