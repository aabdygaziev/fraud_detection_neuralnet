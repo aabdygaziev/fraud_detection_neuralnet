{
 "cells": [
  {
   "cell_type": "code",
   "execution_count": 1,
   "metadata": {},
   "outputs": [
    {
     "name": "stderr",
     "output_type": "stream",
     "text": [
      "/Users/abdygaziev/anaconda3/envs/learn-deep/lib/python3.6/site-packages/tensorflow/python/framework/dtypes.py:526: FutureWarning: Passing (type, 1) or '1type' as a synonym of type is deprecated; in a future version of numpy, it will be understood as (type, (1,)) / '(1,)type'.\n",
      "  _np_qint8 = np.dtype([(\"qint8\", np.int8, 1)])\n",
      "/Users/abdygaziev/anaconda3/envs/learn-deep/lib/python3.6/site-packages/tensorflow/python/framework/dtypes.py:527: FutureWarning: Passing (type, 1) or '1type' as a synonym of type is deprecated; in a future version of numpy, it will be understood as (type, (1,)) / '(1,)type'.\n",
      "  _np_quint8 = np.dtype([(\"quint8\", np.uint8, 1)])\n",
      "/Users/abdygaziev/anaconda3/envs/learn-deep/lib/python3.6/site-packages/tensorflow/python/framework/dtypes.py:528: FutureWarning: Passing (type, 1) or '1type' as a synonym of type is deprecated; in a future version of numpy, it will be understood as (type, (1,)) / '(1,)type'.\n",
      "  _np_qint16 = np.dtype([(\"qint16\", np.int16, 1)])\n",
      "/Users/abdygaziev/anaconda3/envs/learn-deep/lib/python3.6/site-packages/tensorflow/python/framework/dtypes.py:529: FutureWarning: Passing (type, 1) or '1type' as a synonym of type is deprecated; in a future version of numpy, it will be understood as (type, (1,)) / '(1,)type'.\n",
      "  _np_quint16 = np.dtype([(\"quint16\", np.uint16, 1)])\n",
      "/Users/abdygaziev/anaconda3/envs/learn-deep/lib/python3.6/site-packages/tensorflow/python/framework/dtypes.py:530: FutureWarning: Passing (type, 1) or '1type' as a synonym of type is deprecated; in a future version of numpy, it will be understood as (type, (1,)) / '(1,)type'.\n",
      "  _np_qint32 = np.dtype([(\"qint32\", np.int32, 1)])\n",
      "/Users/abdygaziev/anaconda3/envs/learn-deep/lib/python3.6/site-packages/tensorflow/python/framework/dtypes.py:535: FutureWarning: Passing (type, 1) or '1type' as a synonym of type is deprecated; in a future version of numpy, it will be understood as (type, (1,)) / '(1,)type'.\n",
      "  np_resource = np.dtype([(\"resource\", np.ubyte, 1)])\n"
     ]
    }
   ],
   "source": [
    "# import packages\n",
    "import pandas as pd\n",
    "import numpy as np\n",
    "\n",
    "import tensorflow as tf\n",
    "from tensorflow import keras\n",
    "from tensorflow.keras import metrics\n",
    "\n",
    "from tensorflow import feature_column\n",
    "from tensorflow.keras import layers\n",
    "\n",
    "import os\n",
    "import tempfile\n",
    "\n",
    "import matplotlib as mpl\n",
    "import matplotlib.pyplot as plt\n",
    "import numpy as np\n",
    "import pandas as pd\n",
    "import seaborn as sns\n",
    "\n",
    "import sklearn\n",
    "from sklearn.metrics import confusion_matrix\n",
    "from sklearn.model_selection import train_test_split\n",
    "from sklearn.preprocessing import StandardScaler"
   ]
  },
  {
   "cell_type": "code",
   "execution_count": 2,
   "metadata": {},
   "outputs": [],
   "source": [
    "df = pd.read_pickle('/Users/abdygaziev/Documents/FlatironMaterials/Projects/train_dummy.pickle')"
   ]
  },
  {
   "cell_type": "code",
   "execution_count": 3,
   "metadata": {},
   "outputs": [
    {
     "data": {
      "text/html": [
       "<div>\n",
       "<style scoped>\n",
       "    .dataframe tbody tr th:only-of-type {\n",
       "        vertical-align: middle;\n",
       "    }\n",
       "\n",
       "    .dataframe tbody tr th {\n",
       "        vertical-align: top;\n",
       "    }\n",
       "\n",
       "    .dataframe thead th {\n",
       "        text-align: right;\n",
       "    }\n",
       "</style>\n",
       "<table border=\"1\" class=\"dataframe\">\n",
       "  <thead>\n",
       "    <tr style=\"text-align: right;\">\n",
       "      <th></th>\n",
       "      <th>isFraud</th>\n",
       "      <th>TransactionDT</th>\n",
       "      <th>TransactionAmt</th>\n",
       "      <th>card1</th>\n",
       "      <th>card2</th>\n",
       "      <th>card3</th>\n",
       "      <th>card5</th>\n",
       "      <th>addr1</th>\n",
       "      <th>addr2</th>\n",
       "      <th>C1</th>\n",
       "      <th>...</th>\n",
       "      <th>P_emaildomain_web.de</th>\n",
       "      <th>P_emaildomain_windstream.net</th>\n",
       "      <th>P_emaildomain_yahoo.co.jp</th>\n",
       "      <th>P_emaildomain_yahoo.co.uk</th>\n",
       "      <th>P_emaildomain_yahoo.com</th>\n",
       "      <th>P_emaildomain_yahoo.com.mx</th>\n",
       "      <th>P_emaildomain_yahoo.de</th>\n",
       "      <th>P_emaildomain_yahoo.es</th>\n",
       "      <th>P_emaildomain_yahoo.fr</th>\n",
       "      <th>P_emaildomain_ymail.com</th>\n",
       "    </tr>\n",
       "    <tr>\n",
       "      <th>TransactionID</th>\n",
       "      <th></th>\n",
       "      <th></th>\n",
       "      <th></th>\n",
       "      <th></th>\n",
       "      <th></th>\n",
       "      <th></th>\n",
       "      <th></th>\n",
       "      <th></th>\n",
       "      <th></th>\n",
       "      <th></th>\n",
       "      <th></th>\n",
       "      <th></th>\n",
       "      <th></th>\n",
       "      <th></th>\n",
       "      <th></th>\n",
       "      <th></th>\n",
       "      <th></th>\n",
       "      <th></th>\n",
       "      <th></th>\n",
       "      <th></th>\n",
       "      <th></th>\n",
       "    </tr>\n",
       "  </thead>\n",
       "  <tbody>\n",
       "    <tr>\n",
       "      <th>3001687</th>\n",
       "      <td>0</td>\n",
       "      <td>413891</td>\n",
       "      <td>45.000</td>\n",
       "      <td>16661</td>\n",
       "      <td>490.0</td>\n",
       "      <td>150.0</td>\n",
       "      <td>226.0</td>\n",
       "      <td>327.000000</td>\n",
       "      <td>87.00000</td>\n",
       "      <td>1.0</td>\n",
       "      <td>...</td>\n",
       "      <td>0</td>\n",
       "      <td>0</td>\n",
       "      <td>0</td>\n",
       "      <td>0</td>\n",
       "      <td>0</td>\n",
       "      <td>0</td>\n",
       "      <td>0</td>\n",
       "      <td>0</td>\n",
       "      <td>0</td>\n",
       "      <td>0</td>\n",
       "    </tr>\n",
       "    <tr>\n",
       "      <th>3001688</th>\n",
       "      <td>0</td>\n",
       "      <td>413902</td>\n",
       "      <td>50.000</td>\n",
       "      <td>6194</td>\n",
       "      <td>498.0</td>\n",
       "      <td>150.0</td>\n",
       "      <td>117.0</td>\n",
       "      <td>337.000000</td>\n",
       "      <td>87.00000</td>\n",
       "      <td>145.0</td>\n",
       "      <td>...</td>\n",
       "      <td>0</td>\n",
       "      <td>0</td>\n",
       "      <td>0</td>\n",
       "      <td>0</td>\n",
       "      <td>0</td>\n",
       "      <td>0</td>\n",
       "      <td>0</td>\n",
       "      <td>0</td>\n",
       "      <td>0</td>\n",
       "      <td>0</td>\n",
       "    </tr>\n",
       "    <tr>\n",
       "      <th>3001689</th>\n",
       "      <td>1</td>\n",
       "      <td>413915</td>\n",
       "      <td>160.475</td>\n",
       "      <td>9635</td>\n",
       "      <td>405.0</td>\n",
       "      <td>185.0</td>\n",
       "      <td>226.0</td>\n",
       "      <td>290.733794</td>\n",
       "      <td>86.80063</td>\n",
       "      <td>1.0</td>\n",
       "      <td>...</td>\n",
       "      <td>0</td>\n",
       "      <td>0</td>\n",
       "      <td>0</td>\n",
       "      <td>0</td>\n",
       "      <td>0</td>\n",
       "      <td>0</td>\n",
       "      <td>0</td>\n",
       "      <td>0</td>\n",
       "      <td>0</td>\n",
       "      <td>0</td>\n",
       "    </tr>\n",
       "    <tr>\n",
       "      <th>3001690</th>\n",
       "      <td>0</td>\n",
       "      <td>413942</td>\n",
       "      <td>50.000</td>\n",
       "      <td>11207</td>\n",
       "      <td>361.0</td>\n",
       "      <td>150.0</td>\n",
       "      <td>226.0</td>\n",
       "      <td>126.000000</td>\n",
       "      <td>87.00000</td>\n",
       "      <td>1.0</td>\n",
       "      <td>...</td>\n",
       "      <td>0</td>\n",
       "      <td>0</td>\n",
       "      <td>0</td>\n",
       "      <td>0</td>\n",
       "      <td>0</td>\n",
       "      <td>0</td>\n",
       "      <td>0</td>\n",
       "      <td>0</td>\n",
       "      <td>0</td>\n",
       "      <td>0</td>\n",
       "    </tr>\n",
       "    <tr>\n",
       "      <th>3001692</th>\n",
       "      <td>0</td>\n",
       "      <td>413957</td>\n",
       "      <td>50.000</td>\n",
       "      <td>12544</td>\n",
       "      <td>321.0</td>\n",
       "      <td>150.0</td>\n",
       "      <td>226.0</td>\n",
       "      <td>476.000000</td>\n",
       "      <td>87.00000</td>\n",
       "      <td>1.0</td>\n",
       "      <td>...</td>\n",
       "      <td>0</td>\n",
       "      <td>0</td>\n",
       "      <td>0</td>\n",
       "      <td>0</td>\n",
       "      <td>0</td>\n",
       "      <td>0</td>\n",
       "      <td>0</td>\n",
       "      <td>0</td>\n",
       "      <td>0</td>\n",
       "      <td>0</td>\n",
       "    </tr>\n",
       "  </tbody>\n",
       "</table>\n",
       "<p>5 rows × 267 columns</p>\n",
       "</div>"
      ],
      "text/plain": [
       "               isFraud  TransactionDT  TransactionAmt  card1  card2  card3  \\\n",
       "TransactionID                                                                \n",
       "3001687              0         413891          45.000  16661  490.0  150.0   \n",
       "3001688              0         413902          50.000   6194  498.0  150.0   \n",
       "3001689              1         413915         160.475   9635  405.0  185.0   \n",
       "3001690              0         413942          50.000  11207  361.0  150.0   \n",
       "3001692              0         413957          50.000  12544  321.0  150.0   \n",
       "\n",
       "               card5       addr1     addr2     C1  ...  P_emaildomain_web.de  \\\n",
       "TransactionID                                      ...                         \n",
       "3001687        226.0  327.000000  87.00000    1.0  ...                     0   \n",
       "3001688        117.0  337.000000  87.00000  145.0  ...                     0   \n",
       "3001689        226.0  290.733794  86.80063    1.0  ...                     0   \n",
       "3001690        226.0  126.000000  87.00000    1.0  ...                     0   \n",
       "3001692        226.0  476.000000  87.00000    1.0  ...                     0   \n",
       "\n",
       "               P_emaildomain_windstream.net  P_emaildomain_yahoo.co.jp  \\\n",
       "TransactionID                                                            \n",
       "3001687                                   0                          0   \n",
       "3001688                                   0                          0   \n",
       "3001689                                   0                          0   \n",
       "3001690                                   0                          0   \n",
       "3001692                                   0                          0   \n",
       "\n",
       "               P_emaildomain_yahoo.co.uk  P_emaildomain_yahoo.com  \\\n",
       "TransactionID                                                       \n",
       "3001687                                0                        0   \n",
       "3001688                                0                        0   \n",
       "3001689                                0                        0   \n",
       "3001690                                0                        0   \n",
       "3001692                                0                        0   \n",
       "\n",
       "               P_emaildomain_yahoo.com.mx  P_emaildomain_yahoo.de  \\\n",
       "TransactionID                                                       \n",
       "3001687                                 0                       0   \n",
       "3001688                                 0                       0   \n",
       "3001689                                 0                       0   \n",
       "3001690                                 0                       0   \n",
       "3001692                                 0                       0   \n",
       "\n",
       "               P_emaildomain_yahoo.es  P_emaildomain_yahoo.fr  \\\n",
       "TransactionID                                                   \n",
       "3001687                             0                       0   \n",
       "3001688                             0                       0   \n",
       "3001689                             0                       0   \n",
       "3001690                             0                       0   \n",
       "3001692                             0                       0   \n",
       "\n",
       "               P_emaildomain_ymail.com  \n",
       "TransactionID                           \n",
       "3001687                              0  \n",
       "3001688                              0  \n",
       "3001689                              0  \n",
       "3001690                              0  \n",
       "3001692                              0  \n",
       "\n",
       "[5 rows x 267 columns]"
      ]
     },
     "execution_count": 3,
     "metadata": {},
     "output_type": "execute_result"
    }
   ],
   "source": [
    "# from this data we get our target data\n",
    "df.head(5)"
   ]
  },
  {
   "cell_type": "code",
   "execution_count": 4,
   "metadata": {},
   "outputs": [
    {
     "data": {
      "text/plain": [
       "(533007, 267)"
      ]
     },
     "execution_count": 4,
     "metadata": {},
     "output_type": "execute_result"
    }
   ],
   "source": [
    "df.shape"
   ]
  },
  {
   "cell_type": "code",
   "execution_count": 5,
   "metadata": {},
   "outputs": [
    {
     "name": "stdout",
     "output_type": "stream",
     "text": [
      "Examples:\n",
      "    Total: 533007\n",
      "    Positive: 17838 (3.35% of total)\n",
      "\n"
     ]
    }
   ],
   "source": [
    "# examining classes\n",
    "neg, pos = np.bincount(df['isFraud'])\n",
    "total = neg + pos\n",
    "print('Examples:\\n    Total: {}\\n    Positive: {} ({:.2f}% of total)\\n'.format(\n",
    "    total, pos, 100 * pos / total))"
   ]
  },
  {
   "cell_type": "code",
   "execution_count": 6,
   "metadata": {},
   "outputs": [],
   "source": [
    "cleaned_df = df.copy()\n",
    "\n",
    "# The `Amount` column covers a huge range. Convert to log-space.\n",
    "eps=0.001 # 0 => 0.1¢\n",
    "cleaned_df['Log Ammount'] = np.log(cleaned_df.pop('TransactionAmt')+eps)"
   ]
  },
  {
   "cell_type": "code",
   "execution_count": 7,
   "metadata": {},
   "outputs": [],
   "source": [
    "# Use a utility from sklearn to split and shuffle our dataset.\n",
    "train_df, test_df = train_test_split(cleaned_df, test_size=0.2)\n",
    "train_df, val_df = train_test_split(train_df, test_size=0.2)\n",
    "\n",
    "# Form np arrays of labels and features.\n",
    "train_labels = np.array(train_df.pop('isFraud'))\n",
    "bool_train_labels = train_labels != 0\n",
    "val_labels = np.array(val_df.pop('isFraud'))\n",
    "test_labels = np.array(test_df.pop('isFraud'))\n",
    "\n",
    "train_features = np.array(train_df)\n",
    "val_features = np.array(val_df)\n",
    "test_features = np.array(test_df)"
   ]
  },
  {
   "cell_type": "code",
   "execution_count": 9,
   "metadata": {},
   "outputs": [
    {
     "name": "stdout",
     "output_type": "stream",
     "text": [
      "Training labels shape: (341124,)\n",
      "Validation labels shape: (85281,)\n",
      "Test labels shape: (106602,)\n",
      "Training features shape: (341124, 266)\n",
      "Validation features shape: (85281, 266)\n",
      "Test features shape: (106602, 266)\n"
     ]
    }
   ],
   "source": [
    "#Normalize the input features using the sklearn StandardScaler. \n",
    "#This will set the mean to 0 and standard deviation to 1.\n",
    "scaler = StandardScaler()\n",
    "train_features = scaler.fit_transform(train_features)\n",
    "\n",
    "val_features = scaler.transform(val_features)\n",
    "test_features = scaler.transform(test_features)\n",
    "\n",
    "train_features = np.clip(train_features, -5, 5)\n",
    "val_features = np.clip(val_features, -5, 5)\n",
    "test_features = np.clip(test_features, -5, 5)\n",
    "pos_df = pd.DataFrame(train_features[ bool_train_labels], columns = train_df.columns)\n",
    "neg_df = pd.DataFrame(train_features[~bool_train_labels], columns = train_df.columns)\n",
    "\n",
    "print('Training labels shape:', train_labels.shape)\n",
    "print('Validation labels shape:', val_labels.shape)\n",
    "print('Test labels shape:', test_labels.shape)\n",
    "\n",
    "print('Training features shape:', train_features.shape)\n",
    "print('Validation features shape:', val_features.shape)\n",
    "print('Test features shape:', test_features.shape)"
   ]
  },
  {
   "cell_type": "code",
   "execution_count": 10,
   "metadata": {},
   "outputs": [
    {
     "name": "stdout",
     "output_type": "stream",
     "text": [
      "WARNING:tensorflow:From /Users/abdygaziev/anaconda3/envs/learn-deep/lib/python3.6/site-packages/tensorflow/python/ops/resource_variable_ops.py:435: colocate_with (from tensorflow.python.framework.ops) is deprecated and will be removed in a future version.\n",
      "Instructions for updating:\n",
      "Colocations handled automatically by placer.\n"
     ]
    }
   ],
   "source": [
    "METRICS = [\n",
    "      keras.metrics.TruePositives(name='tp'),\n",
    "      keras.metrics.FalsePositives(name='fp'),\n",
    "      keras.metrics.TrueNegatives(name='tn'),\n",
    "      keras.metrics.FalseNegatives(name='fn'), \n",
    "      keras.metrics.BinaryAccuracy(name='accuracy'),\n",
    "      keras.metrics.Precision(name='precision'),\n",
    "      keras.metrics.Recall(name='recall')]\n",
    "\n",
    "def make_model(metrics = METRICS, output_bias=None):\n",
    "    if output_bias is not None:\n",
    "        output_bias = tf.keras.initializers.Constant(output_bias)\n",
    "    model = keras.Sequential([\n",
    "        keras.layers.Dense(\n",
    "            16, activation='relu',\n",
    "            input_shape=(train_features.shape[-1],)),\n",
    "        keras.layers.Dropout(0.5),\n",
    "        keras.layers.Dense(1, activation='sigmoid',\n",
    "                         bias_initializer=output_bias),\n",
    "  ])\n",
    "\n",
    "    model.compile(\n",
    "        optimizer=keras.optimizers.Adam(lr=1e-3),\n",
    "        loss=keras.losses.BinaryCrossentropy(),\n",
    "        metrics=metrics)\n",
    "\n",
    "    return model"
   ]
  },
  {
   "cell_type": "code",
   "execution_count": 11,
   "metadata": {},
   "outputs": [],
   "source": [
    "#buidling a model\n",
    "EPOCHS = 100\n",
    "BATCH_SIZE = 2048\n",
    "\n",
    "early_stopping = tf.keras.callbacks.EarlyStopping(\n",
    "    monitor='val_auc', \n",
    "    verbose=1,\n",
    "    patience=10,\n",
    "    mode='max',\n",
    "    restore_best_weights=True)"
   ]
  },
  {
   "cell_type": "code",
   "execution_count": 12,
   "metadata": {},
   "outputs": [
    {
     "name": "stdout",
     "output_type": "stream",
     "text": [
      "WARNING:tensorflow:From /Users/abdygaziev/anaconda3/envs/learn-deep/lib/python3.6/site-packages/tensorflow/python/keras/layers/core.py:143: calling dropout (from tensorflow.python.ops.nn_ops) with keep_prob is deprecated and will be removed in a future version.\n",
      "Instructions for updating:\n",
      "Please use `rate` instead of `keep_prob`. Rate should be set to `rate = 1 - keep_prob`.\n",
      "WARNING:tensorflow:From /Users/abdygaziev/anaconda3/envs/learn-deep/lib/python3.6/site-packages/tensorflow/python/keras/utils/losses_utils.py:170: to_float (from tensorflow.python.ops.math_ops) is deprecated and will be removed in a future version.\n",
      "Instructions for updating:\n",
      "Use tf.cast instead.\n",
      "_________________________________________________________________\n",
      "Layer (type)                 Output Shape              Param #   \n",
      "=================================================================\n",
      "dense (Dense)                (None, 16)                4272      \n",
      "_________________________________________________________________\n",
      "dropout (Dropout)            (None, 16)                0         \n",
      "_________________________________________________________________\n",
      "dense_1 (Dense)              (None, 1)                 17        \n",
      "=================================================================\n",
      "Total params: 4,289\n",
      "Trainable params: 4,289\n",
      "Non-trainable params: 0\n",
      "_________________________________________________________________\n"
     ]
    }
   ],
   "source": [
    "model = make_model()\n",
    "model.summary()"
   ]
  },
  {
   "cell_type": "code",
   "execution_count": 13,
   "metadata": {},
   "outputs": [
    {
     "data": {
      "text/plain": [
       "array([[0.7898536 ],\n",
       "       [0.66407096],\n",
       "       [0.7127557 ],\n",
       "       [0.539934  ],\n",
       "       [0.82806337],\n",
       "       [0.7258838 ],\n",
       "       [0.4800256 ],\n",
       "       [0.5114473 ],\n",
       "       [0.5667137 ],\n",
       "       [0.51073533]], dtype=float32)"
      ]
     },
     "execution_count": 13,
     "metadata": {},
     "output_type": "execute_result"
    }
   ],
   "source": [
    "model.predict(train_features[:10])"
   ]
  },
  {
   "cell_type": "code",
   "execution_count": 14,
   "metadata": {},
   "outputs": [
    {
     "name": "stdout",
     "output_type": "stream",
     "text": [
      "Loss: 1.0897\n"
     ]
    }
   ],
   "source": [
    "results = model.evaluate(train_features, train_labels, batch_size=BATCH_SIZE, verbose=0)\n",
    "print(\"Loss: {:0.4f}\".format(results[0]))"
   ]
  },
  {
   "cell_type": "code",
   "execution_count": 15,
   "metadata": {},
   "outputs": [
    {
     "data": {
      "text/plain": [
       "array([-3.36316399])"
      ]
     },
     "execution_count": 15,
     "metadata": {},
     "output_type": "execute_result"
    }
   ],
   "source": [
    "initial_bias = np.log([pos/neg])\n",
    "initial_bias"
   ]
  },
  {
   "cell_type": "code",
   "execution_count": 16,
   "metadata": {},
   "outputs": [
    {
     "data": {
      "text/plain": [
       "array([[0.05748177],\n",
       "       [0.3839926 ],\n",
       "       [0.12709501],\n",
       "       [0.13615778],\n",
       "       [0.04106671],\n",
       "       [0.06793734],\n",
       "       [0.176606  ],\n",
       "       [0.10187042],\n",
       "       [0.1994155 ],\n",
       "       [0.08946632]], dtype=float32)"
      ]
     },
     "execution_count": 16,
     "metadata": {},
     "output_type": "execute_result"
    }
   ],
   "source": [
    "model = make_model(output_bias = initial_bias)\n",
    "model.predict(train_features[:10])"
   ]
  },
  {
   "cell_type": "code",
   "execution_count": 17,
   "metadata": {},
   "outputs": [
    {
     "name": "stdout",
     "output_type": "stream",
     "text": [
      "Loss: 0.2128\n"
     ]
    }
   ],
   "source": [
    "results = model.evaluate(train_features, train_labels, batch_size=BATCH_SIZE, verbose=0)\n",
    "print(\"Loss: {:0.4f}\".format(results[0]))"
   ]
  },
  {
   "cell_type": "code",
   "execution_count": 18,
   "metadata": {},
   "outputs": [
    {
     "name": "stdout",
     "output_type": "stream",
     "text": [
      "WARNING:tensorflow:This model was compiled with a Keras optimizer (<tensorflow.python.keras.optimizers.Adam object at 0x1a53bd14e0>) but is being saved in TensorFlow format with `save_weights`. The model's weights will be saved, but unlike with TensorFlow optimizers in the TensorFlow format the optimizer's state will not be saved.\n",
      "\n",
      "Consider using a TensorFlow optimizer from `tf.train`.\n",
      "WARNING:tensorflow:From /Users/abdygaziev/anaconda3/envs/learn-deep/lib/python3.6/site-packages/tensorflow/python/keras/engine/network.py:1436: update_checkpoint_state (from tensorflow.python.training.checkpoint_management) is deprecated and will be removed in a future version.\n",
      "Instructions for updating:\n",
      "Use tf.train.CheckpointManager to manage checkpoints rather than manually editing the Checkpoint proto.\n"
     ]
    }
   ],
   "source": [
    "initial_weights = os.path.join(tempfile.mkdtemp(),'initial_weights')\n",
    "model.save_weights(initial_weights)"
   ]
  },
  {
   "cell_type": "code",
   "execution_count": 19,
   "metadata": {},
   "outputs": [
    {
     "name": "stdout",
     "output_type": "stream",
     "text": [
      "WARNING:tensorflow:From /Users/abdygaziev/anaconda3/envs/learn-deep/lib/python3.6/site-packages/tensorflow/python/ops/math_ops.py:3066: to_int32 (from tensorflow.python.ops.math_ops) is deprecated and will be removed in a future version.\n",
      "Instructions for updating:\n",
      "Use tf.cast instead.\n"
     ]
    }
   ],
   "source": [
    "model = make_model()\n",
    "model.load_weights(initial_weights)\n",
    "model.layers[-1].bias.assign([0.0])\n",
    "zero_bias_history = model.fit(\n",
    "    train_features,\n",
    "    train_labels,\n",
    "    batch_size=BATCH_SIZE,\n",
    "    epochs=20,\n",
    "    validation_data=(val_features, val_labels), \n",
    "    verbose=0)"
   ]
  },
  {
   "cell_type": "code",
   "execution_count": 20,
   "metadata": {},
   "outputs": [],
   "source": [
    "model = make_model()\n",
    "model.load_weights(initial_weights)\n",
    "careful_bias_history = model.fit(\n",
    "    train_features,\n",
    "    train_labels,\n",
    "    batch_size=BATCH_SIZE,\n",
    "    epochs=20,\n",
    "    validation_data=(val_features, val_labels), \n",
    "    verbose=0)"
   ]
  },
  {
   "cell_type": "code",
   "execution_count": 23,
   "metadata": {},
   "outputs": [],
   "source": [
    "mpl.rcParams['figure.figsize'] = (12, 10)\n",
    "colors = plt.rcParams['axes.prop_cycle'].by_key()['color']"
   ]
  },
  {
   "cell_type": "code",
   "execution_count": 24,
   "metadata": {},
   "outputs": [],
   "source": [
    "def plot_loss(history, label, n):\n",
    "  # Use a log scale to show the wide range of values.\n",
    "    plt.semilogy(history.epoch,  history.history['loss'], color=colors[n], label='Train '+label)\n",
    "    plt.semilogy(history.epoch,  history.history['val_loss'],\n",
    "              color=colors[n], label='Val '+label,\n",
    "              linestyle=\"--\")\n",
    "    plt.xlabel('Epoch')\n",
    "    plt.ylabel('Loss')\n",
    "  \n",
    "    plt.legend()"
   ]
  },
  {
   "cell_type": "code",
   "execution_count": 25,
   "metadata": {},
   "outputs": [
    {
     "data": {
      "image/png": "[encoded data removed]",
      "text/plain": [
       "<Figure size 864x720 with 1 Axes>"
      ]
     },
     "metadata": {
      "needs_background": "light"
     },
     "output_type": "display_data"
    }
   ],
   "source": [
    "plot_loss(zero_bias_history, \"Zero Bias\", 0)\n",
    "plot_loss(careful_bias_history, \"Careful Bias\", 1)"
   ]
  },
  {
   "cell_type": "code",
   "execution_count": null,
   "metadata": {},
   "outputs": [
    {
     "name": "stdout",
     "output_type": "stream",
     "text": [
      "Train on 341124 samples, validate on 85281 samples\n",
      "Epoch 1/100\n",
      "339968/341124 [============================>.] - ETA: 0s - loss: 0.1387 - tp: 1142.0000 - fp: 1782.0000 - tn: 326781.0000 - fn: 10263.0000 - accuracy: 0.9646 - precision: 0.3906 - recall: 0.1001WARNING:tensorflow:Early stopping conditioned on metric `val_auc` which is not available. Available metrics are: loss,tp,fp,tn,fn,accuracy,precision,recall,val_loss,val_tp,val_fp,val_tn,val_fn,val_accuracy,val_precision,val_recall\n",
      "341124/341124 [==============================] - 5s 15us/sample - loss: 0.1386 - tp: 1147.0000 - fp: 1785.0000 - tn: 327898.0000 - fn: 10294.0000 - accuracy: 0.9646 - precision: 0.3912 - recall: 0.1003 - val_loss: 0.1140 - val_tp: 280.0000 - val_fp: 60.0000 - val_tn: 82376.0000 - val_fn: 2565.0000 - val_accuracy: 0.9692 - val_precision: 0.8235 - val_recall: 0.0984\n",
      "Epoch 2/100\n",
      "335872/341124 [============================>.] - ETA: 0s - loss: 0.1182 - tp: 1427.0000 - fp: 618.0000 - tn: 324008.0000 - fn: 9819.0000 - accuracy: 0.9689 - precision: 0.6978 - recall: 0.1269WARNING:tensorflow:Early stopping conditioned on metric `val_auc` which is not available. Available metrics are: loss,tp,fp,tn,fn,accuracy,precision,recall,val_loss,val_tp,val_fp,val_tn,val_fn,val_accuracy,val_precision,val_recall\n",
      "341124/341124 [==============================] - 5s 14us/sample - loss: 0.1182 - tp: 1457.0000 - fp: 626.0000 - tn: 329057.0000 - fn: 9984.0000 - accuracy: 0.9689 - precision: 0.6995 - recall: 0.1273 - val_loss: 0.1110 - val_tp: 318.0000 - val_fp: 63.0000 - val_tn: 82373.0000 - val_fn: 2527.0000 - val_accuracy: 0.9696 - val_precision: 0.8346 - val_recall: 0.1118\n",
      "Epoch 3/100\n",
      "337920/341124 [============================>.] - ETA: 0s - loss: 0.1143 - tp: 1622.0000 - fp: 595.0000 - tn: 325981.0000 - fn: 9722.0000 - accuracy: 0.9695 - precision: 0.7316 - recall: 0.1430: 3s - loss: 0.1110 - tp: 180.0000 - fp:WARNING:tensorflow:Early stopping conditioned on metric `val_auc` which is not available. Available metrics are: loss,tp,fp,tn,fn,accuracy,precision,recall,val_loss,val_tp,val_fp,val_tn,val_fn,val_accuracy,val_precision,val_recall\n",
      "341124/341124 [==============================] - 5s 15us/sample - loss: 0.1142 - tp: 1637.0000 - fp: 605.0000 - tn: 329078.0000 - fn: 9804.0000 - accuracy: 0.9695 - precision: 0.7302 - recall: 0.1431 - val_loss: 0.1086 - val_tp: 349.0000 - val_fp: 69.0000 - val_tn: 82367.0000 - val_fn: 2496.0000 - val_accuracy: 0.9699 - val_precision: 0.8349 - val_recall: 0.1227\n",
      "Epoch 4/100\n",
      "335872/341124 [============================>.] - ETA: 0s - loss: 0.1125 - tp: 1699.0000 - fp: 591.0000 - tn: 324011.0000 - fn: 9571.0000 - accuracy: 0.9697 - precision: 0.7419 - recall: 0.1508TA: 3s - loss: 0.1137 - tp: 302.0000 - fp: WARNING:tensorflow:Early stopping conditioned on metric `val_auc` which is not available. Available metrics are: loss,tp,fp,tn,fn,accuracy,precision,recall,val_loss,val_tp,val_fp,val_tn,val_fn,val_accuracy,val_precision,val_recall\n",
      "341124/341124 [==============================] - 5s 15us/sample - loss: 0.1124 - tp: 1724.0000 - fp: 606.0000 - tn: 329077.0000 - fn: 9717.0000 - accuracy: 0.9697 - precision: 0.7399 - recall: 0.1507 - val_loss: 0.1077 - val_tp: 331.0000 - val_fp: 66.0000 - val_tn: 82370.0000 - val_fn: 2514.0000 - val_accuracy: 0.9697 - val_precision: 0.8338 - val_recall: 0.1163\n",
      "Epoch 5/100\n",
      "339968/341124 [============================>.] - ETA: 0s - loss: 0.1113 - tp: 1776.0000 - fp: 605.0000 - tn: 327976.0000 - fn: 9611.0000 - accuracy: 0.9700 - precision: 0.7459 - recall: 0.1560WARNING:tensorflow:Early stopping conditioned on metric `val_auc` which is not available. Available metrics are: loss,tp,fp,tn,fn,accuracy,precision,recall,val_loss,val_tp,val_fp,val_tn,val_fn,val_accuracy,val_precision,val_recall\n",
      "341124/341124 [==============================] - 5s 13us/sample - loss: 0.1114 - tp: 1782.0000 - fp: 606.0000 - tn: 329077.0000 - fn: 9659.0000 - accuracy: 0.9699 - precision: 0.7462 - recall: 0.1558 - val_loss: 0.1072 - val_tp: 359.0000 - val_fp: 74.0000 - val_tn: 82362.0000 - val_fn: 2486.0000 - val_accuracy: 0.9700 - val_precision: 0.8291 - val_recall: 0.1262\n",
      "Epoch 6/100\n",
      "337920/341124 [============================>.] - ETA: 0s - loss: 0.1104 - tp: 1796.0000 - fp: 628.0000 - tn: 325972.0000 - fn: 9524.0000 - accuracy: 0.9700 - precision: 0.7409 - recall: 0.1587WARNING:tensorflow:Early stopping conditioned on metric `val_auc` which is not available. Available metrics are: loss,tp,fp,tn,fn,accuracy,precision,recall,val_loss,val_tp,val_fp,val_tn,val_fn,val_accuracy,val_precision,val_recall\n",
      "341124/341124 [==============================] - 5s 14us/sample - loss: 0.1104 - tp: 1819.0000 - fp: 633.0000 - tn: 329050.0000 - fn: 9622.0000 - accuracy: 0.9699 - precision: 0.7418 - recall: 0.1590 - val_loss: 0.1059 - val_tp: 449.0000 - val_fp: 111.0000 - val_tn: 82325.0000 - val_fn: 2396.0000 - val_accuracy: 0.9706 - val_precision: 0.8018 - val_recall: 0.1578\n",
      "Epoch 7/100\n",
      "339968/341124 [============================>.] - ETA: 0s - loss: 0.1101 - tp: 1905.0000 - fp: 650.0000 - tn: 327905.0000 - fn: 9508.0000 - accuracy: 0.9701 - precision: 0.7456 - recall: 0.1669WARNING:tensorflow:Early stopping conditioned on metric `val_auc` which is not available. Available metrics are: loss,tp,fp,tn,fn,accuracy,precision,recall,val_loss,val_tp,val_fp,val_tn,val_fn,val_accuracy,val_precision,val_recall\n",
      "341124/341124 [==============================] - 6s 17us/sample - loss: 0.1100 - tp: 1908.0000 - fp: 653.0000 - tn: 329030.0000 - fn: 9533.0000 - accuracy: 0.9701 - precision: 0.7450 - recall: 0.1668 - val_loss: 0.1054 - val_tp: 444.0000 - val_fp: 97.0000 - val_tn: 82339.0000 - val_fn: 2401.0000 - val_accuracy: 0.9707 - val_precision: 0.8207 - val_recall: 0.1561\n",
      "Epoch 8/100\n",
      "335872/341124 [============================>.] - ETA: 0s - loss: 0.1088 - tp: 1944.0000 - fp: 637.0000 - tn: 324001.0000 - fn: 9290.0000 - accuracy: 0.9704 - precision: 0.7532 - recall: 0.1730WARNING:tensorflow:Early stopping conditioned on metric `val_auc` which is not available. Available metrics are: loss,tp,fp,tn,fn,accuracy,precision,recall,val_loss,val_tp,val_fp,val_tn,val_fn,val_accuracy,val_precision,val_recall\n",
      "341124/341124 [==============================] - 6s 18us/sample - loss: 0.1089 - tp: 1980.0000 - fp: 650.0000 - tn: 329033.0000 - fn: 9461.0000 - accuracy: 0.9704 - precision: 0.7529 - recall: 0.1731 - val_loss: 0.1045 - val_tp: 493.0000 - val_fp: 123.0000 - val_tn: 82313.0000 - val_fn: 2352.0000 - val_accuracy: 0.9710 - val_precision: 0.8003 - val_recall: 0.1733\n",
      "Epoch 9/100\n",
      "337920/341124 [============================>.] - ETA: 0s - loss: 0.1084 - tp: 2040.0000 - fp: 643.0000 - tn: 325956.0000 - fn: 9281.0000 - accuracy: 0.9706 - precision: 0.7603 - recall: 0.1802WARNING:tensorflow:Early stopping conditioned on metric `val_auc` which is not available. Available metrics are: loss,tp,fp,tn,fn,accuracy,precision,recall,val_loss,val_tp,val_fp,val_tn,val_fn,val_accuracy,val_precision,val_recall\n",
      "341124/341124 [==============================] - 4s 11us/sample - loss: 0.1086 - tp: 2055.0000 - fp: 650.0000 - tn: 329033.0000 - fn: 9386.0000 - accuracy: 0.9706 - precision: 0.7597 - recall: 0.1796 - val_loss: 0.1046 - val_tp: 472.0000 - val_fp: 102.0000 - val_tn: 82334.0000 - val_fn: 2373.0000 - val_accuracy: 0.9710 - val_precision: 0.8223 - val_recall: 0.1659\n",
      "Epoch 10/100\n",
      "339968/341124 [============================>.] - ETA: 0s - loss: 0.1079 - tp: 2048.0000 - fp: 660.0000 - tn: 327909.0000 - fn: 9351.0000 - accuracy: 0.9706 - precision: 0.7563 - recall: 0.1797WARNING:tensorflow:Early stopping conditioned on metric `val_auc` which is not available. Available metrics are: loss,tp,fp,tn,fn,accuracy,precision,recall,val_loss,val_tp,val_fp,val_tn,val_fn,val_accuracy,val_precision,val_recall\n",
      "341124/341124 [==============================] - 4s 11us/sample - loss: 0.1079 - tp: 2061.0000 - fp: 663.0000 - tn: 329020.0000 - fn: 9380.0000 - accuracy: 0.9706 - precision: 0.7566 - recall: 0.1801 - val_loss: 0.1039 - val_tp: 482.0000 - val_fp: 108.0000 - val_tn: 82328.0000 - val_fn: 2363.0000 - val_accuracy: 0.9710 - val_precision: 0.8169 - val_recall: 0.1694\n",
      "Epoch 11/100\n",
      "335872/341124 [============================>.] - ETA: 0s - loss: 0.1079 - tp: 1995.0000 - fp: 663.0000 - tn: 323959.0000 - fn: 9255.0000 - accuracy: 0.9705 - precision: 0.7506 - recall: 0.1773WARNING:tensorflow:Early stopping conditioned on metric `val_auc` which is not available. Available metrics are: loss,tp,fp,tn,fn,accuracy,precision,recall,val_loss,val_tp,val_fp,val_tn,val_fn,val_accuracy,val_precision,val_recall\n",
      "341124/341124 [==============================] - 4s 11us/sample - loss: 0.1081 - tp: 2025.0000 - fp: 671.0000 - tn: 329012.0000 - fn: 9416.0000 - accuracy: 0.9704 - precision: 0.7511 - recall: 0.1770 - val_loss: 0.1047 - val_tp: 398.0000 - val_fp: 74.0000 - val_tn: 82362.0000 - val_fn: 2447.0000 - val_accuracy: 0.9704 - val_precision: 0.8432 - val_recall: 0.1399\n",
      "Epoch 12/100\n",
      "335872/341124 [============================>.] - ETA: 0s - loss: 0.1076 - tp: 2075.0000 - fp: 694.0000 - tn: 323906.0000 - fn: 9197.0000 - accuracy: 0.9706 - precision: 0.7494 - recall: 0.1841WARNING:tensorflow:Early stopping conditioned on metric `val_auc` which is not available. Available metrics are: loss,tp,fp,tn,fn,accuracy,precision,recall,val_loss,val_tp,val_fp,val_tn,val_fn,val_accuracy,val_precision,val_recall\n",
      "341124/341124 [==============================] - 4s 12us/sample - loss: 0.1076 - tp: 2116.0000 - fp: 707.0000 - tn: 328976.0000 - fn: 9325.0000 - accuracy: 0.9706 - precision: 0.7496 - recall: 0.1849 - val_loss: 0.1041 - val_tp: 444.0000 - val_fp: 92.0000 - val_tn: 82344.0000 - val_fn: 2401.0000 - val_accuracy: 0.9708 - val_precision: 0.8284 - val_recall: 0.1561\n",
      "Epoch 13/100\n",
      "339968/341124 [============================>.] - ETA: 0s - loss: 0.1071 - tp: 2139.0000 - fp: 683.0000 - tn: 327898.0000 - fn: 9248.0000 - accuracy: 0.9708 - precision: 0.7580 - recall: 0.1878WARNING:tensorflow:Early stopping conditioned on metric `val_auc` which is not available. Available metrics are: loss,tp,fp,tn,fn,accuracy,precision,recall,val_loss,val_tp,val_fp,val_tn,val_fn,val_accuracy,val_precision,val_recall\n",
      "341124/341124 [==============================] - 4s 12us/sample - loss: 0.1071 - tp: 2152.0000 - fp: 689.0000 - tn: 328994.0000 - fn: 9289.0000 - accuracy: 0.9707 - precision: 0.7575 - recall: 0.1881 - val_loss: 0.1031 - val_tp: 539.0000 - val_fp: 148.0000 - val_tn: 82288.0000 - val_fn: 2306.0000 - val_accuracy: 0.9712 - val_precision: 0.7846 - val_recall: 0.1895\n",
      "Epoch 14/100\n",
      "337920/341124 [============================>.] - ETA: 0s - loss: 0.1067 - tp: 2122.0000 - fp: 673.0000 - tn: 325932.0000 - fn: 9193.0000 - accuracy: 0.9708 - precision: 0.7592 - recall: 0.1875WARNING:tensorflow:Early stopping conditioned on metric `val_auc` which is not available. Available metrics are: loss,tp,fp,tn,fn,accuracy,precision,recall,val_loss,val_tp,val_fp,val_tn,val_fn,val_accuracy,val_precision,val_recall\n",
      "341124/341124 [==============================] - 4s 12us/sample - loss: 0.1067 - tp: 2151.0000 - fp: 680.0000 - tn: 329003.0000 - fn: 9290.0000 - accuracy: 0.9708 - precision: 0.7598 - recall: 0.1880 - val_loss: 0.1028 - val_tp: 563.0000 - val_fp: 162.0000 - val_tn: 82274.0000 - val_fn: 2282.0000 - val_accuracy: 0.9713 - val_precision: 0.7766 - val_recall: 0.1979\n",
      "Epoch 15/100\n",
      "335872/341124 [============================>.] - ETA: 0s - loss: 0.1064 - tp: 2175.0000 - fp: 690.0000 - tn: 323919.0000 - fn: 9088.0000 - accuracy: 0.9709 - precision: 0.7592 - recall: 0.1931TA: 2s - loss: 0.1104 - tp: 385.0000 - fp: 141.0000 - tnWARNING:tensorflow:Early stopping conditioned on metric `val_auc` which is not available. Available metrics are: loss,tp,fp,tn,fn,accuracy,precision,recall,val_loss,val_tp,val_fp,val_tn,val_fn,val_accuracy,val_precision,val_recall\n",
      "341124/341124 [==============================] - 4s 12us/sample - loss: 0.1064 - tp: 2208.0000 - fp: 699.0000 - tn: 328984.0000 - fn: 9233.0000 - accuracy: 0.9709 - precision: 0.7595 - recall: 0.1930 - val_loss: 0.1023 - val_tp: 555.0000 - val_fp: 146.0000 - val_tn: 82290.0000 - val_fn: 2290.0000 - val_accuracy: 0.9714 - val_precision: 0.7917 - val_recall: 0.1951\n",
      "Epoch 16/100\n",
      "337920/341124 [============================>.] - ETA: 0s - loss: 0.1066 - tp: 2171.0000 - fp: 704.0000 - tn: 325877.0000 - fn: 9168.0000 - accuracy: 0.9708 - precision: 0.7551 - recall: 0.1915WARNING:tensorflow:Early stopping conditioned on metric `val_auc` which is not available. Available metrics are: loss,tp,fp,tn,fn,accuracy,precision,recall,val_loss,val_tp,val_fp,val_tn,val_fn,val_accuracy,val_precision,val_recall\n",
      "341124/341124 [==============================] - 4s 11us/sample - loss: 0.1066 - tp: 2191.0000 - fp: 713.0000 - tn: 328970.0000 - fn: 9250.0000 - accuracy: 0.9708 - precision: 0.7545 - recall: 0.1915 - val_loss: 0.1019 - val_tp: 525.0000 - val_fp: 114.0000 - val_tn: 82322.0000 - val_fn: 2320.0000 - val_accuracy: 0.9715 - val_precision: 0.8216 - val_recall: 0.1845\n",
      "Epoch 17/100\n",
      "337920/341124 [============================>.] - ETA: 0s - loss: 0.1060 - tp: 2212.0000 - fp: 726.0000 - tn: 325867.0000 - fn: 9115.0000 - accuracy: 0.9709 - precision: 0.7529 - recall: 0.1953WARNING:tensorflow:Early stopping conditioned on metric `val_auc` which is not available. Available metrics are: loss,tp,fp,tn,fn,accuracy,precision,recall,val_loss,val_tp,val_fp,val_tn,val_fn,val_accuracy,val_precision,val_recall\n",
      "341124/341124 [==============================] - 4s 12us/sample - loss: 0.1060 - tp: 2242.0000 - fp: 731.0000 - tn: 328952.0000 - fn: 9199.0000 - accuracy: 0.9709 - precision: 0.7541 - recall: 0.1960 - val_loss: 0.1019 - val_tp: 543.0000 - val_fp: 126.0000 - val_tn: 82310.0000 - val_fn: 2302.0000 - val_accuracy: 0.9715 - val_precision: 0.8117 - val_recall: 0.1909\n",
      "Epoch 18/100\n",
      "337920/341124 [============================>.] - ETA: 0s - loss: 0.1061 - tp: 2225.0000 - fp: 699.0000 - tn: 325900.0000 - fn: 9096.0000 - accuracy: 0.9710 - precision: 0.7609 - recall: 0.1965WARNING:tensorflow:Early stopping conditioned on metric `val_auc` which is not available. Available metrics are: loss,tp,fp,tn,fn,accuracy,precision,recall,val_loss,val_tp,val_fp,val_tn,val_fn,val_accuracy,val_precision,val_recall\n",
      "341124/341124 [==============================] - 4s 11us/sample - loss: 0.1061 - tp: 2250.0000 - fp: 706.0000 - tn: 328977.0000 - fn: 9191.0000 - accuracy: 0.9710 - precision: 0.7612 - recall: 0.1967 - val_loss: 0.1025 - val_tp: 468.0000 - val_fp: 85.0000 - val_tn: 82351.0000 - val_fn: 2377.0000 - val_accuracy: 0.9711 - val_precision: 0.8463 - val_recall: 0.1645\n",
      "Epoch 19/100\n",
      "339968/341124 [============================>.] - ETA: 0s - loss: 0.1057 - tp: 2279.0000 - fp: 757.0000 - tn: 327818.0000 - fn: 9114.0000 - accuracy: 0.9710 - precision: 0.7507 - recall: 0.2000WARNING:tensorflow:Early stopping conditioned on metric `val_auc` which is not available. Available metrics are: loss,tp,fp,tn,fn,accuracy,precision,recall,val_loss,val_tp,val_fp,val_tn,val_fn,val_accuracy,val_precision,val_recall\n",
      "341124/341124 [==============================] - 4s 11us/sample - loss: 0.1058 - tp: 2286.0000 - fp: 761.0000 - tn: 328922.0000 - fn: 9155.0000 - accuracy: 0.9709 - precision: 0.7502 - recall: 0.1998 - val_loss: 0.1016 - val_tp: 521.0000 - val_fp: 113.0000 - val_tn: 82323.0000 - val_fn: 2324.0000 - val_accuracy: 0.9714 - val_precision: 0.8218 - val_recall: 0.1831\n",
      "Epoch 20/100\n",
      "337920/341124 [============================>.] - ETA: 0s - loss: 0.1056 - tp: 2325.0000 - fp: 733.0000 - tn: 325845.0000 - fn: 9017.0000 - accuracy: 0.9711 - precision: 0.7603 - recall: 0.2050WARNING:tensorflow:Early stopping conditioned on metric `val_auc` which is not available. Available metrics are: loss,tp,fp,tn,fn,accuracy,precision,recall,val_loss,val_tp,val_fp,val_tn,val_fn,val_accuracy,val_precision,val_recall\n",
      "341124/341124 [==============================] - 5s 15us/sample - loss: 0.1056 - tp: 2341.0000 - fp: 737.0000 - tn: 328946.0000 - fn: 9100.0000 - accuracy: 0.9712 - precision: 0.7606 - recall: 0.2046 - val_loss: 0.1015 - val_tp: 503.0000 - val_fp: 92.0000 - val_tn: 82344.0000 - val_fn: 2342.0000 - val_accuracy: 0.9715 - val_precision: 0.8454 - val_recall: 0.1768\n",
      "Epoch 21/100\n",
      "337920/341124 [============================>.] - ETA: 0s - loss: 0.1054 - tp: 2280.0000 - fp: 715.0000 - tn: 325859.0000 - fn: 9066.0000 - accuracy: 0.9711 - precision: 0.7613 - recall: 0.2010WARNING:tensorflow:Early stopping conditioned on metric `val_auc` which is not available. Available metrics are: loss,tp,fp,tn,fn,accuracy,precision,recall,val_loss,val_tp,val_fp,val_tn,val_fn,val_accuracy,val_precision,val_recall\n",
      "341124/341124 [==============================] - 5s 14us/sample - loss: 0.1053 - tp: 2305.0000 - fp: 724.0000 - tn: 328959.0000 - fn: 9136.0000 - accuracy: 0.9711 - precision: 0.7610 - recall: 0.2015 - val_loss: 0.1015 - val_tp: 513.0000 - val_fp: 107.0000 - val_tn: 82329.0000 - val_fn: 2332.0000 - val_accuracy: 0.9714 - val_precision: 0.8274 - val_recall: 0.1803\n",
      "Epoch 22/100\n",
      "339968/341124 [============================>.] - ETA: 0s - loss: 0.1053 - tp: 2327.0000 - fp: 741.0000 - tn: 327822.0000 - fn: 9078.0000 - accuracy: 0.9711 - precision: 0.7585 - recall: 0.2040WARNING:tensorflow:Early stopping conditioned on metric `val_auc` which is not available. Available metrics are: loss,tp,fp,tn,fn,accuracy,precision,recall,val_loss,val_tp,val_fp,val_tn,val_fn,val_accuracy,val_precision,val_recall\n",
      "341124/341124 [==============================] - 6s 16us/sample - loss: 0.1052 - tp: 2337.0000 - fp: 741.0000 - tn: 328942.0000 - fn: 9104.0000 - accuracy: 0.9711 - precision: 0.7593 - recall: 0.2043 - val_loss: 0.1009 - val_tp: 526.0000 - val_fp: 103.0000 - val_tn: 82333.0000 - val_fn: 2319.0000 - val_accuracy: 0.9716 - val_precision: 0.8362 - val_recall: 0.1849\n",
      "Epoch 23/100\n",
      "335872/341124 [============================>.] - ETA: 0s - loss: 0.1046 - tp: 2335.0000 - fp: 726.0000 - tn: 323889.0000 - fn: 8922.0000 - accuracy: 0.9713 - precision: 0.7628 - recall: 0.2074WARNING:tensorflow:Early stopping conditioned on metric `val_auc` which is not available. Available metrics are: loss,tp,fp,tn,fn,accuracy,precision,recall,val_loss,val_tp,val_fp,val_tn,val_fn,val_accuracy,val_precision,val_recall\n",
      "341124/341124 [==============================] - 4s 13us/sample - loss: 0.1047 - tp: 2376.0000 - fp: 741.0000 - tn: 328942.0000 - fn: 9065.0000 - accuracy: 0.9713 - precision: 0.7623 - recall: 0.2077 - val_loss: 0.1008 - val_tp: 569.0000 - val_fp: 140.0000 - val_tn: 82296.0000 - val_fn: 2276.0000 - val_accuracy: 0.9717 - val_precision: 0.8025 - val_recall: 0.2000\n",
      "Epoch 24/100\n",
      "339968/341124 [============================>.] - ETA: 0s - loss: 0.1051 - tp: 2366.0000 - fp: 759.0000 - tn: 327812.0000 - fn: 9031.0000 - accuracy: 0.9712 - precision: 0.7571 - recall: 0.2076WARNING:tensorflow:Early stopping conditioned on metric `val_auc` which is not available. Available metrics are: loss,tp,fp,tn,fn,accuracy,precision,recall,val_loss,val_tp,val_fp,val_tn,val_fn,val_accuracy,val_precision,val_recall\n",
      "341124/341124 [==============================] - 4s 12us/sample - loss: 0.1052 - tp: 2369.0000 - fp: 764.0000 - tn: 328919.0000 - fn: 9072.0000 - accuracy: 0.9712 - precision: 0.7561 - recall: 0.2071 - val_loss: 0.1004 - val_tp: 557.0000 - val_fp: 113.0000 - val_tn: 82323.0000 - val_fn: 2288.0000 - val_accuracy: 0.9718 - val_precision: 0.8313 - val_recall: 0.1958\n",
      "Epoch 25/100\n",
      "337920/341124 [============================>.] - ETA: 0s - loss: 0.1044 - tp: 2351.0000 - fp: 752.0000 - tn: 325849.0000 - fn: 8968.0000 - accuracy: 0.9712 - precision: 0.7577 - recall: 0.2077 ETA: 0s - loss: 0.1040 - tp: 2213.0000 - fp: 707.0000 - tn: 304139.0000 - fn: 8333.0000 - accuracy: 0.9713 - precision: 0.7579 - recaWARNING:tensorflow:Early stopping conditioned on metric `val_auc` which is not available. Available metrics are: loss,tp,fp,tn,fn,accuracy,precision,recall,val_loss,val_tp,val_fp,val_tn,val_fn,val_accuracy,val_precision,val_recall\n",
      "341124/341124 [==============================] - 4s 12us/sample - loss: 0.1044 - tp: 2382.0000 - fp: 759.0000 - tn: 328924.0000 - fn: 9059.0000 - accuracy: 0.9712 - precision: 0.7584 - recall: 0.2082 - val_loss: 0.1004 - val_tp: 632.0000 - val_fp: 185.0000 - val_tn: 82251.0000 - val_fn: 2213.0000 - val_accuracy: 0.9719 - val_precision: 0.7736 - val_recall: 0.2221\n",
      "Epoch 26/100\n",
      "339968/341124 [============================>.] - ETA: 0s - loss: 0.1045 - tp: 2402.0000 - fp: 745.0000 - tn: 327831.0000 - fn: 8990.0000 - accuracy: 0.9714 - precision: 0.7633 - recall: 0.2108 ETA: 2s - loss: 0.1027 - tp: 796.0000 - fp: 264.0000 - tn: 108662.0000 WARNING:tensorflow:Early stopping conditioned on metric `val_auc` which is not available. Available metrics are: loss,tp,fp,tn,fn,accuracy,precision,recall,val_loss,val_tp,val_fp,val_tn,val_fn,val_accuracy,val_precision,val_recall\n",
      "341124/341124 [==============================] - 4s 12us/sample - loss: 0.1045 - tp: 2413.0000 - fp: 748.0000 - tn: 328935.0000 - fn: 9028.0000 - accuracy: 0.9713 - precision: 0.7634 - recall: 0.2109 - val_loss: 0.1003 - val_tp: 577.0000 - val_fp: 119.0000 - val_tn: 82317.0000 - val_fn: 2268.0000 - val_accuracy: 0.9720 - val_precision: 0.8290 - val_recall: 0.2028\n",
      "Epoch 27/100\n",
      "337920/341124 [============================>.] - ETA: 0s - loss: 0.1047 - tp: 2386.0000 - fp: 742.0000 - tn: 325849.0000 - fn: 8943.0000 - accuracy: 0.9713 - precision: 0.7628 - recall: 0.2106WARNING:tensorflow:Early stopping conditioned on metric `val_auc` which is not available. Available metrics are: loss,tp,fp,tn,fn,accuracy,precision,recall,val_loss,val_tp,val_fp,val_tn,val_fn,val_accuracy,val_precision,val_recall\n",
      "341124/341124 [==============================] - 4s 13us/sample - loss: 0.1047 - tp: 2403.0000 - fp: 746.0000 - tn: 328937.0000 - fn: 9038.0000 - accuracy: 0.9713 - precision: 0.7631 - recall: 0.2100 - val_loss: 0.1001 - val_tp: 547.0000 - val_fp: 108.0000 - val_tn: 82328.0000 - val_fn: 2298.0000 - val_accuracy: 0.9718 - val_precision: 0.8351 - val_recall: 0.1923\n",
      "Epoch 28/100\n",
      "337920/341124 [============================>.] - ETA: 0s - loss: 0.1039 - tp: 2433.0000 - fp: 757.0000 - tn: 325846.0000 - fn: 8884.0000 - accuracy: 0.9715 - precision: 0.7627 - recall: 0.2150WARNING:tensorflow:Early stopping conditioned on metric `val_auc` which is not available. Available metrics are: loss,tp,fp,tn,fn,accuracy,precision,recall,val_loss,val_tp,val_fp,val_tn,val_fn,val_accuracy,val_precision,val_recall\n",
      "341124/341124 [==============================] - 4s 12us/sample - loss: 0.1040 - tp: 2458.0000 - fp: 765.0000 - tn: 328918.0000 - fn: 8983.0000 - accuracy: 0.9714 - precision: 0.7626 - recall: 0.2148 - val_loss: 0.1002 - val_tp: 612.0000 - val_fp: 172.0000 - val_tn: 82264.0000 - val_fn: 2233.0000 - val_accuracy: 0.9718 - val_precision: 0.7806 - val_recall: 0.2151\n",
      "Epoch 29/100\n",
      "335872/341124 [============================>.] - ETA: 0s - loss: 0.1038 - tp: 2448.0000 - fp: 740.0000 - tn: 323853.0000 - fn: 8831.0000 - accuracy: 0.9715 - precision: 0.7679 - recall: 0.2170WARNING:tensorflow:Early stopping conditioned on metric `val_auc` which is not available. Available metrics are: loss,tp,fp,tn,fn,accuracy,precision,recall,val_loss,val_tp,val_fp,val_tn,val_fn,val_accuracy,val_precision,val_recall\n",
      "341124/341124 [==============================] - 4s 12us/sample - loss: 0.1039 - tp: 2477.0000 - fp: 754.0000 - tn: 328929.0000 - fn: 8964.0000 - accuracy: 0.9715 - precision: 0.7666 - recall: 0.2165 - val_loss: 0.0994 - val_tp: 596.0000 - val_fp: 138.0000 - val_tn: 82298.0000 - val_fn: 2249.0000 - val_accuracy: 0.9720 - val_precision: 0.8120 - val_recall: 0.2095\n",
      "Epoch 30/100\n",
      "339968/341124 [============================>.] - ETA: 0s - loss: 0.1044 - tp: 2454.0000 - fp: 735.0000 - tn: 327818.0000 - fn: 8961.0000 - accuracy: 0.9715 - precision: 0.7695 - recall: 0.2150WARNING:tensorflow:Early stopping conditioned on metric `val_auc` which is not available. Available metrics are: loss,tp,fp,tn,fn,accuracy,precision,recall,val_loss,val_tp,val_fp,val_tn,val_fn,val_accuracy,val_precision,val_recall\n",
      "341124/341124 [==============================] - 4s 11us/sample - loss: 0.1043 - tp: 2459.0000 - fp: 738.0000 - tn: 328945.0000 - fn: 8982.0000 - accuracy: 0.9715 - precision: 0.7692 - recall: 0.2149 - val_loss: 0.0994 - val_tp: 591.0000 - val_fp: 120.0000 - val_tn: 82316.0000 - val_fn: 2254.0000 - val_accuracy: 0.9722 - val_precision: 0.8312 - val_recall: 0.2077\n",
      "Epoch 31/100\n",
      "335872/341124 [============================>.] - ETA: 0s - loss: 0.1037 - tp: 2509.0000 - fp: 738.0000 - tn: 323841.0000 - fn: 8784.0000 - accuracy: 0.9716 - precision: 0.7727 - recall: 0.2222WARNING:tensorflow:Early stopping conditioned on metric `val_auc` which is not available. Available metrics are: loss,tp,fp,tn,fn,accuracy,precision,recall,val_loss,val_tp,val_fp,val_tn,val_fn,val_accuracy,val_precision,val_recall\n",
      "341124/341124 [==============================] - 4s 12us/sample - loss: 0.1035 - tp: 2532.0000 - fp: 743.0000 - tn: 328940.0000 - fn: 8909.0000 - accuracy: 0.9717 - precision: 0.7731 - recall: 0.2213 - val_loss: 0.1017 - val_tp: 417.0000 - val_fp: 45.0000 - val_tn: 82391.0000 - val_fn: 2428.0000 - val_accuracy: 0.9710 - val_precision: 0.9026 - val_recall: 0.1466\n",
      "Epoch 32/100\n",
      "339968/341124 [============================>.] - ETA: 0s - loss: 0.1040 - tp: 2439.0000 - fp: 745.0000 - tn: 327823.0000 - fn: 8961.0000 - accuracy: 0.9715 - precision: 0.7660 - recall: 0.2139WARNING:tensorflow:Early stopping conditioned on metric `val_auc` which is not available. Available metrics are: loss,tp,fp,tn,fn,accuracy,precision,recall,val_loss,val_tp,val_fp,val_tn,val_fn,val_accuracy,val_precision,val_recall\n",
      "341124/341124 [==============================] - 4s 11us/sample - loss: 0.1040 - tp: 2451.0000 - fp: 748.0000 - tn: 328935.0000 - fn: 8990.0000 - accuracy: 0.9715 - precision: 0.7662 - recall: 0.2142 - val_loss: 0.0996 - val_tp: 548.0000 - val_fp: 99.0000 - val_tn: 82337.0000 - val_fn: 2297.0000 - val_accuracy: 0.9719 - val_precision: 0.8470 - val_recall: 0.1926\n",
      "Epoch 33/100\n",
      "337920/341124 [============================>.] - ETA: 0s - loss: 0.1037 - tp: 2486.0000 - fp: 743.0000 - tn: 325822.0000 - fn: 8869.0000 - accuracy: 0.9716 - precision: 0.7699 - recall: 0.2189WARNING:tensorflow:Early stopping conditioned on metric `val_auc` which is not available. Available metrics are: loss,tp,fp,tn,fn,accuracy,precision,recall,val_loss,val_tp,val_fp,val_tn,val_fn,val_accuracy,val_precision,val_recall\n",
      "341124/341124 [==============================] - 4s 12us/sample - loss: 0.1036 - tp: 2502.0000 - fp: 747.0000 - tn: 328936.0000 - fn: 8939.0000 - accuracy: 0.9716 - precision: 0.7701 - recall: 0.2187 - val_loss: 0.0993 - val_tp: 574.0000 - val_fp: 105.0000 - val_tn: 82331.0000 - val_fn: 2271.0000 - val_accuracy: 0.9721 - val_precision: 0.8454 - val_recall: 0.2018\n",
      "Epoch 34/100\n",
      "335872/341124 [============================>.] - ETA: 0s - loss: 0.1034 - tp: 2523.0000 - fp: 705.0000 - tn: 323902.0000 - fn: 8742.0000 - accuracy: 0.9719 - precision: 0.7816 - recall: 0.2240WARNING:tensorflow:Early stopping conditioned on metric `val_auc` which is not available. Available metrics are: loss,tp,fp,tn,fn,accuracy,precision,recall,val_loss,val_tp,val_fp,val_tn,val_fn,val_accuracy,val_precision,val_recall\n",
      "341124/341124 [==============================] - 4s 11us/sample - loss: 0.1035 - tp: 2560.0000 - fp: 719.0000 - tn: 328964.0000 - fn: 8881.0000 - accuracy: 0.9719 - precision: 0.7807 - recall: 0.2238 - val_loss: 0.0991 - val_tp: 643.0000 - val_fp: 161.0000 - val_tn: 82275.0000 - val_fn: 2202.0000 - val_accuracy: 0.9723 - val_precision: 0.7998 - val_recall: 0.2260\n",
      "Epoch 35/100\n",
      "335872/341124 [============================>.] - ETA: 0s - loss: 0.1034 - tp: 2514.0000 - fp: 767.0000 - tn: 323835.0000 - fn: 8756.0000 - accuracy: 0.9716 - precision: 0.7662 - recall: 0.2231WARNING:tensorflow:Early stopping conditioned on metric `val_auc` which is not available. Available metrics are: loss,tp,fp,tn,fn,accuracy,precision,recall,val_loss,val_tp,val_fp,val_tn,val_fn,val_accuracy,val_precision,val_recall\n",
      "341124/341124 [==============================] - 4s 12us/sample - loss: 0.1033 - tp: 2552.0000 - fp: 774.0000 - tn: 328909.0000 - fn: 8889.0000 - accuracy: 0.9717 - precision: 0.7673 - recall: 0.2231 - val_loss: 0.0990 - val_tp: 577.0000 - val_fp: 100.0000 - val_tn: 82336.0000 - val_fn: 2268.0000 - val_accuracy: 0.9722 - val_precision: 0.8523 - val_recall: 0.2028\n",
      "Epoch 36/100\n",
      "337920/341124 [============================>.] - ETA: 0s - loss: 0.1032 - tp: 2551.0000 - fp: 776.0000 - tn: 325808.0000 - fn: 8785.0000 - accuracy: 0.9717 - precision: 0.7668 - recall: 0.2250WARNING:tensorflow:Early stopping conditioned on metric `val_auc` which is not available. Available metrics are: loss,tp,fp,tn,fn,accuracy,precision,recall,val_loss,val_tp,val_fp,val_tn,val_fn,val_accuracy,val_precision,val_recall\n",
      "341124/341124 [==============================] - 4s 12us/sample - loss: 0.1033 - tp: 2572.0000 - fp: 783.0000 - tn: 328900.0000 - fn: 8869.0000 - accuracy: 0.9717 - precision: 0.7666 - recall: 0.2248 - val_loss: 0.0996 - val_tp: 524.0000 - val_fp: 63.0000 - val_tn: 82373.0000 - val_fn: 2321.0000 - val_accuracy: 0.9720 - val_precision: 0.8927 - val_recall: 0.1842\n",
      "Epoch 37/100\n",
      "339968/341124 [============================>.] - ETA: 0s - loss: 0.1033 - tp: 2534.0000 - fp: 769.0000 - tn: 327797.0000 - fn: 8868.0000 - accuracy: 0.9717 - precision: 0.7672 - recall: 0.2222 ETA: 2s - loss: 0.1039 - tp: 1102.0000 - fp: 333.0000 - tn: 148153.0000 -WARNING:tensorflow:Early stopping conditioned on metric `val_auc` which is not available. Available metrics are: loss,tp,fp,tn,fn,accuracy,precision,recall,val_loss,val_tp,val_fp,val_tn,val_fn,val_accuracy,val_precision,val_recall\n",
      "341124/341124 [==============================] - 5s 14us/sample - loss: 0.1033 - tp: 2544.0000 - fp: 772.0000 - tn: 328911.0000 - fn: 8897.0000 - accuracy: 0.9717 - precision: 0.7672 - recall: 0.2224 - val_loss: 0.0988 - val_tp: 551.0000 - val_fp: 80.0000 - val_tn: 82356.0000 - val_fn: 2294.0000 - val_accuracy: 0.9722 - val_precision: 0.8732 - val_recall: 0.1937\n",
      "Epoch 38/100\n",
      "339968/341124 [============================>.] - ETA: 0s - loss: 0.1027 - tp: 2605.0000 - fp: 742.0000 - tn: 327822.0000 - fn: 8799.0000 - accuracy: 0.9719 - precision: 0.7783 - recall: 0.2284WARNING:tensorflow:Early stopping conditioned on metric `val_auc` which is not available. Available metrics are: loss,tp,fp,tn,fn,accuracy,precision,recall,val_loss,val_tp,val_fp,val_tn,val_fn,val_accuracy,val_precision,val_recall\n",
      "341124/341124 [==============================] - 4s 11us/sample - loss: 0.1026 - tp: 2617.0000 - fp: 744.0000 - tn: 328939.0000 - fn: 8824.0000 - accuracy: 0.9720 - precision: 0.7786 - recall: 0.2287 - val_loss: 0.0986 - val_tp: 589.0000 - val_fp: 114.0000 - val_tn: 82322.0000 - val_fn: 2256.0000 - val_accuracy: 0.9722 - val_precision: 0.8378 - val_recall: 0.2070\n",
      "Epoch 39/100\n",
      "339968/341124 [============================>.] - ETA: 0s - loss: 0.1031 - tp: 2592.0000 - fp: 787.0000 - tn: 327777.0000 - fn: 8812.0000 - accuracy: 0.9718 - precision: 0.7671 - recall: 0.2273WARNING:tensorflow:Early stopping conditioned on metric `val_auc` which is not available. Available metrics are: loss,tp,fp,tn,fn,accuracy,precision,recall,val_loss,val_tp,val_fp,val_tn,val_fn,val_accuracy,val_precision,val_recall\n",
      "341124/341124 [==============================] - 4s 12us/sample - loss: 0.1031 - tp: 2599.0000 - fp: 789.0000 - tn: 328894.0000 - fn: 8842.0000 - accuracy: 0.9718 - precision: 0.7671 - recall: 0.2272 - val_loss: 0.0987 - val_tp: 606.0000 - val_fp: 117.0000 - val_tn: 82319.0000 - val_fn: 2239.0000 - val_accuracy: 0.9724 - val_precision: 0.8382 - val_recall: 0.2130\n",
      "Epoch 40/100\n",
      "335872/341124 [============================>.] - ETA: 0s - loss: 0.1027 - tp: 2555.0000 - fp: 737.0000 - tn: 323884.0000 - fn: 8696.0000 - accuracy: 0.9719 - precision: 0.7761 - recall: 0.2271WARNING:tensorflow:Early stopping conditioned on metric `val_auc` which is not available. Available metrics are: loss,tp,fp,tn,fn,accuracy,precision,recall,val_loss,val_tp,val_fp,val_tn,val_fn,val_accuracy,val_precision,val_recall\n",
      "341124/341124 [==============================] - 4s 12us/sample - loss: 0.1028 - tp: 2600.0000 - fp: 752.0000 - tn: 328931.0000 - fn: 8841.0000 - accuracy: 0.9719 - precision: 0.7757 - recall: 0.2273 - val_loss: 0.0983 - val_tp: 596.0000 - val_fp: 102.0000 - val_tn: 82334.0000 - val_fn: 2249.0000 - val_accuracy: 0.9724 - val_precision: 0.8539 - val_recall: 0.2095\n",
      "Epoch 41/100\n",
      "337920/341124 [============================>.] - ETA: 0s - loss: 0.1027 - tp: 2554.0000 - fp: 808.0000 - tn: 325784.0000 - fn: 8774.0000 - accuracy: 0.9716 - precision: 0.7597 - recall: 0.2255WARNING:tensorflow:Early stopping conditioned on metric `val_auc` which is not available. Available metrics are: loss,tp,fp,tn,fn,accuracy,precision,recall,val_loss,val_tp,val_fp,val_tn,val_fn,val_accuracy,val_precision,val_recall\n",
      "341124/341124 [==============================] - 4s 12us/sample - loss: 0.1027 - tp: 2577.0000 - fp: 813.0000 - tn: 328870.0000 - fn: 8864.0000 - accuracy: 0.9716 - precision: 0.7602 - recall: 0.2252 - val_loss: 0.0984 - val_tp: 564.0000 - val_fp: 83.0000 - val_tn: 82353.0000 - val_fn: 2281.0000 - val_accuracy: 0.9723 - val_precision: 0.8717 - val_recall: 0.1982\n",
      "Epoch 42/100\n",
      "339968/341124 [============================>.] - ETA: 0s - loss: 0.1032 - tp: 2546.0000 - fp: 778.0000 - tn: 327783.0000 - fn: 8861.0000 - accuracy: 0.9716 - precision: 0.7659 - recall: 0.2232WARNING:tensorflow:Early stopping conditioned on metric `val_auc` which is not available. Available metrics are: loss,tp,fp,tn,fn,accuracy,precision,recall,val_loss,val_tp,val_fp,val_tn,val_fn,val_accuracy,val_precision,val_recall\n",
      "341124/341124 [==============================] - 4s 12us/sample - loss: 0.1031 - tp: 2555.0000 - fp: 781.0000 - tn: 328902.0000 - fn: 8886.0000 - accuracy: 0.9717 - precision: 0.7659 - recall: 0.2233 - val_loss: 0.0981 - val_tp: 655.0000 - val_fp: 150.0000 - val_tn: 82286.0000 - val_fn: 2190.0000 - val_accuracy: 0.9726 - val_precision: 0.8137 - val_recall: 0.2302\n",
      "Epoch 43/100\n",
      "337920/341124 [============================>.] - ETA: 0s - loss: 0.1025 - tp: 2604.0000 - fp: 764.0000 - tn: 325809.0000 - fn: 8743.0000 - accuracy: 0.9719 - precision: 0.7732 - recall: 0.2295WARNING:tensorflow:Early stopping conditioned on metric `val_auc` which is not available. Available metrics are: loss,tp,fp,tn,fn,accuracy,precision,recall,val_loss,val_tp,val_fp,val_tn,val_fn,val_accuracy,val_precision,val_recall\n",
      "341124/341124 [==============================] - 4s 12us/sample - loss: 0.1025 - tp: 2626.0000 - fp: 769.0000 - tn: 328914.0000 - fn: 8815.0000 - accuracy: 0.9719 - precision: 0.7735 - recall: 0.2295 - val_loss: 0.0983 - val_tp: 582.0000 - val_fp: 98.0000 - val_tn: 82338.0000 - val_fn: 2263.0000 - val_accuracy: 0.9723 - val_precision: 0.8559 - val_recall: 0.2046\n",
      "Epoch 44/100\n",
      "337920/341124 [============================>.] - ETA: 0s - loss: 0.1025 - tp: 2589.0000 - fp: 741.0000 - tn: 325859.0000 - fn: 8731.0000 - accuracy: 0.9720 - precision: 0.7775 - recall: 0.2287WARNING:tensorflow:Early stopping conditioned on metric `val_auc` which is not available. Available metrics are: loss,tp,fp,tn,fn,accuracy,precision,recall,val_loss,val_tp,val_fp,val_tn,val_fn,val_accuracy,val_precision,val_recall\n",
      "341124/341124 [==============================] - 4s 12us/sample - loss: 0.1026 - tp: 2625.0000 - fp: 750.0000 - tn: 328933.0000 - fn: 8816.0000 - accuracy: 0.9720 - precision: 0.7778 - recall: 0.2294 - val_loss: 0.0979 - val_tp: 593.0000 - val_fp: 95.0000 - val_tn: 82341.0000 - val_fn: 2252.0000 - val_accuracy: 0.9725 - val_precision: 0.8619 - val_recall: 0.2084\n",
      "Epoch 45/100\n",
      "337920/341124 [============================>.] - ETA: 0s - loss: 0.1024 - tp: 2655.0000 - fp: 741.0000 - tn: 325824.0000 - fn: 8700.0000 - accuracy: 0.9721 - precision: 0.7818 - recall: 0.2338WARNING:tensorflow:Early stopping conditioned on metric `val_auc` which is not available. Available metrics are: loss,tp,fp,tn,fn,accuracy,precision,recall,val_loss,val_tp,val_fp,val_tn,val_fn,val_accuracy,val_precision,val_recall\n",
      "341124/341124 [==============================] - 4s 12us/sample - loss: 0.1023 - tp: 2676.0000 - fp: 745.0000 - tn: 328938.0000 - fn: 8765.0000 - accuracy: 0.9721 - precision: 0.7822 - recall: 0.2339 - val_loss: 0.0979 - val_tp: 585.0000 - val_fp: 83.0000 - val_tn: 82353.0000 - val_fn: 2260.0000 - val_accuracy: 0.9725 - val_precision: 0.8757 - val_recall: 0.2056\n",
      "Epoch 46/100\n",
      "339968/341124 [============================>.] - ETA: 0s - loss: 0.1023 - tp: 2646.0000 - fp: 759.0000 - tn: 327796.0000 - fn: 8767.0000 - accuracy: 0.9720 - precision: 0.7771 - recall: 0.2318TA: 3s - loss: 0.1032 - tp: 687.0000 - fp: 217.0000 - tn: 888WARNING:tensorflow:Early stopping conditioned on metric `val_auc` which is not available. Available metrics are: loss,tp,fp,tn,fn,accuracy,precision,recall,val_loss,val_tp,val_fp,val_tn,val_fn,val_accuracy,val_precision,val_recall\n",
      "341124/341124 [==============================] - 4s 12us/sample - loss: 0.1022 - tp: 2653.0000 - fp: 763.0000 - tn: 328920.0000 - fn: 8788.0000 - accuracy: 0.9720 - precision: 0.7766 - recall: 0.2319 - val_loss: 0.0976 - val_tp: 612.0000 - val_fp: 102.0000 - val_tn: 82334.0000 - val_fn: 2233.0000 - val_accuracy: 0.9726 - val_precision: 0.8571 - val_recall: 0.2151\n",
      "Epoch 47/100\n",
      "337920/341124 [============================>.] - ETA: 0s - loss: 0.1023 - tp: 2686.0000 - fp: 797.0000 - tn: 325785.0000 - fn: 8652.0000 - accuracy: 0.9720 - precision: 0.7712 - recall: 0.2369WARNING:tensorflow:Early stopping conditioned on metric `val_auc` which is not available. Available metrics are: loss,tp,fp,tn,fn,accuracy,precision,recall,val_loss,val_tp,val_fp,val_tn,val_fn,val_accuracy,val_precision,val_recall\n",
      "341124/341124 [==============================] - 4s 12us/sample - loss: 0.1024 - tp: 2703.0000 - fp: 808.0000 - tn: 328875.0000 - fn: 8738.0000 - accuracy: 0.9720 - precision: 0.7699 - recall: 0.2363 - val_loss: 0.0981 - val_tp: 569.0000 - val_fp: 74.0000 - val_tn: 82362.0000 - val_fn: 2276.0000 - val_accuracy: 0.9724 - val_precision: 0.8849 - val_recall: 0.2000\n",
      "Epoch 48/100\n",
      "335872/341124 [============================>.] - ETA: 0s - loss: 0.1019 - tp: 2633.0000 - fp: 765.0000 - tn: 323843.0000 - fn: 8631.0000 - accuracy: 0.9720 - precision: 0.7749 - recall: 0.2338WARNING:tensorflow:Early stopping conditioned on metric `val_auc` which is not available. Available metrics are: loss,tp,fp,tn,fn,accuracy,precision,recall,val_loss,val_tp,val_fp,val_tn,val_fn,val_accuracy,val_precision,val_recall\n",
      "341124/341124 [==============================] - 4s 11us/sample - loss: 0.1019 - tp: 2688.0000 - fp: 786.0000 - tn: 328897.0000 - fn: 8753.0000 - accuracy: 0.9720 - precision: 0.7737 - recall: 0.2349 - val_loss: 0.0975 - val_tp: 636.0000 - val_fp: 115.0000 - val_tn: 82321.0000 - val_fn: 2209.0000 - val_accuracy: 0.9727 - val_precision: 0.8469 - val_recall: 0.2236\n",
      "Epoch 49/100\n",
      "335872/341124 [============================>.] - ETA: 0s - loss: 0.1021 - tp: 2719.0000 - fp: 767.0000 - tn: 323831.0000 - fn: 8555.0000 - accuracy: 0.9722 - precision: 0.7800 - recall: 0.2412WARNING:tensorflow:Early stopping conditioned on metric `val_auc` which is not available. Available metrics are: loss,tp,fp,tn,fn,accuracy,precision,recall,val_loss,val_tp,val_fp,val_tn,val_fn,val_accuracy,val_precision,val_recall\n",
      "341124/341124 [==============================] - 4s 12us/sample - loss: 0.1020 - tp: 2754.0000 - fp: 779.0000 - tn: 328904.0000 - fn: 8687.0000 - accuracy: 0.9723 - precision: 0.7795 - recall: 0.2407 - val_loss: 0.0981 - val_tp: 565.0000 - val_fp: 76.0000 - val_tn: 82360.0000 - val_fn: 2280.0000 - val_accuracy: 0.9724 - val_precision: 0.8814 - val_recall: 0.1986\n",
      "Epoch 50/100\n",
      "339968/341124 [============================>.] - ETA: 0s - loss: 0.1016 - tp: 2739.0000 - fp: 763.0000 - tn: 327799.0000 - fn: 8667.0000 - accuracy: 0.9723 - precision: 0.7821 - recall: 0.2401WARNING:tensorflow:Early stopping conditioned on metric `val_auc` which is not available. Available metrics are: loss,tp,fp,tn,fn,accuracy,precision,recall,val_loss,val_tp,val_fp,val_tn,val_fn,val_accuracy,val_precision,val_recall\n",
      "341124/341124 [==============================] - 4s 11us/sample - loss: 0.1016 - tp: 2744.0000 - fp: 765.0000 - tn: 328918.0000 - fn: 8697.0000 - accuracy: 0.9723 - precision: 0.7820 - recall: 0.2398 - val_loss: 0.0971 - val_tp: 634.0000 - val_fp: 101.0000 - val_tn: 82335.0000 - val_fn: 2211.0000 - val_accuracy: 0.9729 - val_precision: 0.8626 - val_recall: 0.2228\n",
      "Epoch 51/100\n",
      "335872/341124 [============================>.] - ETA: 0s - loss: 0.1018 - tp: 2663.0000 - fp: 771.0000 - tn: 323842.0000 - fn: 8596.0000 - accuracy: 0.9721 - precision: 0.7755 - recall: 0.2365WARNING:tensorflow:Early stopping conditioned on metric `val_auc` which is not available. Available metrics are: loss,tp,fp,tn,fn,accuracy,precision,recall,val_loss,val_tp,val_fp,val_tn,val_fn,val_accuracy,val_precision,val_recall\n",
      "341124/341124 [==============================] - 4s 11us/sample - loss: 0.1018 - tp: 2706.0000 - fp: 779.0000 - tn: 328904.0000 - fn: 8735.0000 - accuracy: 0.9721 - precision: 0.7765 - recall: 0.2365 - val_loss: 0.0971 - val_tp: 627.0000 - val_fp: 102.0000 - val_tn: 82334.0000 - val_fn: 2218.0000 - val_accuracy: 0.9728 - val_precision: 0.8601 - val_recall: 0.2204\n",
      "Epoch 52/100\n",
      "337920/341124 [============================>.] - ETA: 0s - loss: 0.1015 - tp: 2735.0000 - fp: 786.0000 - tn: 325810.0000 - fn: 8589.0000 - accuracy: 0.9723 - precision: 0.7768 - recall: 0.2415TA: 2s - loss: 0.1040 - tp: 558.0000 - fp: 1WARNING:tensorflow:Early stopping conditioned on metric `val_auc` which is not available. Available metrics are: loss,tp,fp,tn,fn,accuracy,precision,recall,val_loss,val_tp,val_fp,val_tn,val_fn,val_accuracy,val_precision,val_recall\n",
      "341124/341124 [==============================] - 4s 12us/sample - loss: 0.1014 - tp: 2767.0000 - fp: 792.0000 - tn: 328891.0000 - fn: 8674.0000 - accuracy: 0.9723 - precision: 0.7775 - recall: 0.2418 - val_loss: 0.0966 - val_tp: 652.0000 - val_fp: 111.0000 - val_tn: 82325.0000 - val_fn: 2193.0000 - val_accuracy: 0.9730 - val_precision: 0.8545 - val_recall: 0.2292\n",
      "Epoch 53/100\n",
      "335872/341124 [============================>.] - ETA: 0s - loss: 0.1016 - tp: 2747.0000 - fp: 781.0000 - tn: 323804.0000 - fn: 8540.0000 - accuracy: 0.9722 - precision: 0.7786 - recall: 0.2434WARNING:tensorflow:Early stopping conditioned on metric `val_auc` which is not available. Available metrics are: loss,tp,fp,tn,fn,accuracy,precision,recall,val_loss,val_tp,val_fp,val_tn,val_fn,val_accuracy,val_precision,val_recall\n",
      "341124/341124 [==============================] - 4s 12us/sample - loss: 0.1014 - tp: 2793.0000 - fp: 795.0000 - tn: 328888.0000 - fn: 8648.0000 - accuracy: 0.9723 - precision: 0.7784 - recall: 0.2441 - val_loss: 0.0968 - val_tp: 638.0000 - val_fp: 92.0000 - val_tn: 82344.0000 - val_fn: 2207.0000 - val_accuracy: 0.9730 - val_precision: 0.8740 - val_recall: 0.2243\n",
      "Epoch 54/100\n",
      "337920/341124 [============================>.] - ETA: 0s - loss: 0.1013 - tp: 2789.0000 - fp: 755.0000 - tn: 325809.0000 - fn: 8567.0000 - accuracy: 0.9724 - precision: 0.7870 - recall: 0.2456WARNING:tensorflow:Early stopping conditioned on metric `val_auc` which is not available. Available metrics are: loss,tp,fp,tn,fn,accuracy,precision,recall,val_loss,val_tp,val_fp,val_tn,val_fn,val_accuracy,val_precision,val_recall\n",
      "341124/341124 [==============================] - 4s 12us/sample - loss: 0.1012 - tp: 2810.0000 - fp: 762.0000 - tn: 328921.0000 - fn: 8631.0000 - accuracy: 0.9725 - precision: 0.7867 - recall: 0.2456 - val_loss: 0.0969 - val_tp: 691.0000 - val_fp: 139.0000 - val_tn: 82297.0000 - val_fn: 2154.0000 - val_accuracy: 0.9731 - val_precision: 0.8325 - val_recall: 0.2429\n",
      "Epoch 55/100\n",
      "335872/341124 [============================>.] - ETA: 0s - loss: 0.1015 - tp: 2707.0000 - fp: 754.0000 - tn: 323865.0000 - fn: 8546.0000 - accuracy: 0.9723 - precision: 0.7821 - recall: 0.2406WARNING:tensorflow:Early stopping conditioned on metric `val_auc` which is not available. Available metrics are: loss,tp,fp,tn,fn,accuracy,precision,recall,val_loss,val_tp,val_fp,val_tn,val_fn,val_accuracy,val_precision,val_recall\n",
      "341124/341124 [==============================] - 4s 12us/sample - loss: 0.1015 - tp: 2759.0000 - fp: 769.0000 - tn: 328914.0000 - fn: 8682.0000 - accuracy: 0.9723 - precision: 0.7820 - recall: 0.2412 - val_loss: 0.0969 - val_tp: 687.0000 - val_fp: 145.0000 - val_tn: 82291.0000 - val_fn: 2158.0000 - val_accuracy: 0.9730 - val_precision: 0.8257 - val_recall: 0.2415\n",
      "Epoch 56/100\n",
      "339968/341124 [============================>.] - ETA: 0s - loss: 0.1008 - tp: 2817.0000 - fp: 783.0000 - tn: 327775.0000 - fn: 8593.0000 - accuracy: 0.9724 - precision: 0.7825 - recall: 0.2469WARNING:tensorflow:Early stopping conditioned on metric `val_auc` which is not available. Available metrics are: loss,tp,fp,tn,fn,accuracy,precision,recall,val_loss,val_tp,val_fp,val_tn,val_fn,val_accuracy,val_precision,val_recall\n",
      "341124/341124 [==============================] - 4s 12us/sample - loss: 0.1008 - tp: 2824.0000 - fp: 784.0000 - tn: 328899.0000 - fn: 8617.0000 - accuracy: 0.9724 - precision: 0.7827 - recall: 0.2468 - val_loss: 0.0970 - val_tp: 655.0000 - val_fp: 122.0000 - val_tn: 82314.0000 - val_fn: 2190.0000 - val_accuracy: 0.9729 - val_precision: 0.8430 - val_recall: 0.2302\n",
      "Epoch 57/100\n",
      "339968/341124 [============================>.] - ETA: 0s - loss: 0.1014 - tp: 2762.0000 - fp: 777.0000 - tn: 327782.0000 - fn: 8647.0000 - accuracy: 0.9723 - precision: 0.7804 - recall: 0.2421WARNING:tensorflow:Early stopping conditioned on metric `val_auc` which is not available. Available metrics are: loss,tp,fp,tn,fn,accuracy,precision,recall,val_loss,val_tp,val_fp,val_tn,val_fn,val_accuracy,val_precision,val_recall\n",
      "341124/341124 [==============================] - 4s 11us/sample - loss: 0.1013 - tp: 2771.0000 - fp: 779.0000 - tn: 328904.0000 - fn: 8670.0000 - accuracy: 0.9723 - precision: 0.7806 - recall: 0.2422 - val_loss: 0.0969 - val_tp: 612.0000 - val_fp: 84.0000 - val_tn: 82352.0000 - val_fn: 2233.0000 - val_accuracy: 0.9728 - val_precision: 0.8793 - val_recall: 0.2151\n",
      "Epoch 58/100\n",
      "337920/341124 [============================>.] - ETA: 0s - loss: 0.1012 - tp: 2733.0000 - fp: 746.0000 - tn: 325858.0000 - fn: 8583.0000 - accuracy: 0.9724 - precision: 0.7856 - recall: 0.2415WARNING:tensorflow:Early stopping conditioned on metric `val_auc` which is not available. Available metrics are: loss,tp,fp,tn,fn,accuracy,precision,recall,val_loss,val_tp,val_fp,val_tn,val_fn,val_accuracy,val_precision,val_recall\n",
      "341124/341124 [==============================] - 4s 12us/sample - loss: 0.1012 - tp: 2766.0000 - fp: 755.0000 - tn: 328928.0000 - fn: 8675.0000 - accuracy: 0.9724 - precision: 0.7856 - recall: 0.2418 - val_loss: 0.0966 - val_tp: 640.0000 - val_fp: 99.0000 - val_tn: 82337.0000 - val_fn: 2205.0000 - val_accuracy: 0.9730 - val_precision: 0.8660 - val_recall: 0.2250\n",
      "Epoch 59/100\n",
      "339968/341124 [============================>.] - ETA: 0s - loss: 0.1010 - tp: 2791.0000 - fp: 793.0000 - tn: 327778.0000 - fn: 8606.0000 - accuracy: 0.9724 - precision: 0.7787 - recall: 0.2449WARNING:tensorflow:Early stopping conditioned on metric `val_auc` which is not available. Available metrics are: loss,tp,fp,tn,fn,accuracy,precision,recall,val_loss,val_tp,val_fp,val_tn,val_fn,val_accuracy,val_precision,val_recall\n",
      "341124/341124 [==============================] - 4s 12us/sample - loss: 0.1010 - tp: 2805.0000 - fp: 795.0000 - tn: 328888.0000 - fn: 8636.0000 - accuracy: 0.9724 - precision: 0.7792 - recall: 0.2452 - val_loss: 0.0967 - val_tp: 712.0000 - val_fp: 168.0000 - val_tn: 82268.0000 - val_fn: 2133.0000 - val_accuracy: 0.9730 - val_precision: 0.8091 - val_recall: 0.2503\n",
      "Epoch 60/100\n",
      "337920/341124 [============================>.] - ETA: 0s - loss: 0.1011 - tp: 2753.0000 - fp: 808.0000 - tn: 325787.0000 - fn: 8572.0000 - accuracy: 0.9722 - precision: 0.7731 - recall: 0.2431WARNING:tensorflow:Early stopping conditioned on metric `val_auc` which is not available. Available metrics are: loss,tp,fp,tn,fn,accuracy,precision,recall,val_loss,val_tp,val_fp,val_tn,val_fn,val_accuracy,val_precision,val_recall\n",
      "341124/341124 [==============================] - 4s 11us/sample - loss: 0.1013 - tp: 2781.0000 - fp: 814.0000 - tn: 328869.0000 - fn: 8660.0000 - accuracy: 0.9722 - precision: 0.7736 - recall: 0.2431 - val_loss: 0.0964 - val_tp: 674.0000 - val_fp: 126.0000 - val_tn: 82310.0000 - val_fn: 2171.0000 - val_accuracy: 0.9731 - val_precision: 0.8425 - val_recall: 0.2369\n",
      "Epoch 61/100\n",
      "339968/341124 [============================>.] - ETA: 0s - loss: 0.1012 - tp: 2817.0000 - fp: 791.0000 - tn: 327770.0000 - fn: 8590.0000 - accuracy: 0.9724 - precision: 0.7808 - recall: 0.2470TA: 2s - loss: 0.1014 - tp: 643.0000 - fp: 174.0000 -WARNING:tensorflow:Early stopping conditioned on metric `val_auc` which is not available. Available metrics are: loss,tp,fp,tn,fn,accuracy,precision,recall,val_loss,val_tp,val_fp,val_tn,val_fn,val_accuracy,val_precision,val_recall\n",
      "341124/341124 [==============================] - 4s 12us/sample - loss: 0.1011 - tp: 2826.0000 - fp: 795.0000 - tn: 328888.0000 - fn: 8615.0000 - accuracy: 0.9724 - precision: 0.7804 - recall: 0.2470 - val_loss: 0.0962 - val_tp: 666.0000 - val_fp: 99.0000 - val_tn: 82337.0000 - val_fn: 2179.0000 - val_accuracy: 0.9733 - val_precision: 0.8706 - val_recall: 0.2341\n",
      "Epoch 62/100\n",
      "337920/341124 [============================>.] - ETA: 0s - loss: 0.1006 - tp: 2839.0000 - fp: 755.0000 - tn: 325844.0000 - fn: 8482.0000 - accuracy: 0.9727 - precision: 0.7899 - recall: 0.2508WARNING:tensorflow:Early stopping conditioned on metric `val_auc` which is not available. Available metrics are: loss,tp,fp,tn,fn,accuracy,precision,recall,val_loss,val_tp,val_fp,val_tn,val_fn,val_accuracy,val_precision,val_recall\n",
      "341124/341124 [==============================] - 4s 12us/sample - loss: 0.1007 - tp: 2873.0000 - fp: 764.0000 - tn: 328919.0000 - fn: 8568.0000 - accuracy: 0.9726 - precision: 0.7899 - recall: 0.2511 - val_loss: 0.0961 - val_tp: 688.0000 - val_fp: 126.0000 - val_tn: 82310.0000 - val_fn: 2157.0000 - val_accuracy: 0.9732 - val_precision: 0.8452 - val_recall: 0.2418\n",
      "Epoch 63/100\n",
      "337920/341124 [============================>.] - ETA: 0s - loss: 0.1010 - tp: 2773.0000 - fp: 776.0000 - tn: 325801.0000 - fn: 8570.0000 - accuracy: 0.9723 - precision: 0.7813 - recall: 0.2445WARNING:tensorflow:Early stopping conditioned on metric `val_auc` which is not available. Available metrics are: loss,tp,fp,tn,fn,accuracy,precision,recall,val_loss,val_tp,val_fp,val_tn,val_fn,val_accuracy,val_precision,val_recall\n",
      "341124/341124 [==============================] - 4s 11us/sample - loss: 0.1010 - tp: 2793.0000 - fp: 780.0000 - tn: 328903.0000 - fn: 8648.0000 - accuracy: 0.9724 - precision: 0.7817 - recall: 0.2441 - val_loss: 0.0972 - val_tp: 578.0000 - val_fp: 61.0000 - val_tn: 82375.0000 - val_fn: 2267.0000 - val_accuracy: 0.9727 - val_precision: 0.9045 - val_recall: 0.2032\n",
      "Epoch 64/100\n",
      "339968/341124 [============================>.] - ETA: 0s - loss: 0.1010 - tp: 2829.0000 - fp: 778.0000 - tn: 327794.0000 - fn: 8567.0000 - accuracy: 0.9725 - precision: 0.7843 - recall: 0.2482WARNING:tensorflow:Early stopping conditioned on metric `val_auc` which is not available. Available metrics are: loss,tp,fp,tn,fn,accuracy,precision,recall,val_loss,val_tp,val_fp,val_tn,val_fn,val_accuracy,val_precision,val_recall\n",
      "341124/341124 [==============================] - 4s 11us/sample - loss: 0.1011 - tp: 2836.0000 - fp: 781.0000 - tn: 328902.0000 - fn: 8605.0000 - accuracy: 0.9725 - precision: 0.7841 - recall: 0.2479 - val_loss: 0.0962 - val_tp: 717.0000 - val_fp: 155.0000 - val_tn: 82281.0000 - val_fn: 2128.0000 - val_accuracy: 0.9732 - val_precision: 0.8222 - val_recall: 0.2520\n",
      "Epoch 65/100\n",
      "335872/341124 [============================>.] - ETA: 0s - loss: 0.1010 - tp: 2724.0000 - fp: 809.0000 - tn: 323807.0000 - fn: 8532.0000 - accuracy: 0.9722 - precision: 0.7710 - recall: 0.2420WARNING:tensorflow:Early stopping conditioned on metric `val_auc` which is not available. Available metrics are: loss,tp,fp,tn,fn,accuracy,precision,recall,val_loss,val_tp,val_fp,val_tn,val_fn,val_accuracy,val_precision,val_recall\n",
      "341124/341124 [==============================] - 4s 11us/sample - loss: 0.1011 - tp: 2758.0000 - fp: 817.0000 - tn: 328866.0000 - fn: 8683.0000 - accuracy: 0.9722 - precision: 0.7715 - recall: 0.2411 - val_loss: 0.0972 - val_tp: 561.0000 - val_fp: 64.0000 - val_tn: 82372.0000 - val_fn: 2284.0000 - val_accuracy: 0.9725 - val_precision: 0.8976 - val_recall: 0.1972\n",
      "Epoch 66/100\n",
      "339968/341124 [============================>.] - ETA: 0s - loss: 0.1012 - tp: 2797.0000 - fp: 807.0000 - tn: 327759.0000 - fn: 8605.0000 - accuracy: 0.9723 - precision: 0.7761 - recall: 0.2453WARNING:tensorflow:Early stopping conditioned on metric `val_auc` which is not available. Available metrics are: loss,tp,fp,tn,fn,accuracy,precision,recall,val_loss,val_tp,val_fp,val_tn,val_fn,val_accuracy,val_precision,val_recall\n",
      "341124/341124 [==============================] - 4s 11us/sample - loss: 0.1012 - tp: 2803.0000 - fp: 811.0000 - tn: 328872.0000 - fn: 8638.0000 - accuracy: 0.9723 - precision: 0.7756 - recall: 0.2450 - val_loss: 0.0959 - val_tp: 686.0000 - val_fp: 113.0000 - val_tn: 82323.0000 - val_fn: 2159.0000 - val_accuracy: 0.9734 - val_precision: 0.8586 - val_recall: 0.2411\n",
      "Epoch 67/100\n",
      " 26624/341124 [=>............................] - ETA: 3s - loss: 0.1032 - tp: 225.0000 - fp: 71.0000 - tn: 25641.0000 - fn: 687.0000 - accuracy: 0.9715 - precision: 0.7601 - recall: 0.2467"
     ]
    }
   ],
   "source": [
    "model = make_model()\n",
    "model.load_weights(initial_weights)\n",
    "baseline_history = model.fit(\n",
    "    train_features,\n",
    "    train_labels,\n",
    "    batch_size=BATCH_SIZE,\n",
    "    epochs=EPOCHS,\n",
    "    callbacks = [early_stopping],\n",
    "    validation_data=(val_features, val_labels))"
   ]
  },
  {
   "cell_type": "code",
   "execution_count": 30,
   "metadata": {},
   "outputs": [],
   "source": [
    "def plot_metrics(history):\n",
    "    metrics =  ['loss', 'precision', 'recall']\n",
    "    for n, metric in enumerate(metrics):\n",
    "        name = metric.replace(\"_\",\" \").capitalize()\n",
    "        plt.subplot(2,2,n+1)\n",
    "        plt.plot(history.epoch,  history.history[metric], color=colors[0], label='Train')\n",
    "        plt.plot(history.epoch, history.history['val_'+metric],\n",
    "             color=colors[0], linestyle=\"--\", label='Val')\n",
    "        plt.xlabel('Epoch')\n",
    "        plt.ylabel(name)\n",
    "        if metric == 'loss':\n",
    "            plt.ylim([0, plt.ylim()[1]])\n",
    "        elif metric == 'auc':\n",
    "            plt.ylim([0.8,1])\n",
    "        else:\n",
    "            plt.ylim([0,1])\n",
    "\n",
    "    plt.legend()\n"
   ]
  },
  {
   "cell_type": "code",
   "execution_count": 31,
   "metadata": {},
   "outputs": [
    {
     "data": {
      "image/png": "[encoded data removed]",
      "text/plain": [
       "<Figure size 864x720 with 3 Axes>"
      ]
     },
     "metadata": {
      "needs_background": "light"
     },
     "output_type": "display_data"
    }
   ],
   "source": [
    "plot_metrics(baseline_history)"
   ]
  },
  {
   "cell_type": "code",
   "execution_count": null,
   "metadata": {},
   "outputs": [],
   "source": []
  }
 ],
 "metadata": {
  "kernelspec": {
   "display_name": "Python 3",
   "language": "python",
   "name": "python3"
  },
  "language_info": {
   "codemirror_mode": {
    "name": "ipython",
    "version": 3
   },
   "file_extension": ".py",
   "mimetype": "text/x-python",
   "name": "python",
   "nbconvert_exporter": "python",
   "pygments_lexer": "ipython3",
   "version": "3.6.9"
  }
 },
 "nbformat": 4,
 "nbformat_minor": 4
}
