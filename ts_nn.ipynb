{
 "cells": [
  {
   "cell_type": "code",
   "execution_count": 1,
   "metadata": {},
   "outputs": [
    {
     "name": "stderr",
     "output_type": "stream",
     "text": [
      "/Users/abdygaziev/anaconda3/envs/learn-deep/lib/python3.6/site-packages/tensorflow/python/framework/dtypes.py:526: FutureWarning: Passing (type, 1) or '1type' as a synonym of type is deprecated; in a future version of numpy, it will be understood as (type, (1,)) / '(1,)type'.\n",
      "  _np_qint8 = np.dtype([(\"qint8\", np.int8, 1)])\n",
      "/Users/abdygaziev/anaconda3/envs/learn-deep/lib/python3.6/site-packages/tensorflow/python/framework/dtypes.py:527: FutureWarning: Passing (type, 1) or '1type' as a synonym of type is deprecated; in a future version of numpy, it will be understood as (type, (1,)) / '(1,)type'.\n",
      "  _np_quint8 = np.dtype([(\"quint8\", np.uint8, 1)])\n",
      "/Users/abdygaziev/anaconda3/envs/learn-deep/lib/python3.6/site-packages/tensorflow/python/framework/dtypes.py:528: FutureWarning: Passing (type, 1) or '1type' as a synonym of type is deprecated; in a future version of numpy, it will be understood as (type, (1,)) / '(1,)type'.\n",
      "  _np_qint16 = np.dtype([(\"qint16\", np.int16, 1)])\n",
      "/Users/abdygaziev/anaconda3/envs/learn-deep/lib/python3.6/site-packages/tensorflow/python/framework/dtypes.py:529: FutureWarning: Passing (type, 1) or '1type' as a synonym of type is deprecated; in a future version of numpy, it will be understood as (type, (1,)) / '(1,)type'.\n",
      "  _np_quint16 = np.dtype([(\"quint16\", np.uint16, 1)])\n",
      "/Users/abdygaziev/anaconda3/envs/learn-deep/lib/python3.6/site-packages/tensorflow/python/framework/dtypes.py:530: FutureWarning: Passing (type, 1) or '1type' as a synonym of type is deprecated; in a future version of numpy, it will be understood as (type, (1,)) / '(1,)type'.\n",
      "  _np_qint32 = np.dtype([(\"qint32\", np.int32, 1)])\n",
      "/Users/abdygaziev/anaconda3/envs/learn-deep/lib/python3.6/site-packages/tensorflow/python/framework/dtypes.py:535: FutureWarning: Passing (type, 1) or '1type' as a synonym of type is deprecated; in a future version of numpy, it will be understood as (type, (1,)) / '(1,)type'.\n",
      "  np_resource = np.dtype([(\"resource\", np.ubyte, 1)])\n"
     ]
    }
   ],
   "source": [
    "# import packages\n",
    "import pandas as pd\n",
    "import numpy as np\n",
    "\n",
    "import tensorflow as tf\n",
    "from tensorflow import keras\n",
    "from tensorflow.keras import metrics\n",
    "\n",
    "from tensorflow import feature_column\n",
    "from tensorflow.keras import layers\n",
    "\n",
    "import os\n",
    "import tempfile\n",
    "\n",
    "import matplotlib as mpl\n",
    "import matplotlib.pyplot as plt\n",
    "import numpy as np\n",
    "import pandas as pd\n",
    "import seaborn as sns\n",
    "\n",
    "import sklearn\n",
    "from sklearn.metrics import confusion_matrix\n",
    "from sklearn.model_selection import train_test_split\n",
    "from sklearn.preprocessing import StandardScaler"
   ]
  },
  {
   "cell_type": "code",
   "execution_count": 2,
   "metadata": {},
   "outputs": [],
   "source": [
    "df = pd.read_pickle('/Users/abdygaziev/Documents/FlatironMaterials/Projects/train_dummy.pickle')"
   ]
  },
  {
   "cell_type": "code",
   "execution_count": 3,
   "metadata": {},
   "outputs": [
    {
     "data": {
      "text/html": [
       "<div>\n",
       "<style scoped>\n",
       "    .dataframe tbody tr th:only-of-type {\n",
       "        vertical-align: middle;\n",
       "    }\n",
       "\n",
       "    .dataframe tbody tr th {\n",
       "        vertical-align: top;\n",
       "    }\n",
       "\n",
       "    .dataframe thead th {\n",
       "        text-align: right;\n",
       "    }\n",
       "</style>\n",
       "<table border=\"1\" class=\"dataframe\">\n",
       "  <thead>\n",
       "    <tr style=\"text-align: right;\">\n",
       "      <th></th>\n",
       "      <th>isFraud</th>\n",
       "      <th>TransactionDT</th>\n",
       "      <th>TransactionAmt</th>\n",
       "      <th>card1</th>\n",
       "      <th>card2</th>\n",
       "      <th>card3</th>\n",
       "      <th>card5</th>\n",
       "      <th>addr1</th>\n",
       "      <th>addr2</th>\n",
       "      <th>C1</th>\n",
       "      <th>...</th>\n",
       "      <th>P_emaildomain_web.de</th>\n",
       "      <th>P_emaildomain_windstream.net</th>\n",
       "      <th>P_emaildomain_yahoo.co.jp</th>\n",
       "      <th>P_emaildomain_yahoo.co.uk</th>\n",
       "      <th>P_emaildomain_yahoo.com</th>\n",
       "      <th>P_emaildomain_yahoo.com.mx</th>\n",
       "      <th>P_emaildomain_yahoo.de</th>\n",
       "      <th>P_emaildomain_yahoo.es</th>\n",
       "      <th>P_emaildomain_yahoo.fr</th>\n",
       "      <th>P_emaildomain_ymail.com</th>\n",
       "    </tr>\n",
       "    <tr>\n",
       "      <th>TransactionID</th>\n",
       "      <th></th>\n",
       "      <th></th>\n",
       "      <th></th>\n",
       "      <th></th>\n",
       "      <th></th>\n",
       "      <th></th>\n",
       "      <th></th>\n",
       "      <th></th>\n",
       "      <th></th>\n",
       "      <th></th>\n",
       "      <th></th>\n",
       "      <th></th>\n",
       "      <th></th>\n",
       "      <th></th>\n",
       "      <th></th>\n",
       "      <th></th>\n",
       "      <th></th>\n",
       "      <th></th>\n",
       "      <th></th>\n",
       "      <th></th>\n",
       "      <th></th>\n",
       "    </tr>\n",
       "  </thead>\n",
       "  <tbody>\n",
       "    <tr>\n",
       "      <th>3001687</th>\n",
       "      <td>0</td>\n",
       "      <td>413891</td>\n",
       "      <td>45.000</td>\n",
       "      <td>16661</td>\n",
       "      <td>490.0</td>\n",
       "      <td>150.0</td>\n",
       "      <td>226.0</td>\n",
       "      <td>327.000000</td>\n",
       "      <td>87.00000</td>\n",
       "      <td>1.0</td>\n",
       "      <td>...</td>\n",
       "      <td>0</td>\n",
       "      <td>0</td>\n",
       "      <td>0</td>\n",
       "      <td>0</td>\n",
       "      <td>0</td>\n",
       "      <td>0</td>\n",
       "      <td>0</td>\n",
       "      <td>0</td>\n",
       "      <td>0</td>\n",
       "      <td>0</td>\n",
       "    </tr>\n",
       "    <tr>\n",
       "      <th>3001688</th>\n",
       "      <td>0</td>\n",
       "      <td>413902</td>\n",
       "      <td>50.000</td>\n",
       "      <td>6194</td>\n",
       "      <td>498.0</td>\n",
       "      <td>150.0</td>\n",
       "      <td>117.0</td>\n",
       "      <td>337.000000</td>\n",
       "      <td>87.00000</td>\n",
       "      <td>145.0</td>\n",
       "      <td>...</td>\n",
       "      <td>0</td>\n",
       "      <td>0</td>\n",
       "      <td>0</td>\n",
       "      <td>0</td>\n",
       "      <td>0</td>\n",
       "      <td>0</td>\n",
       "      <td>0</td>\n",
       "      <td>0</td>\n",
       "      <td>0</td>\n",
       "      <td>0</td>\n",
       "    </tr>\n",
       "    <tr>\n",
       "      <th>3001689</th>\n",
       "      <td>1</td>\n",
       "      <td>413915</td>\n",
       "      <td>160.475</td>\n",
       "      <td>9635</td>\n",
       "      <td>405.0</td>\n",
       "      <td>185.0</td>\n",
       "      <td>226.0</td>\n",
       "      <td>290.733794</td>\n",
       "      <td>86.80063</td>\n",
       "      <td>1.0</td>\n",
       "      <td>...</td>\n",
       "      <td>0</td>\n",
       "      <td>0</td>\n",
       "      <td>0</td>\n",
       "      <td>0</td>\n",
       "      <td>0</td>\n",
       "      <td>0</td>\n",
       "      <td>0</td>\n",
       "      <td>0</td>\n",
       "      <td>0</td>\n",
       "      <td>0</td>\n",
       "    </tr>\n",
       "    <tr>\n",
       "      <th>3001690</th>\n",
       "      <td>0</td>\n",
       "      <td>413942</td>\n",
       "      <td>50.000</td>\n",
       "      <td>11207</td>\n",
       "      <td>361.0</td>\n",
       "      <td>150.0</td>\n",
       "      <td>226.0</td>\n",
       "      <td>126.000000</td>\n",
       "      <td>87.00000</td>\n",
       "      <td>1.0</td>\n",
       "      <td>...</td>\n",
       "      <td>0</td>\n",
       "      <td>0</td>\n",
       "      <td>0</td>\n",
       "      <td>0</td>\n",
       "      <td>0</td>\n",
       "      <td>0</td>\n",
       "      <td>0</td>\n",
       "      <td>0</td>\n",
       "      <td>0</td>\n",
       "      <td>0</td>\n",
       "    </tr>\n",
       "    <tr>\n",
       "      <th>3001692</th>\n",
       "      <td>0</td>\n",
       "      <td>413957</td>\n",
       "      <td>50.000</td>\n",
       "      <td>12544</td>\n",
       "      <td>321.0</td>\n",
       "      <td>150.0</td>\n",
       "      <td>226.0</td>\n",
       "      <td>476.000000</td>\n",
       "      <td>87.00000</td>\n",
       "      <td>1.0</td>\n",
       "      <td>...</td>\n",
       "      <td>0</td>\n",
       "      <td>0</td>\n",
       "      <td>0</td>\n",
       "      <td>0</td>\n",
       "      <td>0</td>\n",
       "      <td>0</td>\n",
       "      <td>0</td>\n",
       "      <td>0</td>\n",
       "      <td>0</td>\n",
       "      <td>0</td>\n",
       "    </tr>\n",
       "  </tbody>\n",
       "</table>\n",
       "<p>5 rows × 267 columns</p>\n",
       "</div>"
      ],
      "text/plain": [
       "               isFraud  TransactionDT  TransactionAmt  card1  card2  card3  \\\n",
       "TransactionID                                                                \n",
       "3001687              0         413891          45.000  16661  490.0  150.0   \n",
       "3001688              0         413902          50.000   6194  498.0  150.0   \n",
       "3001689              1         413915         160.475   9635  405.0  185.0   \n",
       "3001690              0         413942          50.000  11207  361.0  150.0   \n",
       "3001692              0         413957          50.000  12544  321.0  150.0   \n",
       "\n",
       "               card5       addr1     addr2     C1  ...  P_emaildomain_web.de  \\\n",
       "TransactionID                                      ...                         \n",
       "3001687        226.0  327.000000  87.00000    1.0  ...                     0   \n",
       "3001688        117.0  337.000000  87.00000  145.0  ...                     0   \n",
       "3001689        226.0  290.733794  86.80063    1.0  ...                     0   \n",
       "3001690        226.0  126.000000  87.00000    1.0  ...                     0   \n",
       "3001692        226.0  476.000000  87.00000    1.0  ...                     0   \n",
       "\n",
       "               P_emaildomain_windstream.net  P_emaildomain_yahoo.co.jp  \\\n",
       "TransactionID                                                            \n",
       "3001687                                   0                          0   \n",
       "3001688                                   0                          0   \n",
       "3001689                                   0                          0   \n",
       "3001690                                   0                          0   \n",
       "3001692                                   0                          0   \n",
       "\n",
       "               P_emaildomain_yahoo.co.uk  P_emaildomain_yahoo.com  \\\n",
       "TransactionID                                                       \n",
       "3001687                                0                        0   \n",
       "3001688                                0                        0   \n",
       "3001689                                0                        0   \n",
       "3001690                                0                        0   \n",
       "3001692                                0                        0   \n",
       "\n",
       "               P_emaildomain_yahoo.com.mx  P_emaildomain_yahoo.de  \\\n",
       "TransactionID                                                       \n",
       "3001687                                 0                       0   \n",
       "3001688                                 0                       0   \n",
       "3001689                                 0                       0   \n",
       "3001690                                 0                       0   \n",
       "3001692                                 0                       0   \n",
       "\n",
       "               P_emaildomain_yahoo.es  P_emaildomain_yahoo.fr  \\\n",
       "TransactionID                                                   \n",
       "3001687                             0                       0   \n",
       "3001688                             0                       0   \n",
       "3001689                             0                       0   \n",
       "3001690                             0                       0   \n",
       "3001692                             0                       0   \n",
       "\n",
       "               P_emaildomain_ymail.com  \n",
       "TransactionID                           \n",
       "3001687                              0  \n",
       "3001688                              0  \n",
       "3001689                              0  \n",
       "3001690                              0  \n",
       "3001692                              0  \n",
       "\n",
       "[5 rows x 267 columns]"
      ]
     },
     "execution_count": 3,
     "metadata": {},
     "output_type": "execute_result"
    }
   ],
   "source": [
    "# from this data we get our target data\n",
    "df.head(5)"
   ]
  },
  {
   "cell_type": "code",
   "execution_count": 4,
   "metadata": {},
   "outputs": [
    {
     "data": {
      "text/plain": [
       "(533007, 267)"
      ]
     },
     "execution_count": 4,
     "metadata": {},
     "output_type": "execute_result"
    }
   ],
   "source": [
    "df.shape"
   ]
  },
  {
   "cell_type": "code",
   "execution_count": 5,
   "metadata": {},
   "outputs": [
    {
     "name": "stdout",
     "output_type": "stream",
     "text": [
      "Examples:\n",
      "    Total: 533007\n",
      "    Positive: 17838 (3.35% of total)\n",
      "\n"
     ]
    }
   ],
   "source": [
    "# examining classes\n",
    "neg, pos = np.bincount(df['isFraud'])\n",
    "total = neg + pos\n",
    "print('Examples:\\n    Total: {}\\n    Positive: {} ({:.2f}% of total)\\n'.format(\n",
    "    total, pos, 100 * pos / total))"
   ]
  },
  {
   "cell_type": "code",
   "execution_count": 6,
   "metadata": {},
   "outputs": [],
   "source": [
    "cleaned_df = df.copy()\n",
    "\n",
    "# The `Amount` column covers a huge range. Convert to log-space.\n",
    "eps=0.001 # 0 => 0.1¢\n",
    "cleaned_df['Log Ammount'] = np.log(cleaned_df.pop('TransactionAmt')+eps)"
   ]
  },
  {
   "cell_type": "code",
   "execution_count": 7,
   "metadata": {},
   "outputs": [],
   "source": [
    "# Use a utility from sklearn to split and shuffle our dataset.\n",
    "train_df, test_df = train_test_split(cleaned_df, test_size=0.2)\n",
    "train_df, val_df = train_test_split(train_df, test_size=0.2)\n",
    "\n",
    "# Form np arrays of labels and features.\n",
    "train_labels = np.array(train_df.pop('isFraud'))\n",
    "bool_train_labels = train_labels != 0\n",
    "val_labels = np.array(val_df.pop('isFraud'))\n",
    "test_labels = np.array(test_df.pop('isFraud'))\n",
    "\n",
    "train_features = np.array(train_df)\n",
    "val_features = np.array(val_df)\n",
    "test_features = np.array(test_df)"
   ]
  },
  {
   "cell_type": "code",
   "execution_count": 8,
   "metadata": {},
   "outputs": [
    {
     "name": "stdout",
     "output_type": "stream",
     "text": [
      "Training labels shape: (341124,)\n",
      "Validation labels shape: (85281,)\n",
      "Test labels shape: (106602,)\n",
      "Training features shape: (341124, 266)\n",
      "Validation features shape: (85281, 266)\n",
      "Test features shape: (106602, 266)\n"
     ]
    }
   ],
   "source": [
    "#Normalize the input features using the sklearn StandardScaler. \n",
    "#This will set the mean to 0 and standard deviation to 1.\n",
    "scaler = StandardScaler()\n",
    "train_features = scaler.fit_transform(train_features)\n",
    "\n",
    "val_features = scaler.transform(val_features)\n",
    "test_features = scaler.transform(test_features)\n",
    "\n",
    "train_features = np.clip(train_features, -5, 5)\n",
    "val_features = np.clip(val_features, -5, 5)\n",
    "test_features = np.clip(test_features, -5, 5)\n",
    "pos_df = pd.DataFrame(train_features[ bool_train_labels], columns = train_df.columns)\n",
    "neg_df = pd.DataFrame(train_features[~bool_train_labels], columns = train_df.columns)\n",
    "\n",
    "print('Training labels shape:', train_labels.shape)\n",
    "print('Validation labels shape:', val_labels.shape)\n",
    "print('Test labels shape:', test_labels.shape)\n",
    "\n",
    "print('Training features shape:', train_features.shape)\n",
    "print('Validation features shape:', val_features.shape)\n",
    "print('Test features shape:', test_features.shape)"
   ]
  },
  {
   "cell_type": "code",
   "execution_count": 9,
   "metadata": {},
   "outputs": [
    {
     "name": "stdout",
     "output_type": "stream",
     "text": [
      "WARNING:tensorflow:From /Users/abdygaziev/anaconda3/envs/learn-deep/lib/python3.6/site-packages/tensorflow/python/ops/resource_variable_ops.py:435: colocate_with (from tensorflow.python.framework.ops) is deprecated and will be removed in a future version.\n",
      "Instructions for updating:\n",
      "Colocations handled automatically by placer.\n"
     ]
    }
   ],
   "source": [
    "METRICS = [\n",
    "      keras.metrics.TruePositives(name='tp'),\n",
    "      keras.metrics.FalsePositives(name='fp'),\n",
    "      keras.metrics.TrueNegatives(name='tn'),\n",
    "      keras.metrics.FalseNegatives(name='fn'), \n",
    "      keras.metrics.BinaryAccuracy(name='accuracy'),\n",
    "      keras.metrics.Precision(name='precision'),\n",
    "      keras.metrics.Recall(name='recall')]\n",
    "\n",
    "def make_model(metrics = METRICS, output_bias=None):\n",
    "    if output_bias is not None:\n",
    "        output_bias = tf.keras.initializers.Constant(output_bias)\n",
    "    model = keras.Sequential([\n",
    "        keras.layers.Dense(\n",
    "            16, activation='relu',\n",
    "            input_shape=(train_features.shape[-1],)),\n",
    "        keras.layers.Dropout(0.5),\n",
    "        keras.layers.Dense(1, activation='sigmoid',\n",
    "                         bias_initializer=output_bias),\n",
    "  ])\n",
    "\n",
    "    model.compile(\n",
    "        optimizer=keras.optimizers.Adam(lr=1e-3),\n",
    "        loss=keras.losses.BinaryCrossentropy(),\n",
    "        metrics=metrics)\n",
    "\n",
    "    return model"
   ]
  },
  {
   "cell_type": "code",
   "execution_count": 10,
   "metadata": {},
   "outputs": [],
   "source": [
    "#buidling a model\n",
    "EPOCHS = 100\n",
    "BATCH_SIZE = 2048\n",
    "\n",
    "early_stopping = tf.keras.callbacks.EarlyStopping(\n",
    "    monitor='val_auc', \n",
    "    verbose=1,\n",
    "    patience=10,\n",
    "    mode='max',\n",
    "    restore_best_weights=True)"
   ]
  },
  {
   "cell_type": "code",
   "execution_count": 11,
   "metadata": {},
   "outputs": [
    {
     "name": "stdout",
     "output_type": "stream",
     "text": [
      "WARNING:tensorflow:From /Users/abdygaziev/anaconda3/envs/learn-deep/lib/python3.6/site-packages/tensorflow/python/keras/layers/core.py:143: calling dropout (from tensorflow.python.ops.nn_ops) with keep_prob is deprecated and will be removed in a future version.\n",
      "Instructions for updating:\n",
      "Please use `rate` instead of `keep_prob`. Rate should be set to `rate = 1 - keep_prob`.\n",
      "WARNING:tensorflow:From /Users/abdygaziev/anaconda3/envs/learn-deep/lib/python3.6/site-packages/tensorflow/python/keras/utils/losses_utils.py:170: to_float (from tensorflow.python.ops.math_ops) is deprecated and will be removed in a future version.\n",
      "Instructions for updating:\n",
      "Use tf.cast instead.\n",
      "_________________________________________________________________\n",
      "Layer (type)                 Output Shape              Param #   \n",
      "=================================================================\n",
      "dense (Dense)                (None, 16)                4272      \n",
      "_________________________________________________________________\n",
      "dropout (Dropout)            (None, 16)                0         \n",
      "_________________________________________________________________\n",
      "dense_1 (Dense)              (None, 1)                 17        \n",
      "=================================================================\n",
      "Total params: 4,289\n",
      "Trainable params: 4,289\n",
      "Non-trainable params: 0\n",
      "_________________________________________________________________\n"
     ]
    }
   ],
   "source": [
    "model = make_model()\n",
    "model.summary()"
   ]
  },
  {
   "cell_type": "code",
   "execution_count": 12,
   "metadata": {},
   "outputs": [
    {
     "data": {
      "text/plain": [
       "array([[0.92253816],\n",
       "       [0.9328386 ],\n",
       "       [0.75663966],\n",
       "       [0.9414644 ],\n",
       "       [0.78775454],\n",
       "       [0.77495366],\n",
       "       [0.76992095],\n",
       "       [0.8537023 ],\n",
       "       [0.8492974 ],\n",
       "       [0.84369254]], dtype=float32)"
      ]
     },
     "execution_count": 12,
     "metadata": {},
     "output_type": "execute_result"
    }
   ],
   "source": [
    "model.predict(train_features[:10])"
   ]
  },
  {
   "cell_type": "code",
   "execution_count": 13,
   "metadata": {},
   "outputs": [
    {
     "name": "stdout",
     "output_type": "stream",
     "text": [
      "Loss: 1.6856\n"
     ]
    }
   ],
   "source": [
    "results = model.evaluate(train_features, train_labels, batch_size=BATCH_SIZE, verbose=0)\n",
    "print(\"Loss: {:0.4f}\".format(results[0]))"
   ]
  },
  {
   "cell_type": "code",
   "execution_count": 14,
   "metadata": {},
   "outputs": [
    {
     "data": {
      "text/plain": [
       "array([-3.36316399])"
      ]
     },
     "execution_count": 14,
     "metadata": {},
     "output_type": "execute_result"
    }
   ],
   "source": [
    "initial_bias = np.log([pos/neg])\n",
    "initial_bias"
   ]
  },
  {
   "cell_type": "code",
   "execution_count": 15,
   "metadata": {},
   "outputs": [
    {
     "data": {
      "text/plain": [
       "array([[0.0086945 ],\n",
       "       [0.01278448],\n",
       "       [0.02399585],\n",
       "       [0.01189989],\n",
       "       [0.03003344],\n",
       "       [0.04725602],\n",
       "       [0.09432974],\n",
       "       [0.04972827],\n",
       "       [0.00470553],\n",
       "       [0.03043353]], dtype=float32)"
      ]
     },
     "execution_count": 15,
     "metadata": {},
     "output_type": "execute_result"
    }
   ],
   "source": [
    "model = make_model(output_bias = initial_bias)\n",
    "model.predict(train_features[:10])"
   ]
  },
  {
   "cell_type": "code",
   "execution_count": 16,
   "metadata": {},
   "outputs": [
    {
     "name": "stdout",
     "output_type": "stream",
     "text": [
      "Loss: 0.1881\n"
     ]
    }
   ],
   "source": [
    "results = model.evaluate(train_features, train_labels, batch_size=BATCH_SIZE, verbose=0)\n",
    "print(\"Loss: {:0.4f}\".format(results[0]))"
   ]
  },
  {
   "cell_type": "code",
   "execution_count": 17,
   "metadata": {},
   "outputs": [
    {
     "name": "stdout",
     "output_type": "stream",
     "text": [
      "WARNING:tensorflow:This model was compiled with a Keras optimizer (<tensorflow.python.keras.optimizers.Adam object at 0x1a3cbb1c50>) but is being saved in TensorFlow format with `save_weights`. The model's weights will be saved, but unlike with TensorFlow optimizers in the TensorFlow format the optimizer's state will not be saved.\n",
      "\n",
      "Consider using a TensorFlow optimizer from `tf.train`.\n",
      "WARNING:tensorflow:From /Users/abdygaziev/anaconda3/envs/learn-deep/lib/python3.6/site-packages/tensorflow/python/keras/engine/network.py:1436: update_checkpoint_state (from tensorflow.python.training.checkpoint_management) is deprecated and will be removed in a future version.\n",
      "Instructions for updating:\n",
      "Use tf.train.CheckpointManager to manage checkpoints rather than manually editing the Checkpoint proto.\n"
     ]
    }
   ],
   "source": [
    "initial_weights = os.path.join(tempfile.mkdtemp(),'initial_weights')\n",
    "model.save_weights(initial_weights)"
   ]
  },
  {
   "cell_type": "code",
   "execution_count": 18,
   "metadata": {},
   "outputs": [
    {
     "name": "stdout",
     "output_type": "stream",
     "text": [
      "WARNING:tensorflow:From /Users/abdygaziev/anaconda3/envs/learn-deep/lib/python3.6/site-packages/tensorflow/python/ops/math_ops.py:3066: to_int32 (from tensorflow.python.ops.math_ops) is deprecated and will be removed in a future version.\n",
      "Instructions for updating:\n",
      "Use tf.cast instead.\n"
     ]
    }
   ],
   "source": [
    "model = make_model()\n",
    "model.load_weights(initial_weights)\n",
    "model.layers[-1].bias.assign([0.0])\n",
    "zero_bias_history = model.fit(\n",
    "    train_features,\n",
    "    train_labels,\n",
    "    batch_size=BATCH_SIZE,\n",
    "    epochs=20,\n",
    "    validation_data=(val_features, val_labels), \n",
    "    verbose=0)"
   ]
  },
  {
   "cell_type": "code",
   "execution_count": 19,
   "metadata": {},
   "outputs": [],
   "source": [
    "model = make_model()\n",
    "model.load_weights(initial_weights)\n",
    "careful_bias_history = model.fit(\n",
    "    train_features,\n",
    "    train_labels,\n",
    "    batch_size=BATCH_SIZE,\n",
    "    epochs=20,\n",
    "    validation_data=(val_features, val_labels), \n",
    "    verbose=0)"
   ]
  },
  {
   "cell_type": "code",
   "execution_count": 20,
   "metadata": {},
   "outputs": [],
   "source": [
    "mpl.rcParams['figure.figsize'] = (12, 10)\n",
    "colors = plt.rcParams['axes.prop_cycle'].by_key()['color']"
   ]
  },
  {
   "cell_type": "code",
   "execution_count": 21,
   "metadata": {},
   "outputs": [],
   "source": [
    "def plot_loss(history, label, n):\n",
    "  # Use a log scale to show the wide range of values.\n",
    "    plt.semilogy(history.epoch,  history.history['loss'], color=colors[n], label='Train '+label)\n",
    "    plt.semilogy(history.epoch,  history.history['val_loss'],\n",
    "              color=colors[n], label='Val '+label,\n",
    "              linestyle=\"--\")\n",
    "    plt.xlabel('Epoch')\n",
    "    plt.ylabel('Loss')\n",
    "  \n",
    "    plt.legend()"
   ]
  },
  {
   "cell_type": "code",
   "execution_count": 22,
   "metadata": {},
   "outputs": [
    {
     "data": {
      "image/png": "[encoded data removed]",
      "text/plain": [
       "<Figure size 864x720 with 1 Axes>"
      ]
     },
     "metadata": {
      "needs_background": "light"
     },
     "output_type": "display_data"
    }
   ],
   "source": [
    "plot_loss(zero_bias_history, \"Zero Bias\", 0)\n",
    "plot_loss(careful_bias_history, \"Careful Bias\", 1)"
   ]
  },
  {
   "cell_type": "code",
   "execution_count": 23,
   "metadata": {},
   "outputs": [
    {
     "name": "stdout",
     "output_type": "stream",
     "text": [
      "Train on 341124 samples, validate on 85281 samples\n",
      "Epoch 1/100\n",
      "339968/341124 [============================>.] - ETA: 0s - loss: 0.1317 - tp: 732.0000 - fp: 515.0000 - tn: 328028.0000 - fn: 10693.0000 - accuracy: 0.9670 - precision: 0.5870 - recall: 0.0641WARNING:tensorflow:Early stopping conditioned on metric `val_auc` which is not available. Available metrics are: loss,tp,fp,tn,fn,accuracy,precision,recall,val_loss,val_tp,val_fp,val_tn,val_fn,val_accuracy,val_precision,val_recall\n",
      "341124/341124 [==============================] - 4s 13us/sample - loss: 0.1317 - tp: 739.0000 - fp: 519.0000 - tn: 329137.0000 - fn: 10729.0000 - accuracy: 0.9670 - precision: 0.5874 - recall: 0.0644 - val_loss: 0.1160 - val_tp: 345.0000 - val_fp: 50.0000 - val_tn: 82303.0000 - val_fn: 2583.0000 - val_accuracy: 0.9691 - val_precision: 0.8734 - val_recall: 0.1178\n",
      "Epoch 2/100\n",
      "339968/341124 [============================>.] - ETA: 0s - loss: 0.1180 - tp: 1232.0000 - fp: 503.0000 - tn: 328042.0000 - fn: 10191.0000 - accuracy: 0.9685 - precision: 0.7101 - recall: 0.1079WARNING:tensorflow:Early stopping conditioned on metric `val_auc` which is not available. Available metrics are: loss,tp,fp,tn,fn,accuracy,precision,recall,val_loss,val_tp,val_fp,val_tn,val_fn,val_accuracy,val_precision,val_recall\n",
      "341124/341124 [==============================] - 4s 11us/sample - loss: 0.1180 - tp: 1237.0000 - fp: 503.0000 - tn: 329153.0000 - fn: 10231.0000 - accuracy: 0.9685 - precision: 0.7109 - recall: 0.1079 - val_loss: 0.1132 - val_tp: 330.0000 - val_fp: 33.0000 - val_tn: 82320.0000 - val_fn: 2598.0000 - val_accuracy: 0.9691 - val_precision: 0.9091 - val_recall: 0.1127\n",
      "Epoch 3/100\n",
      "337920/341124 [============================>.] - ETA: 0s - loss: 0.1154 - tp: 1395.0000 - fp: 548.0000 - tn: 326003.0000 - fn: 9974.0000 - accuracy: 0.9689 - precision: 0.7180 - recall: 0.1227WARNING:tensorflow:Early stopping conditioned on metric `val_auc` which is not available. Available metrics are: loss,tp,fp,tn,fn,accuracy,precision,recall,val_loss,val_tp,val_fp,val_tn,val_fn,val_accuracy,val_precision,val_recall\n",
      "341124/341124 [==============================] - 4s 11us/sample - loss: 0.1153 - tp: 1408.0000 - fp: 557.0000 - tn: 329099.0000 - fn: 10060.0000 - accuracy: 0.9689 - precision: 0.7165 - recall: 0.1228 - val_loss: 0.1103 - val_tp: 395.0000 - val_fp: 51.0000 - val_tn: 82302.0000 - val_fn: 2533.0000 - val_accuracy: 0.9697 - val_precision: 0.8857 - val_recall: 0.1349\n",
      "Epoch 4/100\n",
      "339968/341124 [============================>.] - ETA: 0s - loss: 0.1143 - tp: 1461.0000 - fp: 573.0000 - tn: 327971.0000 - fn: 9963.0000 - accuracy: 0.9690 - precision: 0.7183 - recall: 0.1279WARNING:tensorflow:Early stopping conditioned on metric `val_auc` which is not available. Available metrics are: loss,tp,fp,tn,fn,accuracy,precision,recall,val_loss,val_tp,val_fp,val_tn,val_fn,val_accuracy,val_precision,val_recall\n",
      "341124/341124 [==============================] - 4s 11us/sample - loss: 0.1144 - tp: 1463.0000 - fp: 575.0000 - tn: 329081.0000 - fn: 10005.0000 - accuracy: 0.9690 - precision: 0.7179 - recall: 0.1276 - val_loss: 0.1094 - val_tp: 419.0000 - val_fp: 53.0000 - val_tn: 82300.0000 - val_fn: 2509.0000 - val_accuracy: 0.9700 - val_precision: 0.8877 - val_recall: 0.1431\n",
      "Epoch 5/100\n",
      "335872/341124 [============================>.] - ETA: 0s - loss: 0.1133 - tp: 1526.0000 - fp: 610.0000 - tn: 323951.0000 - fn: 9785.0000 - accuracy: 0.9691 - precision: 0.7144 - recall: 0.1349WARNING:tensorflow:Early stopping conditioned on metric `val_auc` which is not available. Available metrics are: loss,tp,fp,tn,fn,accuracy,precision,recall,val_loss,val_tp,val_fp,val_tn,val_fn,val_accuracy,val_precision,val_recall\n",
      "341124/341124 [==============================] - 4s 11us/sample - loss: 0.1132 - tp: 1549.0000 - fp: 618.0000 - tn: 329038.0000 - fn: 9919.0000 - accuracy: 0.9691 - precision: 0.7148 - recall: 0.1351 - val_loss: 0.1090 - val_tp: 421.0000 - val_fp: 45.0000 - val_tn: 82308.0000 - val_fn: 2507.0000 - val_accuracy: 0.9701 - val_precision: 0.9034 - val_recall: 0.1438\n",
      "Epoch 6/100\n",
      "339968/341124 [============================>.] - ETA: 0s - loss: 0.1126 - tp: 1602.0000 - fp: 623.0000 - tn: 327914.0000 - fn: 9829.0000 - accuracy: 0.9693 - precision: 0.7200 - recall: 0.1401WARNING:tensorflow:Early stopping conditioned on metric `val_auc` which is not available. Available metrics are: loss,tp,fp,tn,fn,accuracy,precision,recall,val_loss,val_tp,val_fp,val_tn,val_fn,val_accuracy,val_precision,val_recall\n",
      "341124/341124 [==============================] - 4s 11us/sample - loss: 0.1126 - tp: 1606.0000 - fp: 627.0000 - tn: 329029.0000 - fn: 9862.0000 - accuracy: 0.9693 - precision: 0.7192 - recall: 0.1400 - val_loss: 0.1074 - val_tp: 505.0000 - val_fp: 90.0000 - val_tn: 82263.0000 - val_fn: 2423.0000 - val_accuracy: 0.9705 - val_precision: 0.8487 - val_recall: 0.1725\n",
      "Epoch 7/100\n",
      "339968/341124 [============================>.] - ETA: 0s - loss: 0.1115 - tp: 1688.0000 - fp: 642.0000 - tn: 327897.0000 - fn: 9741.0000 - accuracy: 0.9695 - precision: 0.7245 - recall: 0.1477WARNING:tensorflow:Early stopping conditioned on metric `val_auc` which is not available. Available metrics are: loss,tp,fp,tn,fn,accuracy,precision,recall,val_loss,val_tp,val_fp,val_tn,val_fn,val_accuracy,val_precision,val_recall\n",
      "341124/341124 [==============================] - 4s 13us/sample - loss: 0.1114 - tp: 1698.0000 - fp: 643.0000 - tn: 329013.0000 - fn: 9770.0000 - accuracy: 0.9695 - precision: 0.7253 - recall: 0.1481 - val_loss: 0.1071 - val_tp: 492.0000 - val_fp: 85.0000 - val_tn: 82268.0000 - val_fn: 2436.0000 - val_accuracy: 0.9704 - val_precision: 0.8527 - val_recall: 0.1680\n",
      "Epoch 8/100\n",
      "335872/341124 [============================>.] - ETA: 0s - loss: 0.1112 - tp: 1716.0000 - fp: 620.0000 - tn: 323960.0000 - fn: 9576.0000 - accuracy: 0.9696 - precision: 0.7346 - recall: 0.1520WARNING:tensorflow:Early stopping conditioned on metric `val_auc` which is not available. Available metrics are: loss,tp,fp,tn,fn,accuracy,precision,recall,val_loss,val_tp,val_fp,val_tn,val_fn,val_accuracy,val_precision,val_recall\n",
      "341124/341124 [==============================] - 4s 11us/sample - loss: 0.1110 - tp: 1747.0000 - fp: 628.0000 - tn: 329028.0000 - fn: 9721.0000 - accuracy: 0.9697 - precision: 0.7356 - recall: 0.1523 - val_loss: 0.1063 - val_tp: 532.0000 - val_fp: 106.0000 - val_tn: 82247.0000 - val_fn: 2396.0000 - val_accuracy: 0.9707 - val_precision: 0.8339 - val_recall: 0.1817\n",
      "Epoch 9/100\n",
      "335872/341124 [============================>.] - ETA: 0s - loss: 0.1105 - tp: 1698.0000 - fp: 623.0000 - tn: 323966.0000 - fn: 9585.0000 - accuracy: 0.9696 - precision: 0.7316 - recall: 0.1505WARNING:tensorflow:Early stopping conditioned on metric `val_auc` which is not available. Available metrics are: loss,tp,fp,tn,fn,accuracy,precision,recall,val_loss,val_tp,val_fp,val_tn,val_fn,val_accuracy,val_precision,val_recall\n",
      "341124/341124 [==============================] - 4s 11us/sample - loss: 0.1106 - tp: 1736.0000 - fp: 640.0000 - tn: 329016.0000 - fn: 9732.0000 - accuracy: 0.9696 - precision: 0.7306 - recall: 0.1514 - val_loss: 0.1057 - val_tp: 550.0000 - val_fp: 112.0000 - val_tn: 82241.0000 - val_fn: 2378.0000 - val_accuracy: 0.9708 - val_precision: 0.8308 - val_recall: 0.1878\n",
      "Epoch 10/100\n",
      "339968/341124 [============================>.] - ETA: 0s - loss: 0.1100 - tp: 1767.0000 - fp: 659.0000 - tn: 327890.0000 - fn: 9652.0000 - accuracy: 0.9697 - precision: 0.7284 - recall: 0.1547WARNING:tensorflow:Early stopping conditioned on metric `val_auc` which is not available. Available metrics are: loss,tp,fp,tn,fn,accuracy,precision,recall,val_loss,val_tp,val_fp,val_tn,val_fn,val_accuracy,val_precision,val_recall\n",
      "341124/341124 [==============================] - 4s 12us/sample - loss: 0.1101 - tp: 1779.0000 - fp: 662.0000 - tn: 328994.0000 - fn: 9689.0000 - accuracy: 0.9697 - precision: 0.7288 - recall: 0.1551 - val_loss: 0.1053 - val_tp: 545.0000 - val_fp: 99.0000 - val_tn: 82254.0000 - val_fn: 2383.0000 - val_accuracy: 0.9709 - val_precision: 0.8463 - val_recall: 0.1861\n",
      "Epoch 11/100\n",
      "335872/341124 [============================>.] - ETA: 0s - loss: 0.1095 - tp: 1816.0000 - fp: 657.0000 - tn: 323926.0000 - fn: 9473.0000 - accuracy: 0.9698 - precision: 0.7343 - recall: 0.1609WARNING:tensorflow:Early stopping conditioned on metric `val_auc` which is not available. Available metrics are: loss,tp,fp,tn,fn,accuracy,precision,recall,val_loss,val_tp,val_fp,val_tn,val_fn,val_accuracy,val_precision,val_recall\n",
      "341124/341124 [==============================] - 4s 11us/sample - loss: 0.1097 - tp: 1842.0000 - fp: 665.0000 - tn: 328991.0000 - fn: 9626.0000 - accuracy: 0.9698 - precision: 0.7347 - recall: 0.1606 - val_loss: 0.1053 - val_tp: 492.0000 - val_fp: 56.0000 - val_tn: 82297.0000 - val_fn: 2436.0000 - val_accuracy: 0.9708 - val_precision: 0.8978 - val_recall: 0.1680\n",
      "Epoch 12/100\n",
      "337920/341124 [============================>.] - ETA: 0s - loss: 0.1091 - tp: 1852.0000 - fp: 635.0000 - tn: 325938.0000 - fn: 9495.0000 - accuracy: 0.9700 - precision: 0.7447 - recall: 0.1632WARNING:tensorflow:Early stopping conditioned on metric `val_auc` which is not available. Available metrics are: loss,tp,fp,tn,fn,accuracy,precision,recall,val_loss,val_tp,val_fp,val_tn,val_fn,val_accuracy,val_precision,val_recall\n",
      "341124/341124 [==============================] - 4s 11us/sample - loss: 0.1092 - tp: 1877.0000 - fp: 639.0000 - tn: 329017.0000 - fn: 9591.0000 - accuracy: 0.9700 - precision: 0.7460 - recall: 0.1637 - val_loss: 0.1047 - val_tp: 537.0000 - val_fp: 78.0000 - val_tn: 82275.0000 - val_fn: 2391.0000 - val_accuracy: 0.9710 - val_precision: 0.8732 - val_recall: 0.1834\n",
      "Epoch 13/100\n",
      "337920/341124 [============================>.] - ETA: 0s - loss: 0.1087 - tp: 1923.0000 - fp: 642.0000 - tn: 325920.0000 - fn: 9435.0000 - accuracy: 0.9702 - precision: 0.7497 - recall: 0.1693WARNING:tensorflow:Early stopping conditioned on metric `val_auc` which is not available. Available metrics are: loss,tp,fp,tn,fn,accuracy,precision,recall,val_loss,val_tp,val_fp,val_tn,val_fn,val_accuracy,val_precision,val_recall\n",
      "341124/341124 [==============================] - 4s 11us/sample - loss: 0.1087 - tp: 1942.0000 - fp: 645.0000 - tn: 329011.0000 - fn: 9526.0000 - accuracy: 0.9702 - precision: 0.7507 - recall: 0.1693 - val_loss: 0.1051 - val_tp: 486.0000 - val_fp: 50.0000 - val_tn: 82303.0000 - val_fn: 2442.0000 - val_accuracy: 0.9708 - val_precision: 0.9067 - val_recall: 0.1660\n",
      "Epoch 14/100\n",
      "337920/341124 [============================>.] - ETA: 0s - loss: 0.1083 - tp: 1935.0000 - fp: 663.0000 - tn: 325923.0000 - fn: 9399.0000 - accuracy: 0.9702 - precision: 0.7448 - recall: 0.1707WARNING:tensorflow:Early stopping conditioned on metric `val_auc` which is not available. Available metrics are: loss,tp,fp,tn,fn,accuracy,precision,recall,val_loss,val_tp,val_fp,val_tn,val_fn,val_accuracy,val_precision,val_recall\n",
      "341124/341124 [==============================] - 4s 11us/sample - loss: 0.1086 - tp: 1954.0000 - fp: 665.0000 - tn: 328991.0000 - fn: 9514.0000 - accuracy: 0.9702 - precision: 0.7461 - recall: 0.1704 - val_loss: 0.1041 - val_tp: 567.0000 - val_fp: 96.0000 - val_tn: 82257.0000 - val_fn: 2361.0000 - val_accuracy: 0.9712 - val_precision: 0.8552 - val_recall: 0.1936\n",
      "Epoch 15/100\n",
      "335872/341124 [============================>.] - ETA: 0s - loss: 0.1082 - tp: 1935.0000 - fp: 631.0000 - tn: 323950.0000 - fn: 9356.0000 - accuracy: 0.9703 - precision: 0.7541 - recall: 0.1714WARNING:tensorflow:Early stopping conditioned on metric `val_auc` which is not available. Available metrics are: loss,tp,fp,tn,fn,accuracy,precision,recall,val_loss,val_tp,val_fp,val_tn,val_fn,val_accuracy,val_precision,val_recall\n",
      "341124/341124 [==============================] - 4s 11us/sample - loss: 0.1082 - tp: 1966.0000 - fp: 639.0000 - tn: 329017.0000 - fn: 9502.0000 - accuracy: 0.9703 - precision: 0.7547 - recall: 0.1714 - val_loss: 0.1038 - val_tp: 567.0000 - val_fp: 90.0000 - val_tn: 82263.0000 - val_fn: 2361.0000 - val_accuracy: 0.9713 - val_precision: 0.8630 - val_recall: 0.1936\n",
      "Epoch 16/100\n",
      "337920/341124 [============================>.] - ETA: 0s - loss: 0.1081 - tp: 1959.0000 - fp: 652.0000 - tn: 325897.0000 - fn: 9412.0000 - accuracy: 0.9702 - precision: 0.7503 - recall: 0.1723WARNING:tensorflow:Early stopping conditioned on metric `val_auc` which is not available. Available metrics are: loss,tp,fp,tn,fn,accuracy,precision,recall,val_loss,val_tp,val_fp,val_tn,val_fn,val_accuracy,val_precision,val_recall\n",
      "341124/341124 [==============================] - 4s 11us/sample - loss: 0.1079 - tp: 1979.0000 - fp: 665.0000 - tn: 328991.0000 - fn: 9489.0000 - accuracy: 0.9702 - precision: 0.7485 - recall: 0.1726 - val_loss: 0.1037 - val_tp: 571.0000 - val_fp: 92.0000 - val_tn: 82261.0000 - val_fn: 2357.0000 - val_accuracy: 0.9713 - val_precision: 0.8612 - val_recall: 0.1950\n",
      "Epoch 17/100\n",
      "335872/341124 [============================>.] - ETA: 0s - loss: 0.1080 - tp: 1963.0000 - fp: 666.0000 - tn: 323905.0000 - fn: 9338.0000 - accuracy: 0.9702 - precision: 0.7467 - recall: 0.1737WARNING:tensorflow:Early stopping conditioned on metric `val_auc` which is not available. Available metrics are: loss,tp,fp,tn,fn,accuracy,precision,recall,val_loss,val_tp,val_fp,val_tn,val_fn,val_accuracy,val_precision,val_recall\n",
      "341124/341124 [==============================] - 4s 11us/sample - loss: 0.1080 - tp: 1991.0000 - fp: 684.0000 - tn: 328972.0000 - fn: 9477.0000 - accuracy: 0.9702 - precision: 0.7443 - recall: 0.1736 - val_loss: 0.1028 - val_tp: 594.0000 - val_fp: 95.0000 - val_tn: 82258.0000 - val_fn: 2334.0000 - val_accuracy: 0.9715 - val_precision: 0.8621 - val_recall: 0.2029\n",
      "Epoch 18/100\n",
      "339968/341124 [============================>.] - ETA: 0s - loss: 0.1076 - tp: 2003.0000 - fp: 677.0000 - tn: 327867.0000 - fn: 9421.0000 - accuracy: 0.9703 - precision: 0.7474 - recall: 0.1753WARNING:tensorflow:Early stopping conditioned on metric `val_auc` which is not available. Available metrics are: loss,tp,fp,tn,fn,accuracy,precision,recall,val_loss,val_tp,val_fp,val_tn,val_fn,val_accuracy,val_precision,val_recall\n",
      "341124/341124 [==============================] - 4s 11us/sample - loss: 0.1076 - tp: 2011.0000 - fp: 678.0000 - tn: 328978.0000 - fn: 9457.0000 - accuracy: 0.9703 - precision: 0.7479 - recall: 0.1754 - val_loss: 0.1027 - val_tp: 607.0000 - val_fp: 105.0000 - val_tn: 82248.0000 - val_fn: 2321.0000 - val_accuracy: 0.9716 - val_precision: 0.8525 - val_recall: 0.2073\n",
      "Epoch 19/100\n",
      "335872/341124 [============================>.] - ETA: 0s - loss: 0.1077 - tp: 1973.0000 - fp: 683.0000 - tn: 323912.0000 - fn: 9304.0000 - accuracy: 0.9703 - precision: 0.7428 - recall: 0.1750WARNING:tensorflow:Early stopping conditioned on metric `val_auc` which is not available. Available metrics are: loss,tp,fp,tn,fn,accuracy,precision,recall,val_loss,val_tp,val_fp,val_tn,val_fn,val_accuracy,val_precision,val_recall\n",
      "341124/341124 [==============================] - 4s 11us/sample - loss: 0.1078 - tp: 2008.0000 - fp: 693.0000 - tn: 328963.0000 - fn: 9460.0000 - accuracy: 0.9702 - precision: 0.7434 - recall: 0.1751 - val_loss: 0.1030 - val_tp: 562.0000 - val_fp: 82.0000 - val_tn: 82271.0000 - val_fn: 2366.0000 - val_accuracy: 0.9713 - val_precision: 0.8727 - val_recall: 0.1919\n",
      "Epoch 20/100\n",
      "335872/341124 [============================>.] - ETA: 0s - loss: 0.1072 - tp: 1970.0000 - fp: 645.0000 - tn: 323943.0000 - fn: 9314.0000 - accuracy: 0.9703 - precision: 0.7533 - recall: 0.1746WARNING:tensorflow:Early stopping conditioned on metric `val_auc` which is not available. Available metrics are: loss,tp,fp,tn,fn,accuracy,precision,recall,val_loss,val_tp,val_fp,val_tn,val_fn,val_accuracy,val_precision,val_recall\n",
      "341124/341124 [==============================] - 4s 11us/sample - loss: 0.1072 - tp: 2006.0000 - fp: 652.0000 - tn: 329004.0000 - fn: 9462.0000 - accuracy: 0.9704 - precision: 0.7547 - recall: 0.1749 - val_loss: 0.1024 - val_tp: 591.0000 - val_fp: 93.0000 - val_tn: 82260.0000 - val_fn: 2337.0000 - val_accuracy: 0.9715 - val_precision: 0.8640 - val_recall: 0.2018\n",
      "Epoch 21/100\n",
      "337920/341124 [============================>.] - ETA: 0s - loss: 0.1070 - tp: 2075.0000 - fp: 675.0000 - tn: 325868.0000 - fn: 9302.0000 - accuracy: 0.9705 - precision: 0.7545 - recall: 0.1824WARNING:tensorflow:Early stopping conditioned on metric `val_auc` which is not available. Available metrics are: loss,tp,fp,tn,fn,accuracy,precision,recall,val_loss,val_tp,val_fp,val_tn,val_fn,val_accuracy,val_precision,val_recall\n",
      "341124/341124 [==============================] - 4s 11us/sample - loss: 0.1068 - tp: 2094.0000 - fp: 682.0000 - tn: 328974.0000 - fn: 9374.0000 - accuracy: 0.9705 - precision: 0.7543 - recall: 0.1826 - val_loss: 0.1022 - val_tp: 600.0000 - val_fp: 92.0000 - val_tn: 82261.0000 - val_fn: 2328.0000 - val_accuracy: 0.9716 - val_precision: 0.8671 - val_recall: 0.2049\n",
      "Epoch 22/100\n",
      "337920/341124 [============================>.] - ETA: 0s - loss: 0.1068 - tp: 2081.0000 - fp: 694.0000 - tn: 325873.0000 - fn: 9272.0000 - accuracy: 0.9705 - precision: 0.7499 - recall: 0.1833WARNING:tensorflow:Early stopping conditioned on metric `val_auc` which is not available. Available metrics are: loss,tp,fp,tn,fn,accuracy,precision,recall,val_loss,val_tp,val_fp,val_tn,val_fn,val_accuracy,val_precision,val_recall\n",
      "341124/341124 [==============================] - 4s 11us/sample - loss: 0.1069 - tp: 2100.0000 - fp: 700.0000 - tn: 328956.0000 - fn: 9368.0000 - accuracy: 0.9705 - precision: 0.7500 - recall: 0.1831 - val_loss: 0.1023 - val_tp: 553.0000 - val_fp: 61.0000 - val_tn: 82292.0000 - val_fn: 2375.0000 - val_accuracy: 0.9714 - val_precision: 0.9007 - val_recall: 0.1889\n",
      "Epoch 23/100\n",
      "337920/341124 [============================>.] - ETA: 0s - loss: 0.1068 - tp: 2065.0000 - fp: 660.0000 - tn: 325887.0000 - fn: 9308.0000 - accuracy: 0.9705 - precision: 0.7578 - recall: 0.1816WARNING:tensorflow:Early stopping conditioned on metric `val_auc` which is not available. Available metrics are: loss,tp,fp,tn,fn,accuracy,precision,recall,val_loss,val_tp,val_fp,val_tn,val_fn,val_accuracy,val_precision,val_recall\n",
      "341124/341124 [==============================] - 4s 11us/sample - loss: 0.1067 - tp: 2080.0000 - fp: 663.0000 - tn: 328993.0000 - fn: 9388.0000 - accuracy: 0.9705 - precision: 0.7583 - recall: 0.1814 - val_loss: 0.1020 - val_tp: 555.0000 - val_fp: 67.0000 - val_tn: 82286.0000 - val_fn: 2373.0000 - val_accuracy: 0.9714 - val_precision: 0.8923 - val_recall: 0.1895\n",
      "Epoch 24/100\n",
      "337920/341124 [============================>.] - ETA: 0s - loss: 0.1068 - tp: 2068.0000 - fp: 713.0000 - tn: 325863.0000 - fn: 9276.0000 - accuracy: 0.9704 - precision: 0.7436 - recall: 0.1823WARNING:tensorflow:Early stopping conditioned on metric `val_auc` which is not available. Available metrics are: loss,tp,fp,tn,fn,accuracy,precision,recall,val_loss,val_tp,val_fp,val_tn,val_fn,val_accuracy,val_precision,val_recall\n",
      "341124/341124 [==============================] - 4s 11us/sample - loss: 0.1069 - tp: 2095.0000 - fp: 724.0000 - tn: 328932.0000 - fn: 9373.0000 - accuracy: 0.9704 - precision: 0.7432 - recall: 0.1827 - val_loss: 0.1016 - val_tp: 581.0000 - val_fp: 81.0000 - val_tn: 82272.0000 - val_fn: 2347.0000 - val_accuracy: 0.9715 - val_precision: 0.8776 - val_recall: 0.1984\n",
      "Epoch 25/100\n",
      "335872/341124 [============================>.] - ETA: 0s - loss: 0.1067 - tp: 2105.0000 - fp: 670.0000 - tn: 323905.0000 - fn: 9192.0000 - accuracy: 0.9706 - precision: 0.7586 - recall: 0.1863WARNING:tensorflow:Early stopping conditioned on metric `val_auc` which is not available. Available metrics are: loss,tp,fp,tn,fn,accuracy,precision,recall,val_loss,val_tp,val_fp,val_tn,val_fn,val_accuracy,val_precision,val_recall\n",
      "341124/341124 [==============================] - 4s 11us/sample - loss: 0.1067 - tp: 2133.0000 - fp: 682.0000 - tn: 328974.0000 - fn: 9335.0000 - accuracy: 0.9706 - precision: 0.7577 - recall: 0.1860 - val_loss: 0.1020 - val_tp: 545.0000 - val_fp: 58.0000 - val_tn: 82295.0000 - val_fn: 2383.0000 - val_accuracy: 0.9714 - val_precision: 0.9038 - val_recall: 0.1861\n",
      "Epoch 26/100\n",
      "337920/341124 [============================>.] - ETA: 0s - loss: 0.1061 - tp: 2086.0000 - fp: 670.0000 - tn: 325916.0000 - fn: 9248.0000 - accuracy: 0.9706 - precision: 0.7569 - recall: 0.1840WARNING:tensorflow:Early stopping conditioned on metric `val_auc` which is not available. Available metrics are: loss,tp,fp,tn,fn,accuracy,precision,recall,val_loss,val_tp,val_fp,val_tn,val_fn,val_accuracy,val_precision,val_recall\n",
      "341124/341124 [==============================] - 4s 11us/sample - loss: 0.1063 - tp: 2105.0000 - fp: 680.0000 - tn: 328976.0000 - fn: 9363.0000 - accuracy: 0.9706 - precision: 0.7558 - recall: 0.1836 - val_loss: 0.1018 - val_tp: 598.0000 - val_fp: 87.0000 - val_tn: 82266.0000 - val_fn: 2330.0000 - val_accuracy: 0.9717 - val_precision: 0.8730 - val_recall: 0.2042\n",
      "Epoch 27/100\n",
      "337920/341124 [============================>.] - ETA: 0s - loss: 0.1063 - tp: 2074.0000 - fp: 679.0000 - tn: 325873.0000 - fn: 9294.0000 - accuracy: 0.9705 - precision: 0.7534 - recall: 0.1824WARNING:tensorflow:Early stopping conditioned on metric `val_auc` which is not available. Available metrics are: loss,tp,fp,tn,fn,accuracy,precision,recall,val_loss,val_tp,val_fp,val_tn,val_fn,val_accuracy,val_precision,val_recall\n",
      "341124/341124 [==============================] - 4s 11us/sample - loss: 0.1063 - tp: 2096.0000 - fp: 686.0000 - tn: 328970.0000 - fn: 9372.0000 - accuracy: 0.9705 - precision: 0.7534 - recall: 0.1828 - val_loss: 0.1011 - val_tp: 637.0000 - val_fp: 100.0000 - val_tn: 82253.0000 - val_fn: 2291.0000 - val_accuracy: 0.9720 - val_precision: 0.8643 - val_recall: 0.2176\n",
      "Epoch 28/100\n",
      "337920/341124 [============================>.] - ETA: 0s - loss: 0.1061 - tp: 2172.0000 - fp: 702.0000 - tn: 325839.0000 - fn: 9207.0000 - accuracy: 0.9707 - precision: 0.7557 - recall: 0.1909WARNING:tensorflow:Early stopping conditioned on metric `val_auc` which is not available. Available metrics are: loss,tp,fp,tn,fn,accuracy,precision,recall,val_loss,val_tp,val_fp,val_tn,val_fn,val_accuracy,val_precision,val_recall\n",
      "341124/341124 [==============================] - 4s 11us/sample - loss: 0.1060 - tp: 2190.0000 - fp: 708.0000 - tn: 328948.0000 - fn: 9278.0000 - accuracy: 0.9707 - precision: 0.7557 - recall: 0.1910 - val_loss: 0.1012 - val_tp: 593.0000 - val_fp: 77.0000 - val_tn: 82276.0000 - val_fn: 2335.0000 - val_accuracy: 0.9717 - val_precision: 0.8851 - val_recall: 0.2025\n",
      "Epoch 29/100\n",
      "339968/341124 [============================>.] - ETA: 0s - loss: 0.1059 - tp: 2196.0000 - fp: 643.0000 - tn: 327889.0000 - fn: 9240.0000 - accuracy: 0.9709 - precision: 0.7735 - recall: 0.1920WARNING:tensorflow:Early stopping conditioned on metric `val_auc` which is not available. Available metrics are: loss,tp,fp,tn,fn,accuracy,precision,recall,val_loss,val_tp,val_fp,val_tn,val_fn,val_accuracy,val_precision,val_recall\n",
      "341124/341124 [==============================] - 4s 11us/sample - loss: 0.1059 - tp: 2203.0000 - fp: 644.0000 - tn: 329012.0000 - fn: 9265.0000 - accuracy: 0.9710 - precision: 0.7738 - recall: 0.1921 - val_loss: 0.1009 - val_tp: 616.0000 - val_fp: 76.0000 - val_tn: 82277.0000 - val_fn: 2312.0000 - val_accuracy: 0.9720 - val_precision: 0.8902 - val_recall: 0.2104\n",
      "Epoch 30/100\n",
      "335872/341124 [============================>.] - ETA: 0s - loss: 0.1058 - tp: 2103.0000 - fp: 672.0000 - tn: 323936.0000 - fn: 9161.0000 - accuracy: 0.9707 - precision: 0.7578 - recall: 0.1867WARNING:tensorflow:Early stopping conditioned on metric `val_auc` which is not available. Available metrics are: loss,tp,fp,tn,fn,accuracy,precision,recall,val_loss,val_tp,val_fp,val_tn,val_fn,val_accuracy,val_precision,val_recall\n",
      "341124/341124 [==============================] - 4s 11us/sample - loss: 0.1059 - tp: 2145.0000 - fp: 686.0000 - tn: 328970.0000 - fn: 9323.0000 - accuracy: 0.9707 - precision: 0.7577 - recall: 0.1870 - val_loss: 0.1007 - val_tp: 618.0000 - val_fp: 82.0000 - val_tn: 82271.0000 - val_fn: 2310.0000 - val_accuracy: 0.9720 - val_precision: 0.8829 - val_recall: 0.2111\n",
      "Epoch 31/100\n",
      "339968/341124 [============================>.] - ETA: 0s - loss: 0.1055 - tp: 2245.0000 - fp: 689.0000 - tn: 327849.0000 - fn: 9185.0000 - accuracy: 0.9710 - precision: 0.7652 - recall: 0.1964WARNING:tensorflow:Early stopping conditioned on metric `val_auc` which is not available. Available metrics are: loss,tp,fp,tn,fn,accuracy,precision,recall,val_loss,val_tp,val_fp,val_tn,val_fn,val_accuracy,val_precision,val_recall\n",
      "341124/341124 [==============================] - 5s 14us/sample - loss: 0.1054 - tp: 2251.0000 - fp: 689.0000 - tn: 328967.0000 - fn: 9217.0000 - accuracy: 0.9710 - precision: 0.7656 - recall: 0.1963 - val_loss: 0.1008 - val_tp: 591.0000 - val_fp: 72.0000 - val_tn: 82281.0000 - val_fn: 2337.0000 - val_accuracy: 0.9718 - val_precision: 0.8914 - val_recall: 0.2018\n",
      "Epoch 32/100\n",
      "335872/341124 [============================>.] - ETA: 0s - loss: 0.1058 - tp: 2192.0000 - fp: 641.0000 - tn: 323956.0000 - fn: 9083.0000 - accuracy: 0.9710 - precision: 0.7737 - recall: 0.1944WARNING:tensorflow:Early stopping conditioned on metric `val_auc` which is not available. Available metrics are: loss,tp,fp,tn,fn,accuracy,precision,recall,val_loss,val_tp,val_fp,val_tn,val_fn,val_accuracy,val_precision,val_recall\n",
      "341124/341124 [==============================] - 4s 12us/sample - loss: 0.1059 - tp: 2230.0000 - fp: 652.0000 - tn: 329004.0000 - fn: 9238.0000 - accuracy: 0.9710 - precision: 0.7738 - recall: 0.1945 - val_loss: 0.1003 - val_tp: 615.0000 - val_fp: 79.0000 - val_tn: 82274.0000 - val_fn: 2313.0000 - val_accuracy: 0.9720 - val_precision: 0.8862 - val_recall: 0.2100\n",
      "Epoch 33/100\n",
      "339968/341124 [============================>.] - ETA: 0s - loss: 0.1056 - tp: 2228.0000 - fp: 688.0000 - tn: 327841.0000 - fn: 9211.0000 - accuracy: 0.9709 - precision: 0.7641 - recall: 0.1948WARNING:tensorflow:Early stopping conditioned on metric `val_auc` which is not available. Available metrics are: loss,tp,fp,tn,fn,accuracy,precision,recall,val_loss,val_tp,val_fp,val_tn,val_fn,val_accuracy,val_precision,val_recall\n",
      "341124/341124 [==============================] - 4s 12us/sample - loss: 0.1055 - tp: 2234.0000 - fp: 691.0000 - tn: 328965.0000 - fn: 9234.0000 - accuracy: 0.9709 - precision: 0.7638 - recall: 0.1948 - val_loss: 0.0999 - val_tp: 612.0000 - val_fp: 76.0000 - val_tn: 82277.0000 - val_fn: 2316.0000 - val_accuracy: 0.9720 - val_precision: 0.8895 - val_recall: 0.2090\n",
      "Epoch 34/100\n",
      "339968/341124 [============================>.] - ETA: 0s - loss: 0.1055 - tp: 2221.0000 - fp: 702.0000 - tn: 327845.0000 - fn: 9200.0000 - accuracy: 0.9709 - precision: 0.7598 - recall: 0.1945WARNING:tensorflow:Early stopping conditioned on metric `val_auc` which is not available. Available metrics are: loss,tp,fp,tn,fn,accuracy,precision,recall,val_loss,val_tp,val_fp,val_tn,val_fn,val_accuracy,val_precision,val_recall\n",
      "341124/341124 [==============================] - 4s 12us/sample - loss: 0.1055 - tp: 2232.0000 - fp: 707.0000 - tn: 328949.0000 - fn: 9236.0000 - accuracy: 0.9709 - precision: 0.7594 - recall: 0.1946 - val_loss: 0.1003 - val_tp: 608.0000 - val_fp: 78.0000 - val_tn: 82275.0000 - val_fn: 2320.0000 - val_accuracy: 0.9719 - val_precision: 0.8863 - val_recall: 0.2077\n",
      "Epoch 35/100\n",
      "335872/341124 [============================>.] - ETA: 0s - loss: 0.1053 - tp: 2205.0000 - fp: 659.0000 - tn: 323920.0000 - fn: 9088.0000 - accuracy: 0.9710 - precision: 0.7699 - recall: 0.1953WARNING:tensorflow:Early stopping conditioned on metric `val_auc` which is not available. Available metrics are: loss,tp,fp,tn,fn,accuracy,precision,recall,val_loss,val_tp,val_fp,val_tn,val_fn,val_accuracy,val_precision,val_recall\n",
      "341124/341124 [==============================] - 4s 13us/sample - loss: 0.1053 - tp: 2249.0000 - fp: 676.0000 - tn: 328980.0000 - fn: 9219.0000 - accuracy: 0.9710 - precision: 0.7689 - recall: 0.1961 - val_loss: 0.1005 - val_tp: 589.0000 - val_fp: 61.0000 - val_tn: 82292.0000 - val_fn: 2339.0000 - val_accuracy: 0.9719 - val_precision: 0.9062 - val_recall: 0.2012\n",
      "Epoch 36/100\n",
      "335872/341124 [============================>.] - ETA: 0s - loss: 0.1049 - tp: 2184.0000 - fp: 665.0000 - tn: 323941.0000 - fn: 9082.0000 - accuracy: 0.9710 - precision: 0.7666 - recall: 0.1939WARNING:tensorflow:Early stopping conditioned on metric `val_auc` which is not available. Available metrics are: loss,tp,fp,tn,fn,accuracy,precision,recall,val_loss,val_tp,val_fp,val_tn,val_fn,val_accuracy,val_precision,val_recall\n",
      "341124/341124 [==============================] - 5s 13us/sample - loss: 0.1050 - tp: 2226.0000 - fp: 676.0000 - tn: 328980.0000 - fn: 9242.0000 - accuracy: 0.9709 - precision: 0.7671 - recall: 0.1941 - val_loss: 0.0999 - val_tp: 629.0000 - val_fp: 81.0000 - val_tn: 82272.0000 - val_fn: 2299.0000 - val_accuracy: 0.9721 - val_precision: 0.8859 - val_recall: 0.2148\n",
      "Epoch 37/100\n",
      "339968/341124 [============================>.] - ETA: 0s - loss: 0.1050 - tp: 2263.0000 - fp: 695.0000 - tn: 327837.0000 - fn: 9173.0000 - accuracy: 0.9710 - precision: 0.7650 - recall: 0.1979WARNING:tensorflow:Early stopping conditioned on metric `val_auc` which is not available. Available metrics are: loss,tp,fp,tn,fn,accuracy,precision,recall,val_loss,val_tp,val_fp,val_tn,val_fn,val_accuracy,val_precision,val_recall\n",
      "341124/341124 [==============================] - 4s 13us/sample - loss: 0.1049 - tp: 2272.0000 - fp: 695.0000 - tn: 328961.0000 - fn: 9196.0000 - accuracy: 0.9710 - precision: 0.7658 - recall: 0.1981 - val_loss: 0.1002 - val_tp: 667.0000 - val_fp: 113.0000 - val_tn: 82240.0000 - val_fn: 2261.0000 - val_accuracy: 0.9722 - val_precision: 0.8551 - val_recall: 0.2278\n",
      "Epoch 38/100\n",
      "337920/341124 [============================>.] - ETA: 0s - loss: 0.1049 - tp: 2291.0000 - fp: 699.0000 - tn: 325879.0000 - fn: 9051.0000 - accuracy: 0.9711 - precision: 0.7662 - recall: 0.2020WARNING:tensorflow:Early stopping conditioned on metric `val_auc` which is not available. Available metrics are: loss,tp,fp,tn,fn,accuracy,precision,recall,val_loss,val_tp,val_fp,val_tn,val_fn,val_accuracy,val_precision,val_recall\n",
      "341124/341124 [==============================] - 4s 12us/sample - loss: 0.1049 - tp: 2313.0000 - fp: 704.0000 - tn: 328952.0000 - fn: 9155.0000 - accuracy: 0.9711 - precision: 0.7667 - recall: 0.2017 - val_loss: 0.1001 - val_tp: 617.0000 - val_fp: 76.0000 - val_tn: 82277.0000 - val_fn: 2311.0000 - val_accuracy: 0.9720 - val_precision: 0.8903 - val_recall: 0.2107\n",
      "Epoch 39/100\n",
      "335872/341124 [============================>.] - ETA: 0s - loss: 0.1053 - tp: 2198.0000 - fp: 650.0000 - tn: 323931.0000 - fn: 9093.0000 - accuracy: 0.9710 - precision: 0.7718 - recall: 0.1947WARNING:tensorflow:Early stopping conditioned on metric `val_auc` which is not available. Available metrics are: loss,tp,fp,tn,fn,accuracy,precision,recall,val_loss,val_tp,val_fp,val_tn,val_fn,val_accuracy,val_precision,val_recall\n",
      "341124/341124 [==============================] - 4s 13us/sample - loss: 0.1052 - tp: 2232.0000 - fp: 659.0000 - tn: 328997.0000 - fn: 9236.0000 - accuracy: 0.9710 - precision: 0.7721 - recall: 0.1946 - val_loss: 0.1000 - val_tp: 606.0000 - val_fp: 68.0000 - val_tn: 82285.0000 - val_fn: 2322.0000 - val_accuracy: 0.9720 - val_precision: 0.8991 - val_recall: 0.2070\n",
      "Epoch 40/100\n",
      "335872/341124 [============================>.] - ETA: 0s - loss: 0.1045 - tp: 2264.0000 - fp: 657.0000 - tn: 323919.0000 - fn: 9032.0000 - accuracy: 0.9712 - precision: 0.7751 - recall: 0.2004WARNING:tensorflow:Early stopping conditioned on metric `val_auc` which is not available. Available metrics are: loss,tp,fp,tn,fn,accuracy,precision,recall,val_loss,val_tp,val_fp,val_tn,val_fn,val_accuracy,val_precision,val_recall\n",
      "341124/341124 [==============================] - 4s 13us/sample - loss: 0.1044 - tp: 2302.0000 - fp: 669.0000 - tn: 328987.0000 - fn: 9166.0000 - accuracy: 0.9712 - precision: 0.7748 - recall: 0.2007 - val_loss: 0.0989 - val_tp: 684.0000 - val_fp: 110.0000 - val_tn: 82243.0000 - val_fn: 2244.0000 - val_accuracy: 0.9724 - val_precision: 0.8615 - val_recall: 0.2336\n",
      "Epoch 41/100\n",
      "337920/341124 [============================>.] - ETA: 0s - loss: 0.1043 - tp: 2352.0000 - fp: 671.0000 - tn: 325888.0000 - fn: 9009.0000 - accuracy: 0.9714 - precision: 0.7780 - recall: 0.2070WARNING:tensorflow:Early stopping conditioned on metric `val_auc` which is not available. Available metrics are: loss,tp,fp,tn,fn,accuracy,precision,recall,val_loss,val_tp,val_fp,val_tn,val_fn,val_accuracy,val_precision,val_recall\n",
      "341124/341124 [==============================] - 4s 13us/sample - loss: 0.1043 - tp: 2373.0000 - fp: 678.0000 - tn: 328978.0000 - fn: 9095.0000 - accuracy: 0.9714 - precision: 0.7778 - recall: 0.2069 - val_loss: 0.0991 - val_tp: 661.0000 - val_fp: 104.0000 - val_tn: 82249.0000 - val_fn: 2267.0000 - val_accuracy: 0.9722 - val_precision: 0.8641 - val_recall: 0.2258\n",
      "Epoch 42/100\n",
      "339968/341124 [============================>.] - ETA: 0s - loss: 0.1052 - tp: 2265.0000 - fp: 711.0000 - tn: 327829.0000 - fn: 9163.0000 - accuracy: 0.9710 - precision: 0.7611 - recall: 0.1982WARNING:tensorflow:Early stopping conditioned on metric `val_auc` which is not available. Available metrics are: loss,tp,fp,tn,fn,accuracy,precision,recall,val_loss,val_tp,val_fp,val_tn,val_fn,val_accuracy,val_precision,val_recall\n",
      "341124/341124 [==============================] - 4s 13us/sample - loss: 0.1052 - tp: 2270.0000 - fp: 711.0000 - tn: 328945.0000 - fn: 9198.0000 - accuracy: 0.9710 - precision: 0.7615 - recall: 0.1979 - val_loss: 0.0996 - val_tp: 612.0000 - val_fp: 74.0000 - val_tn: 82279.0000 - val_fn: 2316.0000 - val_accuracy: 0.9720 - val_precision: 0.8921 - val_recall: 0.2090\n",
      "Epoch 43/100\n",
      "337920/341124 [============================>.] - ETA: 0s - loss: 0.1049 - tp: 2291.0000 - fp: 655.0000 - tn: 325897.0000 - fn: 9077.0000 - accuracy: 0.9712 - precision: 0.7777 - recall: 0.2015WARNING:tensorflow:Early stopping conditioned on metric `val_auc` which is not available. Available metrics are: loss,tp,fp,tn,fn,accuracy,precision,recall,val_loss,val_tp,val_fp,val_tn,val_fn,val_accuracy,val_precision,val_recall\n",
      "341124/341124 [==============================] - 4s 13us/sample - loss: 0.1048 - tp: 2307.0000 - fp: 666.0000 - tn: 328990.0000 - fn: 9161.0000 - accuracy: 0.9712 - precision: 0.7760 - recall: 0.2012 - val_loss: 0.0996 - val_tp: 582.0000 - val_fp: 63.0000 - val_tn: 82290.0000 - val_fn: 2346.0000 - val_accuracy: 0.9718 - val_precision: 0.9023 - val_recall: 0.1988\n",
      "Epoch 44/100\n",
      "335872/341124 [============================>.] - ETA: 0s - loss: 0.1043 - tp: 2299.0000 - fp: 699.0000 - tn: 323861.0000 - fn: 9013.0000 - accuracy: 0.9711 - precision: 0.7668 - recall: 0.2032WARNING:tensorflow:Early stopping conditioned on metric `val_auc` which is not available. Available metrics are: loss,tp,fp,tn,fn,accuracy,precision,recall,val_loss,val_tp,val_fp,val_tn,val_fn,val_accuracy,val_precision,val_recall\n",
      "341124/341124 [==============================] - 4s 13us/sample - loss: 0.1041 - tp: 2340.0000 - fp: 711.0000 - tn: 328945.0000 - fn: 9128.0000 - accuracy: 0.9712 - precision: 0.7670 - recall: 0.2040 - val_loss: 0.0992 - val_tp: 635.0000 - val_fp: 78.0000 - val_tn: 82275.0000 - val_fn: 2293.0000 - val_accuracy: 0.9722 - val_precision: 0.8906 - val_recall: 0.2169\n",
      "Epoch 45/100\n",
      "339968/341124 [============================>.] - ETA: 0s - loss: 0.1040 - tp: 2399.0000 - fp: 687.0000 - tn: 327846.0000 - fn: 9036.0000 - accuracy: 0.9714 - precision: 0.7774 - recall: 0.2098WARNING:tensorflow:Early stopping conditioned on metric `val_auc` which is not available. Available metrics are: loss,tp,fp,tn,fn,accuracy,precision,recall,val_loss,val_tp,val_fp,val_tn,val_fn,val_accuracy,val_precision,val_recall\n",
      "341124/341124 [==============================] - 4s 13us/sample - loss: 0.1040 - tp: 2405.0000 - fp: 688.0000 - tn: 328968.0000 - fn: 9063.0000 - accuracy: 0.9714 - precision: 0.7776 - recall: 0.2097 - val_loss: 0.0999 - val_tp: 563.0000 - val_fp: 50.0000 - val_tn: 82303.0000 - val_fn: 2365.0000 - val_accuracy: 0.9717 - val_precision: 0.9184 - val_recall: 0.1923\n",
      "Epoch 46/100\n",
      "335872/341124 [============================>.] - ETA: 0s - loss: 0.1043 - tp: 2303.0000 - fp: 654.0000 - tn: 323920.0000 - fn: 8995.0000 - accuracy: 0.9713 - precision: 0.7788 - recall: 0.2038WARNING:tensorflow:Early stopping conditioned on metric `val_auc` which is not available. Available metrics are: loss,tp,fp,tn,fn,accuracy,precision,recall,val_loss,val_tp,val_fp,val_tn,val_fn,val_accuracy,val_precision,val_recall\n",
      "341124/341124 [==============================] - 4s 13us/sample - loss: 0.1044 - tp: 2339.0000 - fp: 660.0000 - tn: 328996.0000 - fn: 9129.0000 - accuracy: 0.9713 - precision: 0.7799 - recall: 0.2040 - val_loss: 0.0993 - val_tp: 618.0000 - val_fp: 68.0000 - val_tn: 82285.0000 - val_fn: 2310.0000 - val_accuracy: 0.9721 - val_precision: 0.9009 - val_recall: 0.2111\n",
      "Epoch 47/100\n",
      "339968/341124 [============================>.] - ETA: 0s - loss: 0.1045 - tp: 2344.0000 - fp: 681.0000 - tn: 327849.0000 - fn: 9094.0000 - accuracy: 0.9712 - precision: 0.7749 - recall: 0.2049WARNING:tensorflow:Early stopping conditioned on metric `val_auc` which is not available. Available metrics are: loss,tp,fp,tn,fn,accuracy,precision,recall,val_loss,val_tp,val_fp,val_tn,val_fn,val_accuracy,val_precision,val_recall\n",
      "341124/341124 [==============================] - 4s 13us/sample - loss: 0.1044 - tp: 2350.0000 - fp: 681.0000 - tn: 328975.0000 - fn: 9118.0000 - accuracy: 0.9713 - precision: 0.7753 - recall: 0.2049 - val_loss: 0.0992 - val_tp: 620.0000 - val_fp: 70.0000 - val_tn: 82283.0000 - val_fn: 2308.0000 - val_accuracy: 0.9721 - val_precision: 0.8986 - val_recall: 0.2117\n",
      "Epoch 48/100\n",
      "335872/341124 [============================>.] - ETA: 0s - loss: 0.1045 - tp: 2317.0000 - fp: 701.0000 - tn: 323888.0000 - fn: 8966.0000 - accuracy: 0.9712 - precision: 0.7677 - recall: 0.2054WARNING:tensorflow:Early stopping conditioned on metric `val_auc` which is not available. Available metrics are: loss,tp,fp,tn,fn,accuracy,precision,recall,val_loss,val_tp,val_fp,val_tn,val_fn,val_accuracy,val_precision,val_recall\n",
      "341124/341124 [==============================] - 4s 13us/sample - loss: 0.1046 - tp: 2351.0000 - fp: 708.0000 - tn: 328948.0000 - fn: 9117.0000 - accuracy: 0.9712 - precision: 0.7686 - recall: 0.2050 - val_loss: 0.0993 - val_tp: 612.0000 - val_fp: 70.0000 - val_tn: 82283.0000 - val_fn: 2316.0000 - val_accuracy: 0.9720 - val_precision: 0.8974 - val_recall: 0.2090\n",
      "Epoch 49/100\n",
      "335872/341124 [============================>.] - ETA: 0s - loss: 0.1042 - tp: 2261.0000 - fp: 676.0000 - tn: 323917.0000 - fn: 9018.0000 - accuracy: 0.9711 - precision: 0.7698 - recall: 0.2005WARNING:tensorflow:Early stopping conditioned on metric `val_auc` which is not available. Available metrics are: loss,tp,fp,tn,fn,accuracy,precision,recall,val_loss,val_tp,val_fp,val_tn,val_fn,val_accuracy,val_precision,val_recall\n",
      "341124/341124 [==============================] - 4s 13us/sample - loss: 0.1045 - tp: 2297.0000 - fp: 693.0000 - tn: 328963.0000 - fn: 9171.0000 - accuracy: 0.9711 - precision: 0.7682 - recall: 0.2003 - val_loss: 0.0988 - val_tp: 663.0000 - val_fp: 97.0000 - val_tn: 82256.0000 - val_fn: 2265.0000 - val_accuracy: 0.9723 - val_precision: 0.8724 - val_recall: 0.2264\n",
      "Epoch 50/100\n",
      "339968/341124 [============================>.] - ETA: 0s - loss: 0.1041 - tp: 2333.0000 - fp: 701.0000 - tn: 327845.0000 - fn: 9089.0000 - accuracy: 0.9712 - precision: 0.7690 - recall: 0.2043WARNING:tensorflow:Early stopping conditioned on metric `val_auc` which is not available. Available metrics are: loss,tp,fp,tn,fn,accuracy,precision,recall,val_loss,val_tp,val_fp,val_tn,val_fn,val_accuracy,val_precision,val_recall\n",
      "341124/341124 [==============================] - 4s 12us/sample - loss: 0.1041 - tp: 2346.0000 - fp: 703.0000 - tn: 328953.0000 - fn: 9122.0000 - accuracy: 0.9712 - precision: 0.7694 - recall: 0.2046 - val_loss: 0.0988 - val_tp: 614.0000 - val_fp: 64.0000 - val_tn: 82289.0000 - val_fn: 2314.0000 - val_accuracy: 0.9721 - val_precision: 0.9056 - val_recall: 0.2097\n",
      "Epoch 51/100\n",
      "339968/341124 [============================>.] - ETA: 0s - loss: 0.1038 - tp: 2420.0000 - fp: 680.0000 - tn: 327855.0000 - fn: 9013.0000 - accuracy: 0.9715 - precision: 0.7806 - recall: 0.2117WARNING:tensorflow:Early stopping conditioned on metric `val_auc` which is not available. Available metrics are: loss,tp,fp,tn,fn,accuracy,precision,recall,val_loss,val_tp,val_fp,val_tn,val_fn,val_accuracy,val_precision,val_recall\n",
      "341124/341124 [==============================] - 5s 13us/sample - loss: 0.1038 - tp: 2428.0000 - fp: 683.0000 - tn: 328973.0000 - fn: 9040.0000 - accuracy: 0.9715 - precision: 0.7805 - recall: 0.2117 - val_loss: 0.0983 - val_tp: 684.0000 - val_fp: 101.0000 - val_tn: 82252.0000 - val_fn: 2244.0000 - val_accuracy: 0.9725 - val_precision: 0.8713 - val_recall: 0.2336\n",
      "Epoch 52/100\n",
      "335872/341124 [============================>.] - ETA: 0s - loss: 0.1041 - tp: 2354.0000 - fp: 658.0000 - tn: 323907.0000 - fn: 8953.0000 - accuracy: 0.9714 - precision: 0.7815 - recall: 0.2082WARNING:tensorflow:Early stopping conditioned on metric `val_auc` which is not available. Available metrics are: loss,tp,fp,tn,fn,accuracy,precision,recall,val_loss,val_tp,val_fp,val_tn,val_fn,val_accuracy,val_precision,val_recall\n",
      "341124/341124 [==============================] - 4s 13us/sample - loss: 0.1039 - tp: 2390.0000 - fp: 665.0000 - tn: 328991.0000 - fn: 9078.0000 - accuracy: 0.9714 - precision: 0.7823 - recall: 0.2084 - val_loss: 0.0989 - val_tp: 627.0000 - val_fp: 73.0000 - val_tn: 82280.0000 - val_fn: 2301.0000 - val_accuracy: 0.9722 - val_precision: 0.8957 - val_recall: 0.2141\n",
      "Epoch 53/100\n",
      "335872/341124 [============================>.] - ETA: 0s - loss: 0.1044 - tp: 2313.0000 - fp: 649.0000 - tn: 323918.0000 - fn: 8992.0000 - accuracy: 0.9713 - precision: 0.7809 - recall: 0.2046WARNING:tensorflow:Early stopping conditioned on metric `val_auc` which is not available. Available metrics are: loss,tp,fp,tn,fn,accuracy,precision,recall,val_loss,val_tp,val_fp,val_tn,val_fn,val_accuracy,val_precision,val_recall\n",
      "341124/341124 [==============================] - 4s 13us/sample - loss: 0.1042 - tp: 2362.0000 - fp: 665.0000 - tn: 328991.0000 - fn: 9106.0000 - accuracy: 0.9714 - precision: 0.7803 - recall: 0.2060 - val_loss: 0.0989 - val_tp: 643.0000 - val_fp: 78.0000 - val_tn: 82275.0000 - val_fn: 2285.0000 - val_accuracy: 0.9723 - val_precision: 0.8918 - val_recall: 0.2196\n",
      "Epoch 54/100\n",
      "337920/341124 [============================>.] - ETA: 0s - loss: 0.1039 - tp: 2321.0000 - fp: 676.0000 - tn: 325881.0000 - fn: 9042.0000 - accuracy: 0.9712 - precision: 0.7744 - recall: 0.2043WARNING:tensorflow:Early stopping conditioned on metric `val_auc` which is not available. Available metrics are: loss,tp,fp,tn,fn,accuracy,precision,recall,val_loss,val_tp,val_fp,val_tn,val_fn,val_accuracy,val_precision,val_recall\n",
      "341124/341124 [==============================] - 4s 13us/sample - loss: 0.1038 - tp: 2345.0000 - fp: 678.0000 - tn: 328978.0000 - fn: 9123.0000 - accuracy: 0.9713 - precision: 0.7757 - recall: 0.2045 - val_loss: 0.0987 - val_tp: 618.0000 - val_fp: 72.0000 - val_tn: 82281.0000 - val_fn: 2310.0000 - val_accuracy: 0.9721 - val_precision: 0.8957 - val_recall: 0.2111\n",
      "Epoch 55/100\n",
      "337920/341124 [============================>.] - ETA: 0s - loss: 0.1041 - tp: 2357.0000 - fp: 703.0000 - tn: 325857.0000 - fn: 9003.0000 - accuracy: 0.9713 - precision: 0.7703 - recall: 0.2075WARNING:tensorflow:Early stopping conditioned on metric `val_auc` which is not available. Available metrics are: loss,tp,fp,tn,fn,accuracy,precision,recall,val_loss,val_tp,val_fp,val_tn,val_fn,val_accuracy,val_precision,val_recall\n",
      "341124/341124 [==============================] - 4s 13us/sample - loss: 0.1041 - tp: 2381.0000 - fp: 714.0000 - tn: 328942.0000 - fn: 9087.0000 - accuracy: 0.9713 - precision: 0.7693 - recall: 0.2076 - val_loss: 0.0988 - val_tp: 686.0000 - val_fp: 109.0000 - val_tn: 82244.0000 - val_fn: 2242.0000 - val_accuracy: 0.9724 - val_precision: 0.8629 - val_recall: 0.2343\n",
      "Epoch 56/100\n",
      "337920/341124 [============================>.] - ETA: 0s - loss: 0.1043 - tp: 2316.0000 - fp: 679.0000 - tn: 325891.0000 - fn: 9034.0000 - accuracy: 0.9713 - precision: 0.7733 - recall: 0.2041WARNING:tensorflow:Early stopping conditioned on metric `val_auc` which is not available. Available metrics are: loss,tp,fp,tn,fn,accuracy,precision,recall,val_loss,val_tp,val_fp,val_tn,val_fn,val_accuracy,val_precision,val_recall\n",
      "341124/341124 [==============================] - 4s 13us/sample - loss: 0.1043 - tp: 2342.0000 - fp: 685.0000 - tn: 328971.0000 - fn: 9126.0000 - accuracy: 0.9712 - precision: 0.7737 - recall: 0.2042 - val_loss: 0.0991 - val_tp: 631.0000 - val_fp: 65.0000 - val_tn: 82288.0000 - val_fn: 2297.0000 - val_accuracy: 0.9723 - val_precision: 0.9066 - val_recall: 0.2155\n",
      "Epoch 57/100\n",
      "337920/341124 [============================>.] - ETA: 0s - loss: 0.1032 - tp: 2394.0000 - fp: 684.0000 - tn: 325900.0000 - fn: 8942.0000 - accuracy: 0.9715 - precision: 0.7778 - recall: 0.2112WARNING:tensorflow:Early stopping conditioned on metric `val_auc` which is not available. Available metrics are: loss,tp,fp,tn,fn,accuracy,precision,recall,val_loss,val_tp,val_fp,val_tn,val_fn,val_accuracy,val_precision,val_recall\n",
      "341124/341124 [==============================] - 4s 13us/sample - loss: 0.1035 - tp: 2412.0000 - fp: 691.0000 - tn: 328965.0000 - fn: 9056.0000 - accuracy: 0.9714 - precision: 0.7773 - recall: 0.2103 - val_loss: 0.0982 - val_tp: 673.0000 - val_fp: 85.0000 - val_tn: 82268.0000 - val_fn: 2255.0000 - val_accuracy: 0.9726 - val_precision: 0.8879 - val_recall: 0.2298\n",
      "Epoch 58/100\n",
      "337920/341124 [============================>.] - ETA: 0s - loss: 0.1035 - tp: 2405.0000 - fp: 681.0000 - tn: 325865.0000 - fn: 8969.0000 - accuracy: 0.9714 - precision: 0.7793 - recall: 0.2114WARNING:tensorflow:Early stopping conditioned on metric `val_auc` which is not available. Available metrics are: loss,tp,fp,tn,fn,accuracy,precision,recall,val_loss,val_tp,val_fp,val_tn,val_fn,val_accuracy,val_precision,val_recall\n",
      "341124/341124 [==============================] - 4s 13us/sample - loss: 0.1034 - tp: 2424.0000 - fp: 683.0000 - tn: 328973.0000 - fn: 9044.0000 - accuracy: 0.9715 - precision: 0.7802 - recall: 0.2114 - val_loss: 0.0982 - val_tp: 678.0000 - val_fp: 83.0000 - val_tn: 82270.0000 - val_fn: 2250.0000 - val_accuracy: 0.9726 - val_precision: 0.8909 - val_recall: 0.2316\n",
      "Epoch 59/100\n",
      "337920/341124 [============================>.] - ETA: 0s - loss: 0.1036 - tp: 2421.0000 - fp: 681.0000 - tn: 325862.0000 - fn: 8956.0000 - accuracy: 0.9715 - precision: 0.7805 - recall: 0.2128WARNING:tensorflow:Early stopping conditioned on metric `val_auc` which is not available. Available metrics are: loss,tp,fp,tn,fn,accuracy,precision,recall,val_loss,val_tp,val_fp,val_tn,val_fn,val_accuracy,val_precision,val_recall\n",
      "341124/341124 [==============================] - 4s 13us/sample - loss: 0.1034 - tp: 2445.0000 - fp: 687.0000 - tn: 328969.0000 - fn: 9023.0000 - accuracy: 0.9715 - precision: 0.7807 - recall: 0.2132 - val_loss: 0.0983 - val_tp: 670.0000 - val_fp: 76.0000 - val_tn: 82277.0000 - val_fn: 2258.0000 - val_accuracy: 0.9726 - val_precision: 0.8981 - val_recall: 0.2288\n",
      "Epoch 60/100\n",
      "335872/341124 [============================>.] - ETA: 0s - loss: 0.1039 - tp: 2391.0000 - fp: 667.0000 - tn: 323912.0000 - fn: 8902.0000 - accuracy: 0.9715 - precision: 0.7819 - recall: 0.2117WARNING:tensorflow:Early stopping conditioned on metric `val_auc` which is not available. Available metrics are: loss,tp,fp,tn,fn,accuracy,precision,recall,val_loss,val_tp,val_fp,val_tn,val_fn,val_accuracy,val_precision,val_recall\n",
      "341124/341124 [==============================] - 4s 13us/sample - loss: 0.1039 - tp: 2423.0000 - fp: 673.0000 - tn: 328983.0000 - fn: 9045.0000 - accuracy: 0.9715 - precision: 0.7826 - recall: 0.2113 - val_loss: 0.0984 - val_tp: 668.0000 - val_fp: 93.0000 - val_tn: 82260.0000 - val_fn: 2260.0000 - val_accuracy: 0.9724 - val_precision: 0.8778 - val_recall: 0.2281\n",
      "Epoch 61/100\n",
      "339968/341124 [============================>.] - ETA: 0s - loss: 0.1037 - tp: 2397.0000 - fp: 721.0000 - tn: 327818.0000 - fn: 9032.0000 - accuracy: 0.9713 - precision: 0.7688 - recall: 0.2097WARNING:tensorflow:Early stopping conditioned on metric `val_auc` which is not available. Available metrics are: loss,tp,fp,tn,fn,accuracy,precision,recall,val_loss,val_tp,val_fp,val_tn,val_fn,val_accuracy,val_precision,val_recall\n",
      "341124/341124 [==============================] - 4s 13us/sample - loss: 0.1037 - tp: 2405.0000 - fp: 723.0000 - tn: 328933.0000 - fn: 9063.0000 - accuracy: 0.9713 - precision: 0.7689 - recall: 0.2097 - val_loss: 0.0983 - val_tp: 679.0000 - val_fp: 93.0000 - val_tn: 82260.0000 - val_fn: 2249.0000 - val_accuracy: 0.9725 - val_precision: 0.8795 - val_recall: 0.2319\n",
      "Epoch 62/100\n",
      "337920/341124 [============================>.] - ETA: 0s - loss: 0.1036 - tp: 2371.0000 - fp: 678.0000 - tn: 325875.0000 - fn: 8996.0000 - accuracy: 0.9714 - precision: 0.7776 - recall: 0.2086WARNING:tensorflow:Early stopping conditioned on metric `val_auc` which is not available. Available metrics are: loss,tp,fp,tn,fn,accuracy,precision,recall,val_loss,val_tp,val_fp,val_tn,val_fn,val_accuracy,val_precision,val_recall\n",
      "341124/341124 [==============================] - 4s 13us/sample - loss: 0.1035 - tp: 2387.0000 - fp: 684.0000 - tn: 328972.0000 - fn: 9081.0000 - accuracy: 0.9714 - precision: 0.7773 - recall: 0.2081 - val_loss: 0.0985 - val_tp: 632.0000 - val_fp: 68.0000 - val_tn: 82285.0000 - val_fn: 2296.0000 - val_accuracy: 0.9723 - val_precision: 0.9029 - val_recall: 0.2158\n",
      "Epoch 63/100\n",
      "335872/341124 [============================>.] - ETA: 0s - loss: 0.1035 - tp: 2382.0000 - fp: 668.0000 - tn: 323903.0000 - fn: 8919.0000 - accuracy: 0.9715 - precision: 0.7810 - recall: 0.2108WARNING:tensorflow:Early stopping conditioned on metric `val_auc` which is not available. Available metrics are: loss,tp,fp,tn,fn,accuracy,precision,recall,val_loss,val_tp,val_fp,val_tn,val_fn,val_accuracy,val_precision,val_recall\n",
      "341124/341124 [==============================] - 5s 14us/sample - loss: 0.1035 - tp: 2416.0000 - fp: 676.0000 - tn: 328980.0000 - fn: 9052.0000 - accuracy: 0.9715 - precision: 0.7814 - recall: 0.2107 - val_loss: 0.0991 - val_tp: 582.0000 - val_fp: 51.0000 - val_tn: 82302.0000 - val_fn: 2346.0000 - val_accuracy: 0.9719 - val_precision: 0.9194 - val_recall: 0.1988\n",
      "Epoch 64/100\n",
      "339968/341124 [============================>.] - ETA: 0s - loss: 0.1035 - tp: 2403.0000 - fp: 676.0000 - tn: 327852.0000 - fn: 9037.0000 - accuracy: 0.9714 - precision: 0.7804 - recall: 0.2101WARNING:tensorflow:Early stopping conditioned on metric `val_auc` which is not available. Available metrics are: loss,tp,fp,tn,fn,accuracy,precision,recall,val_loss,val_tp,val_fp,val_tn,val_fn,val_accuracy,val_precision,val_recall\n",
      "341124/341124 [==============================] - 4s 13us/sample - loss: 0.1034 - tp: 2410.0000 - fp: 676.0000 - tn: 328980.0000 - fn: 9058.0000 - accuracy: 0.9715 - precision: 0.7809 - recall: 0.2101 - val_loss: 0.0981 - val_tp: 671.0000 - val_fp: 88.0000 - val_tn: 82265.0000 - val_fn: 2257.0000 - val_accuracy: 0.9725 - val_precision: 0.8841 - val_recall: 0.2292\n",
      "Epoch 65/100\n",
      "337920/341124 [============================>.] - ETA: 0s - loss: 0.1033 - tp: 2432.0000 - fp: 670.0000 - tn: 325897.0000 - fn: 8921.0000 - accuracy: 0.9716 - precision: 0.7840 - recall: 0.2142WARNING:tensorflow:Early stopping conditioned on metric `val_auc` which is not available. Available metrics are: loss,tp,fp,tn,fn,accuracy,precision,recall,val_loss,val_tp,val_fp,val_tn,val_fn,val_accuracy,val_precision,val_recall\n",
      "341124/341124 [==============================] - 4s 13us/sample - loss: 0.1033 - tp: 2458.0000 - fp: 675.0000 - tn: 328981.0000 - fn: 9010.0000 - accuracy: 0.9716 - precision: 0.7846 - recall: 0.2143 - val_loss: 0.0979 - val_tp: 668.0000 - val_fp: 84.0000 - val_tn: 82269.0000 - val_fn: 2260.0000 - val_accuracy: 0.9725 - val_precision: 0.8883 - val_recall: 0.2281\n",
      "Epoch 66/100\n",
      "339968/341124 [============================>.] - ETA: 0s - loss: 0.1030 - tp: 2454.0000 - fp: 721.0000 - tn: 327818.0000 - fn: 8975.0000 - accuracy: 0.9715 - precision: 0.7729 - recall: 0.2147WARNING:tensorflow:Early stopping conditioned on metric `val_auc` which is not available. Available metrics are: loss,tp,fp,tn,fn,accuracy,precision,recall,val_loss,val_tp,val_fp,val_tn,val_fn,val_accuracy,val_precision,val_recall\n",
      "341124/341124 [==============================] - 4s 13us/sample - loss: 0.1030 - tp: 2462.0000 - fp: 723.0000 - tn: 328933.0000 - fn: 9006.0000 - accuracy: 0.9715 - precision: 0.7730 - recall: 0.2147 - val_loss: 0.0980 - val_tp: 658.0000 - val_fp: 73.0000 - val_tn: 82280.0000 - val_fn: 2270.0000 - val_accuracy: 0.9725 - val_precision: 0.9001 - val_recall: 0.2247\n",
      "Epoch 67/100\n",
      "335872/341124 [============================>.] - ETA: 0s - loss: 0.1031 - tp: 2451.0000 - fp: 683.0000 - tn: 323885.0000 - fn: 8853.0000 - accuracy: 0.9716 - precision: 0.7821 - recall: 0.2168WARNING:tensorflow:Early stopping conditioned on metric `val_auc` which is not available. Available metrics are: loss,tp,fp,tn,fn,accuracy,precision,recall,val_loss,val_tp,val_fp,val_tn,val_fn,val_accuracy,val_precision,val_recall\n",
      "341124/341124 [==============================] - 4s 13us/sample - loss: 0.1029 - tp: 2487.0000 - fp: 689.0000 - tn: 328967.0000 - fn: 8981.0000 - accuracy: 0.9717 - precision: 0.7831 - recall: 0.2169 - val_loss: 0.0975 - val_tp: 694.0000 - val_fp: 89.0000 - val_tn: 82264.0000 - val_fn: 2234.0000 - val_accuracy: 0.9728 - val_precision: 0.8863 - val_recall: 0.2370\n",
      "Epoch 68/100\n",
      "335872/341124 [============================>.] - ETA: 0s - loss: 0.1029 - tp: 2456.0000 - fp: 691.0000 - tn: 323888.0000 - fn: 8837.0000 - accuracy: 0.9716 - precision: 0.7804 - recall: 0.2175WARNING:tensorflow:Early stopping conditioned on metric `val_auc` which is not available. Available metrics are: loss,tp,fp,tn,fn,accuracy,precision,recall,val_loss,val_tp,val_fp,val_tn,val_fn,val_accuracy,val_precision,val_recall\n",
      "341124/341124 [==============================] - 4s 13us/sample - loss: 0.1029 - tp: 2490.0000 - fp: 705.0000 - tn: 328951.0000 - fn: 8978.0000 - accuracy: 0.9716 - precision: 0.7793 - recall: 0.2171 - val_loss: 0.0977 - val_tp: 698.0000 - val_fp: 92.0000 - val_tn: 82261.0000 - val_fn: 2230.0000 - val_accuracy: 0.9728 - val_precision: 0.8835 - val_recall: 0.2384\n",
      "Epoch 69/100\n",
      "337920/341124 [============================>.] - ETA: 0s - loss: 0.1032 - tp: 2414.0000 - fp: 668.0000 - tn: 325903.0000 - fn: 8935.0000 - accuracy: 0.9716 - precision: 0.7833 - recall: 0.2127WARNING:tensorflow:Early stopping conditioned on metric `val_auc` which is not available. Available metrics are: loss,tp,fp,tn,fn,accuracy,precision,recall,val_loss,val_tp,val_fp,val_tn,val_fn,val_accuracy,val_precision,val_recall\n",
      "341124/341124 [==============================] - 4s 13us/sample - loss: 0.1032 - tp: 2445.0000 - fp: 679.0000 - tn: 328977.0000 - fn: 9023.0000 - accuracy: 0.9716 - precision: 0.7827 - recall: 0.2132 - val_loss: 0.0974 - val_tp: 719.0000 - val_fp: 102.0000 - val_tn: 82251.0000 - val_fn: 2209.0000 - val_accuracy: 0.9729 - val_precision: 0.8758 - val_recall: 0.2456\n",
      "Epoch 70/100\n",
      "335872/341124 [============================>.] - ETA: 0s - loss: 0.1032 - tp: 2400.0000 - fp: 685.0000 - tn: 323898.0000 - fn: 8889.0000 - accuracy: 0.9715 - precision: 0.7780 - recall: 0.2126WARNING:tensorflow:Early stopping conditioned on metric `val_auc` which is not available. Available metrics are: loss,tp,fp,tn,fn,accuracy,precision,recall,val_loss,val_tp,val_fp,val_tn,val_fn,val_accuracy,val_precision,val_recall\n",
      "341124/341124 [==============================] - 4s 13us/sample - loss: 0.1032 - tp: 2440.0000 - fp: 692.0000 - tn: 328964.0000 - fn: 9028.0000 - accuracy: 0.9715 - precision: 0.7791 - recall: 0.2128 - val_loss: 0.0975 - val_tp: 698.0000 - val_fp: 83.0000 - val_tn: 82270.0000 - val_fn: 2230.0000 - val_accuracy: 0.9729 - val_precision: 0.8937 - val_recall: 0.2384\n",
      "Epoch 71/100\n",
      "335872/341124 [============================>.] - ETA: 0s - loss: 0.1027 - tp: 2452.0000 - fp: 659.0000 - tn: 323910.0000 - fn: 8851.0000 - accuracy: 0.9717 - precision: 0.7882 - recall: 0.2169WARNING:tensorflow:Early stopping conditioned on metric `val_auc` which is not available. Available metrics are: loss,tp,fp,tn,fn,accuracy,precision,recall,val_loss,val_tp,val_fp,val_tn,val_fn,val_accuracy,val_precision,val_recall\n",
      "341124/341124 [==============================] - 4s 13us/sample - loss: 0.1026 - tp: 2486.0000 - fp: 668.0000 - tn: 328988.0000 - fn: 8982.0000 - accuracy: 0.9717 - precision: 0.7882 - recall: 0.2168 - val_loss: 0.0970 - val_tp: 734.0000 - val_fp: 102.0000 - val_tn: 82251.0000 - val_fn: 2194.0000 - val_accuracy: 0.9731 - val_precision: 0.8780 - val_recall: 0.2507\n",
      "Epoch 72/100\n",
      "337920/341124 [============================>.] - ETA: 0s - loss: 0.1029 - tp: 2431.0000 - fp: 704.0000 - tn: 325851.0000 - fn: 8934.0000 - accuracy: 0.9715 - precision: 0.7754 - recall: 0.2139WARNING:tensorflow:Early stopping conditioned on metric `val_auc` which is not available. Available metrics are: loss,tp,fp,tn,fn,accuracy,precision,recall,val_loss,val_tp,val_fp,val_tn,val_fn,val_accuracy,val_precision,val_recall\n",
      "341124/341124 [==============================] - 4s 13us/sample - loss: 0.1029 - tp: 2447.0000 - fp: 715.0000 - tn: 328941.0000 - fn: 9021.0000 - accuracy: 0.9715 - precision: 0.7739 - recall: 0.2134 - val_loss: 0.0972 - val_tp: 702.0000 - val_fp: 84.0000 - val_tn: 82269.0000 - val_fn: 2226.0000 - val_accuracy: 0.9729 - val_precision: 0.8931 - val_recall: 0.2398\n",
      "Epoch 73/100\n",
      "339968/341124 [============================>.] - ETA: 0s - loss: 0.1030 - tp: 2448.0000 - fp: 700.0000 - tn: 327832.0000 - fn: 8988.0000 - accuracy: 0.9715 - precision: 0.7776 - recall: 0.2141WARNING:tensorflow:Early stopping conditioned on metric `val_auc` which is not available. Available metrics are: loss,tp,fp,tn,fn,accuracy,precision,recall,val_loss,val_tp,val_fp,val_tn,val_fn,val_accuracy,val_precision,val_recall\n",
      "341124/341124 [==============================] - 4s 13us/sample - loss: 0.1029 - tp: 2454.0000 - fp: 701.0000 - tn: 328955.0000 - fn: 9014.0000 - accuracy: 0.9715 - precision: 0.7778 - recall: 0.2140 - val_loss: 0.0982 - val_tp: 638.0000 - val_fp: 60.0000 - val_tn: 82293.0000 - val_fn: 2290.0000 - val_accuracy: 0.9724 - val_precision: 0.9140 - val_recall: 0.2179\n",
      "Epoch 74/100\n",
      "337920/341124 [============================>.] - ETA: 0s - loss: 0.1028 - tp: 2446.0000 - fp: 693.0000 - tn: 325862.0000 - fn: 8919.0000 - accuracy: 0.9716 - precision: 0.7792 - recall: 0.2152WARNING:tensorflow:Early stopping conditioned on metric `val_auc` which is not available. Available metrics are: loss,tp,fp,tn,fn,accuracy,precision,recall,val_loss,val_tp,val_fp,val_tn,val_fn,val_accuracy,val_precision,val_recall\n",
      "341124/341124 [==============================] - 4s 13us/sample - loss: 0.1028 - tp: 2465.0000 - fp: 696.0000 - tn: 328960.0000 - fn: 9003.0000 - accuracy: 0.9716 - precision: 0.7798 - recall: 0.2149 - val_loss: 0.0973 - val_tp: 715.0000 - val_fp: 88.0000 - val_tn: 82265.0000 - val_fn: 2213.0000 - val_accuracy: 0.9730 - val_precision: 0.8904 - val_recall: 0.2442\n",
      "Epoch 75/100\n",
      "339968/341124 [============================>.] - ETA: 0s - loss: 0.1028 - tp: 2480.0000 - fp: 691.0000 - tn: 327858.0000 - fn: 8939.0000 - accuracy: 0.9717 - precision: 0.7821 - recall: 0.2172WARNING:tensorflow:Early stopping conditioned on metric `val_auc` which is not available. Available metrics are: loss,tp,fp,tn,fn,accuracy,precision,recall,val_loss,val_tp,val_fp,val_tn,val_fn,val_accuracy,val_precision,val_recall\n",
      "341124/341124 [==============================] - 4s 13us/sample - loss: 0.1028 - tp: 2491.0000 - fp: 693.0000 - tn: 328963.0000 - fn: 8977.0000 - accuracy: 0.9717 - precision: 0.7823 - recall: 0.2172 - val_loss: 0.0972 - val_tp: 674.0000 - val_fp: 81.0000 - val_tn: 82272.0000 - val_fn: 2254.0000 - val_accuracy: 0.9726 - val_precision: 0.8927 - val_recall: 0.2302\n",
      "Epoch 76/100\n",
      "337920/341124 [============================>.] - ETA: 0s - loss: 0.1028 - tp: 2470.0000 - fp: 694.0000 - tn: 325865.0000 - fn: 8891.0000 - accuracy: 0.9716 - precision: 0.7807 - recall: 0.2174 ETA: 0s - loss: 0.1030 - tp: 2353.0000 - fp: 666.0000 - tn: 308064.0000 - fn: 8405.0000 - accuracy: 0.9716 - precision: 0.7794 - recallWARNING:tensorflow:Early stopping conditioned on metric `val_auc` which is not available. Available metrics are: loss,tp,fp,tn,fn,accuracy,precision,recall,val_loss,val_tp,val_fp,val_tn,val_fn,val_accuracy,val_precision,val_recall\n",
      "341124/341124 [==============================] - 4s 13us/sample - loss: 0.1029 - tp: 2484.0000 - fp: 705.0000 - tn: 328951.0000 - fn: 8984.0000 - accuracy: 0.9716 - precision: 0.7789 - recall: 0.2166 - val_loss: 0.0977 - val_tp: 671.0000 - val_fp: 77.0000 - val_tn: 82276.0000 - val_fn: 2257.0000 - val_accuracy: 0.9726 - val_precision: 0.8971 - val_recall: 0.2292\n",
      "Epoch 77/100\n",
      "335872/341124 [============================>.] - ETA: 0s - loss: 0.1030 - tp: 2428.0000 - fp: 696.0000 - tn: 323902.0000 - fn: 8846.0000 - accuracy: 0.9716 - precision: 0.7772 - recall: 0.2154WARNING:tensorflow:Early stopping conditioned on metric `val_auc` which is not available. Available metrics are: loss,tp,fp,tn,fn,accuracy,precision,recall,val_loss,val_tp,val_fp,val_tn,val_fn,val_accuracy,val_precision,val_recall\n",
      "341124/341124 [==============================] - 4s 13us/sample - loss: 0.1030 - tp: 2476.0000 - fp: 706.0000 - tn: 328950.0000 - fn: 8992.0000 - accuracy: 0.9716 - precision: 0.7781 - recall: 0.2159 - val_loss: 0.0974 - val_tp: 653.0000 - val_fp: 64.0000 - val_tn: 82289.0000 - val_fn: 2275.0000 - val_accuracy: 0.9726 - val_precision: 0.9107 - val_recall: 0.2230\n",
      "Epoch 78/100\n",
      "335872/341124 [============================>.] - ETA: 0s - loss: 0.1027 - tp: 2433.0000 - fp: 694.0000 - tn: 323909.0000 - fn: 8836.0000 - accuracy: 0.9716 - precision: 0.7781 - recall: 0.2159WARNING:tensorflow:Early stopping conditioned on metric `val_auc` which is not available. Available metrics are: loss,tp,fp,tn,fn,accuracy,precision,recall,val_loss,val_tp,val_fp,val_tn,val_fn,val_accuracy,val_precision,val_recall\n",
      "341124/341124 [==============================] - 4s 13us/sample - loss: 0.1028 - tp: 2482.0000 - fp: 706.0000 - tn: 328950.0000 - fn: 8986.0000 - accuracy: 0.9716 - precision: 0.7785 - recall: 0.2164 - val_loss: 0.0971 - val_tp: 702.0000 - val_fp: 88.0000 - val_tn: 82265.0000 - val_fn: 2226.0000 - val_accuracy: 0.9729 - val_precision: 0.8886 - val_recall: 0.2398\n",
      "Epoch 79/100\n",
      "339968/341124 [============================>.] - ETA: 0s - loss: 0.1025 - tp: 2492.0000 - fp: 684.0000 - tn: 327865.0000 - fn: 8927.0000 - accuracy: 0.9717 - precision: 0.7846 - recall: 0.2182WARNING:tensorflow:Early stopping conditioned on metric `val_auc` which is not available. Available metrics are: loss,tp,fp,tn,fn,accuracy,precision,recall,val_loss,val_tp,val_fp,val_tn,val_fn,val_accuracy,val_precision,val_recall\n",
      "341124/341124 [==============================] - 4s 13us/sample - loss: 0.1026 - tp: 2503.0000 - fp: 684.0000 - tn: 328972.0000 - fn: 8965.0000 - accuracy: 0.9717 - precision: 0.7854 - recall: 0.2183 - val_loss: 0.0972 - val_tp: 687.0000 - val_fp: 72.0000 - val_tn: 82281.0000 - val_fn: 2241.0000 - val_accuracy: 0.9729 - val_precision: 0.9051 - val_recall: 0.2346\n",
      "Epoch 80/100\n",
      "337920/341124 [============================>.] - ETA: 0s - loss: 0.1023 - tp: 2536.0000 - fp: 680.0000 - tn: 325897.0000 - fn: 8807.0000 - accuracy: 0.9719 - precision: 0.7886 - recall: 0.2236WARNING:tensorflow:Early stopping conditioned on metric `val_auc` which is not available. Available metrics are: loss,tp,fp,tn,fn,accuracy,precision,recall,val_loss,val_tp,val_fp,val_tn,val_fn,val_accuracy,val_precision,val_recall\n",
      "341124/341124 [==============================] - 4s 13us/sample - loss: 0.1024 - tp: 2561.0000 - fp: 692.0000 - tn: 328964.0000 - fn: 8907.0000 - accuracy: 0.9719 - precision: 0.7873 - recall: 0.2233 - val_loss: 0.0972 - val_tp: 666.0000 - val_fp: 69.0000 - val_tn: 82284.0000 - val_fn: 2262.0000 - val_accuracy: 0.9727 - val_precision: 0.9061 - val_recall: 0.2275\n",
      "Epoch 81/100\n",
      "339968/341124 [============================>.] - ETA: 0s - loss: 0.1029 - tp: 2503.0000 - fp: 665.0000 - tn: 327879.0000 - fn: 8921.0000 - accuracy: 0.9718 - precision: 0.7901 - recall: 0.2191WARNING:tensorflow:Early stopping conditioned on metric `val_auc` which is not available. Available metrics are: loss,tp,fp,tn,fn,accuracy,precision,recall,val_loss,val_tp,val_fp,val_tn,val_fn,val_accuracy,val_precision,val_recall\n",
      "341124/341124 [==============================] - 4s 13us/sample - loss: 0.1030 - tp: 2509.0000 - fp: 668.0000 - tn: 328988.0000 - fn: 8959.0000 - accuracy: 0.9718 - precision: 0.7897 - recall: 0.2188 - val_loss: 0.0967 - val_tp: 736.0000 - val_fp: 104.0000 - val_tn: 82249.0000 - val_fn: 2192.0000 - val_accuracy: 0.9731 - val_precision: 0.8762 - val_recall: 0.2514\n",
      "Epoch 82/100\n",
      "339968/341124 [============================>.] - ETA: 0s - loss: 0.1029 - tp: 2509.0000 - fp: 709.0000 - tn: 327829.0000 - fn: 8921.0000 - accuracy: 0.9717 - precision: 0.7797 - recall: 0.2195WARNING:tensorflow:Early stopping conditioned on metric `val_auc` which is not available. Available metrics are: loss,tp,fp,tn,fn,accuracy,precision,recall,val_loss,val_tp,val_fp,val_tn,val_fn,val_accuracy,val_precision,val_recall\n",
      "341124/341124 [==============================] - 4s 13us/sample - loss: 0.1029 - tp: 2515.0000 - fp: 710.0000 - tn: 328946.0000 - fn: 8953.0000 - accuracy: 0.9717 - precision: 0.7798 - recall: 0.2193 - val_loss: 0.0971 - val_tp: 731.0000 - val_fp: 115.0000 - val_tn: 82238.0000 - val_fn: 2197.0000 - val_accuracy: 0.9729 - val_precision: 0.8641 - val_recall: 0.2497\n",
      "Epoch 83/100\n",
      "339968/341124 [============================>.] - ETA: 0s - loss: 0.1024 - tp: 2533.0000 - fp: 720.0000 - tn: 327816.0000 - fn: 8899.0000 - accuracy: 0.9717 - precision: 0.7787 - recall: 0.2216WARNING:tensorflow:Early stopping conditioned on metric `val_auc` which is not available. Available metrics are: loss,tp,fp,tn,fn,accuracy,precision,recall,val_loss,val_tp,val_fp,val_tn,val_fn,val_accuracy,val_precision,val_recall\n",
      "341124/341124 [==============================] - 4s 13us/sample - loss: 0.1024 - tp: 2539.0000 - fp: 721.0000 - tn: 328935.0000 - fn: 8929.0000 - accuracy: 0.9717 - precision: 0.7788 - recall: 0.2214 - val_loss: 0.0968 - val_tp: 720.0000 - val_fp: 82.0000 - val_tn: 82271.0000 - val_fn: 2208.0000 - val_accuracy: 0.9731 - val_precision: 0.8978 - val_recall: 0.2459\n",
      "Epoch 84/100\n",
      "337920/341124 [============================>.] - ETA: 0s - loss: 0.1027 - tp: 2487.0000 - fp: 700.0000 - tn: 325868.0000 - fn: 8865.0000 - accuracy: 0.9717 - precision: 0.7804 - recall: 0.2191WARNING:tensorflow:Early stopping conditioned on metric `val_auc` which is not available. Available metrics are: loss,tp,fp,tn,fn,accuracy,precision,recall,val_loss,val_tp,val_fp,val_tn,val_fn,val_accuracy,val_precision,val_recall\n",
      "341124/341124 [==============================] - 4s 13us/sample - loss: 0.1027 - tp: 2512.0000 - fp: 705.0000 - tn: 328951.0000 - fn: 8956.0000 - accuracy: 0.9717 - precision: 0.7809 - recall: 0.2190 - val_loss: 0.0968 - val_tp: 707.0000 - val_fp: 85.0000 - val_tn: 82268.0000 - val_fn: 2221.0000 - val_accuracy: 0.9730 - val_precision: 0.8927 - val_recall: 0.2415\n",
      "Epoch 85/100\n",
      "339968/341124 [============================>.] - ETA: 0s - loss: 0.1030 - tp: 2487.0000 - fp: 708.0000 - tn: 327819.0000 - fn: 8954.0000 - accuracy: 0.9716 - precision: 0.7784 - recall: 0.2174WARNING:tensorflow:Early stopping conditioned on metric `val_auc` which is not available. Available metrics are: loss,tp,fp,tn,fn,accuracy,precision,recall,val_loss,val_tp,val_fp,val_tn,val_fn,val_accuracy,val_precision,val_recall\n",
      "341124/341124 [==============================] - 4s 13us/sample - loss: 0.1029 - tp: 2493.0000 - fp: 709.0000 - tn: 328947.0000 - fn: 8975.0000 - accuracy: 0.9716 - precision: 0.7786 - recall: 0.2174 - val_loss: 0.0967 - val_tp: 723.0000 - val_fp: 90.0000 - val_tn: 82263.0000 - val_fn: 2205.0000 - val_accuracy: 0.9731 - val_precision: 0.8893 - val_recall: 0.2469\n",
      "Epoch 86/100\n",
      "339968/341124 [============================>.] - ETA: 0s - loss: 0.1028 - tp: 2560.0000 - fp: 676.0000 - tn: 327859.0000 - fn: 8873.0000 - accuracy: 0.9719 - precision: 0.7911 - recall: 0.2239 ETA: 0s - loss: 0.1024 - tp: 1954.0000 - fp: 532.0000 - tn: 248857.0000 - fn: 6705.0000 - accuracy: 0.9720 - precisWARNING:tensorflow:Early stopping conditioned on metric `val_auc` which is not available. Available metrics are: loss,tp,fp,tn,fn,accuracy,precision,recall,val_loss,val_tp,val_fp,val_tn,val_fn,val_accuracy,val_precision,val_recall\n",
      "341124/341124 [==============================] - 5s 13us/sample - loss: 0.1028 - tp: 2569.0000 - fp: 678.0000 - tn: 328978.0000 - fn: 8899.0000 - accuracy: 0.9719 - precision: 0.7912 - recall: 0.2240 - val_loss: 0.0967 - val_tp: 702.0000 - val_fp: 79.0000 - val_tn: 82274.0000 - val_fn: 2226.0000 - val_accuracy: 0.9730 - val_precision: 0.8988 - val_recall: 0.2398\n",
      "Epoch 87/100\n",
      "335872/341124 [============================>.] - ETA: 0s - loss: 0.1024 - tp: 2509.0000 - fp: 680.0000 - tn: 323922.0000 - fn: 8761.0000 - accuracy: 0.9719 - precision: 0.7868 - recall: 0.2226WARNING:tensorflow:Early stopping conditioned on metric `val_auc` which is not available. Available metrics are: loss,tp,fp,tn,fn,accuracy,precision,recall,val_loss,val_tp,val_fp,val_tn,val_fn,val_accuracy,val_precision,val_recall\n",
      "341124/341124 [==============================] - 4s 13us/sample - loss: 0.1024 - tp: 2558.0000 - fp: 695.0000 - tn: 328961.0000 - fn: 8910.0000 - accuracy: 0.9718 - precision: 0.7864 - recall: 0.2231 - val_loss: 0.0966 - val_tp: 736.0000 - val_fp: 91.0000 - val_tn: 82262.0000 - val_fn: 2192.0000 - val_accuracy: 0.9732 - val_precision: 0.8900 - val_recall: 0.2514\n",
      "Epoch 88/100\n",
      "335872/341124 [============================>.] - ETA: 0s - loss: 0.1023 - tp: 2515.0000 - fp: 700.0000 - tn: 323897.0000 - fn: 8760.0000 - accuracy: 0.9718 - precision: 0.7823 - recall: 0.2231WARNING:tensorflow:Early stopping conditioned on metric `val_auc` which is not available. Available metrics are: loss,tp,fp,tn,fn,accuracy,precision,recall,val_loss,val_tp,val_fp,val_tn,val_fn,val_accuracy,val_precision,val_recall\n",
      "341124/341124 [==============================] - 4s 13us/sample - loss: 0.1025 - tp: 2555.0000 - fp: 712.0000 - tn: 328944.0000 - fn: 8913.0000 - accuracy: 0.9718 - precision: 0.7821 - recall: 0.2228 - val_loss: 0.0967 - val_tp: 723.0000 - val_fp: 80.0000 - val_tn: 82273.0000 - val_fn: 2205.0000 - val_accuracy: 0.9732 - val_precision: 0.9004 - val_recall: 0.2469\n",
      "Epoch 89/100\n",
      "337920/341124 [============================>.] - ETA: 0s - loss: 0.1024 - tp: 2554.0000 - fp: 701.0000 - tn: 325853.0000 - fn: 8812.0000 - accuracy: 0.9718 - precision: 0.7846 - recall: 0.2247WARNING:tensorflow:Early stopping conditioned on metric `val_auc` which is not available. Available metrics are: loss,tp,fp,tn,fn,accuracy,precision,recall,val_loss,val_tp,val_fp,val_tn,val_fn,val_accuracy,val_precision,val_recall\n",
      "341124/341124 [==============================] - 4s 13us/sample - loss: 0.1023 - tp: 2578.0000 - fp: 703.0000 - tn: 328953.0000 - fn: 8890.0000 - accuracy: 0.9719 - precision: 0.7857 - recall: 0.2248 - val_loss: 0.0966 - val_tp: 697.0000 - val_fp: 76.0000 - val_tn: 82277.0000 - val_fn: 2231.0000 - val_accuracy: 0.9729 - val_precision: 0.9017 - val_recall: 0.2380\n",
      "Epoch 90/100\n",
      "335872/341124 [============================>.] - ETA: 0s - loss: 0.1024 - tp: 2476.0000 - fp: 689.0000 - tn: 323907.0000 - fn: 8800.0000 - accuracy: 0.9717 - precision: 0.7823 - recall: 0.2196WARNING:tensorflow:Early stopping conditioned on metric `val_auc` which is not available. Available metrics are: loss,tp,fp,tn,fn,accuracy,precision,recall,val_loss,val_tp,val_fp,val_tn,val_fn,val_accuracy,val_precision,val_recall\n",
      "341124/341124 [==============================] - 4s 13us/sample - loss: 0.1025 - tp: 2521.0000 - fp: 702.0000 - tn: 328954.0000 - fn: 8947.0000 - accuracy: 0.9717 - precision: 0.7822 - recall: 0.2198 - val_loss: 0.0972 - val_tp: 683.0000 - val_fp: 61.0000 - val_tn: 82292.0000 - val_fn: 2245.0000 - val_accuracy: 0.9730 - val_precision: 0.9180 - val_recall: 0.2333\n",
      "Epoch 91/100\n",
      "339968/341124 [============================>.] - ETA: 0s - loss: 0.1023 - tp: 2568.0000 - fp: 687.0000 - tn: 327846.0000 - fn: 8867.0000 - accuracy: 0.9719 - precision: 0.7889 - recall: 0.2246WARNING:tensorflow:Early stopping conditioned on metric `val_auc` which is not available. Available metrics are: loss,tp,fp,tn,fn,accuracy,precision,recall,val_loss,val_tp,val_fp,val_tn,val_fn,val_accuracy,val_precision,val_recall\n",
      "341124/341124 [==============================] - 5s 13us/sample - loss: 0.1023 - tp: 2576.0000 - fp: 689.0000 - tn: 328967.0000 - fn: 8892.0000 - accuracy: 0.9719 - precision: 0.7890 - recall: 0.2246 - val_loss: 0.0973 - val_tp: 679.0000 - val_fp: 77.0000 - val_tn: 82276.0000 - val_fn: 2249.0000 - val_accuracy: 0.9727 - val_precision: 0.8981 - val_recall: 0.2319\n",
      "Epoch 92/100\n",
      "337920/341124 [============================>.] - ETA: 0s - loss: 0.1024 - tp: 2504.0000 - fp: 714.0000 - tn: 325841.0000 - fn: 8861.0000 - accuracy: 0.9717 - precision: 0.7781 - recall: 0.2203WARNING:tensorflow:Early stopping conditioned on metric `val_auc` which is not available. Available metrics are: loss,tp,fp,tn,fn,accuracy,precision,recall,val_loss,val_tp,val_fp,val_tn,val_fn,val_accuracy,val_precision,val_recall\n",
      "341124/341124 [==============================] - 4s 13us/sample - loss: 0.1024 - tp: 2530.0000 - fp: 717.0000 - tn: 328939.0000 - fn: 8938.0000 - accuracy: 0.9717 - precision: 0.7792 - recall: 0.2206 - val_loss: 0.0968 - val_tp: 711.0000 - val_fp: 81.0000 - val_tn: 82272.0000 - val_fn: 2217.0000 - val_accuracy: 0.9731 - val_precision: 0.8977 - val_recall: 0.2428\n",
      "Epoch 93/100\n",
      "335872/341124 [============================>.] - ETA: 0s - loss: 0.1020 - tp: 2520.0000 - fp: 639.0000 - tn: 323948.0000 - fn: 8765.0000 - accuracy: 0.9720 - precision: 0.7977 - recall: 0.2233WARNING:tensorflow:Early stopping conditioned on metric `val_auc` which is not available. Available metrics are: loss,tp,fp,tn,fn,accuracy,precision,recall,val_loss,val_tp,val_fp,val_tn,val_fn,val_accuracy,val_precision,val_recall\n",
      "341124/341124 [==============================] - 4s 13us/sample - loss: 0.1020 - tp: 2559.0000 - fp: 647.0000 - tn: 329009.0000 - fn: 8909.0000 - accuracy: 0.9720 - precision: 0.7982 - recall: 0.2231 - val_loss: 0.0964 - val_tp: 739.0000 - val_fp: 103.0000 - val_tn: 82250.0000 - val_fn: 2189.0000 - val_accuracy: 0.9731 - val_precision: 0.8777 - val_recall: 0.2524\n",
      "Epoch 94/100\n",
      "337920/341124 [============================>.] - ETA: 0s - loss: 0.1024 - tp: 2515.0000 - fp: 655.0000 - tn: 325909.0000 - fn: 8841.0000 - accuracy: 0.9719 - precision: 0.7934 - recall: 0.2215WARNING:tensorflow:Early stopping conditioned on metric `val_auc` which is not available. Available metrics are: loss,tp,fp,tn,fn,accuracy,precision,recall,val_loss,val_tp,val_fp,val_tn,val_fn,val_accuracy,val_precision,val_recall\n",
      "341124/341124 [==============================] - 4s 13us/sample - loss: 0.1023 - tp: 2551.0000 - fp: 659.0000 - tn: 328997.0000 - fn: 8917.0000 - accuracy: 0.9719 - precision: 0.7947 - recall: 0.2224 - val_loss: 0.0964 - val_tp: 718.0000 - val_fp: 81.0000 - val_tn: 82272.0000 - val_fn: 2210.0000 - val_accuracy: 0.9731 - val_precision: 0.8986 - val_recall: 0.2452\n",
      "Epoch 95/100\n",
      "337920/341124 [============================>.] - ETA: 0s - loss: 0.1024 - tp: 2532.0000 - fp: 724.0000 - tn: 325829.0000 - fn: 8835.0000 - accuracy: 0.9717 - precision: 0.7776 - recall: 0.2228WARNING:tensorflow:Early stopping conditioned on metric `val_auc` which is not available. Available metrics are: loss,tp,fp,tn,fn,accuracy,precision,recall,val_loss,val_tp,val_fp,val_tn,val_fn,val_accuracy,val_precision,val_recall\n",
      "341124/341124 [==============================] - 4s 13us/sample - loss: 0.1025 - tp: 2558.0000 - fp: 738.0000 - tn: 328918.0000 - fn: 8910.0000 - accuracy: 0.9717 - precision: 0.7761 - recall: 0.2231 - val_loss: 0.0975 - val_tp: 662.0000 - val_fp: 59.0000 - val_tn: 82294.0000 - val_fn: 2266.0000 - val_accuracy: 0.9727 - val_precision: 0.9182 - val_recall: 0.2261\n",
      "Epoch 96/100\n",
      "337920/341124 [============================>.] - ETA: 0s - loss: 0.1020 - tp: 2572.0000 - fp: 651.0000 - tn: 325915.0000 - fn: 8782.0000 - accuracy: 0.9721 - precision: 0.7980 - recall: 0.2265WARNING:tensorflow:Early stopping conditioned on metric `val_auc` which is not available. Available metrics are: loss,tp,fp,tn,fn,accuracy,precision,recall,val_loss,val_tp,val_fp,val_tn,val_fn,val_accuracy,val_precision,val_recall\n",
      "341124/341124 [==============================] - 5s 13us/sample - loss: 0.1021 - tp: 2595.0000 - fp: 657.0000 - tn: 328999.0000 - fn: 8873.0000 - accuracy: 0.9721 - precision: 0.7980 - recall: 0.2263 - val_loss: 0.0965 - val_tp: 695.0000 - val_fp: 71.0000 - val_tn: 82282.0000 - val_fn: 2233.0000 - val_accuracy: 0.9730 - val_precision: 0.9073 - val_recall: 0.2374\n",
      "Epoch 97/100\n",
      "335872/341124 [============================>.] - ETA: 0s - loss: 0.1023 - tp: 2477.0000 - fp: 698.0000 - tn: 323881.0000 - fn: 8816.0000 - accuracy: 0.9717 - precision: 0.7802 - recall: 0.2193WARNING:tensorflow:Early stopping conditioned on metric `val_auc` which is not available. Available metrics are: loss,tp,fp,tn,fn,accuracy,precision,recall,val_loss,val_tp,val_fp,val_tn,val_fn,val_accuracy,val_precision,val_recall\n",
      "341124/341124 [==============================] - 5s 13us/sample - loss: 0.1023 - tp: 2511.0000 - fp: 712.0000 - tn: 328944.0000 - fn: 8957.0000 - accuracy: 0.9717 - precision: 0.7791 - recall: 0.2190 - val_loss: 0.0966 - val_tp: 697.0000 - val_fp: 63.0000 - val_tn: 82290.0000 - val_fn: 2231.0000 - val_accuracy: 0.9731 - val_precision: 0.9171 - val_recall: 0.2380\n",
      "Epoch 98/100\n",
      "339968/341124 [============================>.] - ETA: 0s - loss: 0.1020 - tp: 2580.0000 - fp: 679.0000 - tn: 327856.0000 - fn: 8853.0000 - accuracy: 0.9720 - precision: 0.7917 - recall: 0.2257WARNING:tensorflow:Early stopping conditioned on metric `val_auc` which is not available. Available metrics are: loss,tp,fp,tn,fn,accuracy,precision,recall,val_loss,val_tp,val_fp,val_tn,val_fn,val_accuracy,val_precision,val_recall\n",
      "341124/341124 [==============================] - 4s 13us/sample - loss: 0.1019 - tp: 2589.0000 - fp: 684.0000 - tn: 328972.0000 - fn: 8879.0000 - accuracy: 0.9720 - precision: 0.7910 - recall: 0.2258 - val_loss: 0.0964 - val_tp: 725.0000 - val_fp: 75.0000 - val_tn: 82278.0000 - val_fn: 2203.0000 - val_accuracy: 0.9733 - val_precision: 0.9062 - val_recall: 0.2476\n",
      "Epoch 99/100\n",
      "335872/341124 [============================>.] - ETA: 0s - loss: 0.1020 - tp: 2542.0000 - fp: 680.0000 - tn: 323915.0000 - fn: 8735.0000 - accuracy: 0.9720 - precision: 0.7890 - recall: 0.2254WARNING:tensorflow:Early stopping conditioned on metric `val_auc` which is not available. Available metrics are: loss,tp,fp,tn,fn,accuracy,precision,recall,val_loss,val_tp,val_fp,val_tn,val_fn,val_accuracy,val_precision,val_recall\n",
      "341124/341124 [==============================] - 5s 14us/sample - loss: 0.1020 - tp: 2591.0000 - fp: 691.0000 - tn: 328965.0000 - fn: 8877.0000 - accuracy: 0.9720 - precision: 0.7895 - recall: 0.2259 - val_loss: 0.0968 - val_tp: 709.0000 - val_fp: 76.0000 - val_tn: 82277.0000 - val_fn: 2219.0000 - val_accuracy: 0.9731 - val_precision: 0.9032 - val_recall: 0.2421\n",
      "Epoch 100/100\n",
      "335872/341124 [============================>.] - ETA: 0s - loss: 0.1021 - tp: 2526.0000 - fp: 691.0000 - tn: 323884.0000 - fn: 8771.0000 - accuracy: 0.9718 - precision: 0.7852 - recall: 0.2236WARNING:tensorflow:Early stopping conditioned on metric `val_auc` which is not available. Available metrics are: loss,tp,fp,tn,fn,accuracy,precision,recall,val_loss,val_tp,val_fp,val_tn,val_fn,val_accuracy,val_precision,val_recall\n",
      "341124/341124 [==============================] - 5s 14us/sample - loss: 0.1021 - tp: 2565.0000 - fp: 696.0000 - tn: 328960.0000 - fn: 8903.0000 - accuracy: 0.9719 - precision: 0.7866 - recall: 0.2237 - val_loss: 0.0970 - val_tp: 673.0000 - val_fp: 63.0000 - val_tn: 82290.0000 - val_fn: 2255.0000 - val_accuracy: 0.9728 - val_precision: 0.9144 - val_recall: 0.2298\n"
     ]
    }
   ],
   "source": [
    "model = make_model()\n",
    "model.load_weights(initial_weights)\n",
    "baseline_history = model.fit(\n",
    "    train_features,\n",
    "    train_labels,\n",
    "    batch_size=BATCH_SIZE,\n",
    "    epochs=EPOCHS,\n",
    "    callbacks = [early_stopping],\n",
    "    validation_data=(val_features, val_labels))"
   ]
  },
  {
   "cell_type": "code",
   "execution_count": 46,
   "metadata": {},
   "outputs": [
    {
     "ename": "NameError",
     "evalue": "name 'class_weight' is not defined",
     "output_type": "error",
     "traceback": [
      "\u001b[0;31m---------------------------------------------------------------------------\u001b[0m",
      "\u001b[0;31mNameError\u001b[0m                                 Traceback (most recent call last)",
      "\u001b[0;32m<ipython-input-46-c6f560ca18a7>\u001b[0m in \u001b[0;36m<module>\u001b[0;34m\u001b[0m\n\u001b[1;32m     10\u001b[0m     \u001b[0mvalidation_data\u001b[0m\u001b[0;34m=\u001b[0m\u001b[0;34m(\u001b[0m\u001b[0mval_features\u001b[0m\u001b[0;34m,\u001b[0m \u001b[0mval_labels\u001b[0m\u001b[0;34m)\u001b[0m\u001b[0;34m,\u001b[0m\u001b[0;34m\u001b[0m\u001b[0;34m\u001b[0m\u001b[0m\n\u001b[1;32m     11\u001b[0m     \u001b[0;31m# The class weights go here\u001b[0m\u001b[0;34m\u001b[0m\u001b[0;34m\u001b[0m\u001b[0;34m\u001b[0m\u001b[0m\n\u001b[0;32m---> 12\u001b[0;31m     class_weight=class_weight) \n\u001b[0m",
      "\u001b[0;31mNameError\u001b[0m: name 'class_weight' is not defined"
     ]
    }
   ],
   "source": [
    "weighted_model = make_model()\n",
    "weighted_model.load_weights(initial_weights)\n",
    "\n",
    "weighted_history = weighted_model.fit(\n",
    "    train_features,\n",
    "    train_labels,\n",
    "    batch_size=BATCH_SIZE,\n",
    "    epochs=EPOCHS,\n",
    "    callbacks = [early_stopping],\n",
    "    validation_data=(val_features, val_labels),\n",
    "    # The class weights go here\n",
    "    class_weight=class_weight) "
   ]
  },
  {
   "cell_type": "code",
   "execution_count": 24,
   "metadata": {},
   "outputs": [],
   "source": [
    "def plot_metrics(history):\n",
    "    metrics = ['loss', 'precision', 'recall']\n",
    "    for n, metric in enumerate(metrics):\n",
    "        name = metric.replace(\"_\",\" \").capitalize()\n",
    "        plt.subplot(2,2,n+1)\n",
    "        plt.plot(history.epoch,  history.history[metric], color=colors[0], label='Train')\n",
    "        plt.plot(history.epoch, history.history['val_'+metric],\n",
    "             color=colors[0], linestyle=\"--\", label='Val')\n",
    "        plt.xlabel('Epoch')\n",
    "        plt.ylabel(name)\n",
    "        if metric == 'loss':\n",
    "            plt.ylim([0, plt.ylim()[1]])\n",
    "        elif metric == 'auc':\n",
    "            plt.ylim([0.8,1])\n",
    "        else:\n",
    "            plt.ylim([0,1])\n",
    "\n",
    "    plt.legend()\n"
   ]
  },
  {
   "cell_type": "code",
   "execution_count": 25,
   "metadata": {},
   "outputs": [
    {
     "data": {
      "image/png": "[encoded data removed]",
      "text/plain": [
       "<Figure size 864x720 with 3 Axes>"
      ]
     },
     "metadata": {
      "needs_background": "light"
     },
     "output_type": "display_data"
    }
   ],
   "source": [
    "plot_metrics(baseline_history)"
   ]
  },
  {
   "cell_type": "code",
   "execution_count": 40,
   "metadata": {},
   "outputs": [],
   "source": [
    "train_predictions_baseline = model.predict(train_features, batch_size=BATCH_SIZE)\n",
    "test_predictions_baseline = model.predict(test_features, batch_size=BATCH_SIZE)"
   ]
  },
  {
   "cell_type": "code",
   "execution_count": 41,
   "metadata": {},
   "outputs": [],
   "source": [
    "train_predictions_weighted = weighted_model.predict(train_features, batch_size=BATCH_SIZE)\n",
    "test_predictions_weighted = weighted_model.predict(test_features, batch_size=BATCH_SIZE)"
   ]
  },
  {
   "cell_type": "code",
   "execution_count": 42,
   "metadata": {},
   "outputs": [],
   "source": [
    "def plot_cm(labels, predictions, p=0.5):\n",
    "    cm = confusion_matrix(labels, predictions > p)\n",
    "    plt.figure(figsize=(5,5))\n",
    "    sns.heatmap(cm, annot=True, fmt=\"d\")\n",
    "    plt.title('Confusion matrix @{:.2f}'.format(p))\n",
    "    plt.ylabel('Actual label')\n",
    "    plt.xlabel('Predicted label')\n",
    "\n",
    "    print('Legitimate Transactions Detected (True Negatives): ', cm[0][0])\n",
    "    print('Legitimate Transactions Incorrectly Detected (False Positives): ', cm[0][1])\n",
    "    print('Fraudulent Transactions Missed (False Negatives): ', cm[1][0])\n",
    "    print('Fraudulent Transactions Detected (True Positives): ', cm[1][1])\n",
    "    print('Total Fraudulent Transactions: ', np.sum(cm[1]))"
   ]
  },
  {
   "cell_type": "code",
   "execution_count": 43,
   "metadata": {},
   "outputs": [
    {
     "name": "stdout",
     "output_type": "stream",
     "text": [
      "loss :  0.09352465552586767\n",
      "tp :  768.0\n",
      "fp :  103.0\n",
      "tn :  103057.0\n",
      "fn :  2674.0\n",
      "accuracy :  0.97394985\n",
      "precision :  0.8817451\n",
      "recall :  0.22312608\n",
      "\n",
      "Legitimate Transactions Detected (True Negatives):  103057\n",
      "Legitimate Transactions Incorrectly Detected (False Positives):  103\n",
      "Fraudulent Transactions Missed (False Negatives):  2674\n",
      "Fraudulent Transactions Detected (True Positives):  768\n",
      "Total Fraudulent Transactions:  3442\n"
     ]
    },
    {
     "data": {
      "image/png": "[encoded data removed]",
      "text/plain": [
       "<Figure size 360x360 with 2 Axes>"
      ]
     },
     "metadata": {
      "needs_background": "light"
     },
     "output_type": "display_data"
    }
   ],
   "source": [
    "baseline_results = model.evaluate(test_features, test_labels,\n",
    "                                  batch_size=BATCH_SIZE, verbose=0)\n",
    "for name, value in zip(model.metrics_names, baseline_results):\n",
    "    print(name, ': ', value)\n",
    "print()\n",
    "\n",
    "plot_cm(test_labels, test_predictions_baseline)"
   ]
  },
  {
   "cell_type": "code",
   "execution_count": 49,
   "metadata": {},
   "outputs": [
    {
     "ename": "SyntaxError",
     "evalue": "invalid character in identifier (<ipython-input-49-a4741cf006f7>, line 5)",
     "output_type": "error",
     "traceback": [
      "\u001b[0;36m  File \u001b[0;32m\"<ipython-input-49-a4741cf006f7>\"\u001b[0;36m, line \u001b[0;32m5\u001b[0m\n\u001b[0;31m    train_features,\u001b[0m\n\u001b[0m    ^\u001b[0m\n\u001b[0;31mSyntaxError\u001b[0m\u001b[0;31m:\u001b[0m invalid character in identifier\n"
     ]
    }
   ],
   "source": [
    "weighted_model = make_model()\n",
    "weighted_model.load_weights(initial_weights)\n",
    "\n",
    "weighted_history = weighted_model.fit(\n",
    "    train_features,\n",
    "    train_labels,\n",
    "    batch_size=BATCH_SIZE,\n",
    "    epochs=EPOCHS,\n",
    "    callbacks = [early_stopping],\n",
    "    validation_data=(val_features, val_labels),\n",
    "    # The class weights go here\n",
    "    class_weight=class_weight) \n"
   ]
  },
  {
   "cell_type": "code",
   "execution_count": 50,
   "metadata": {},
   "outputs": [
    {
     "data": {
      "text/plain": [
       "<matplotlib.legend.Legend at 0x1a3d253978>"
      ]
     },
     "execution_count": 50,
     "metadata": {},
     "output_type": "execute_result"
    },
    {
     "data": {
      "image/png": "[encoded data removed]",
      "text/plain": [
       "<Figure size 864x720 with 1 Axes>"
      ]
     },
     "metadata": {
      "needs_background": "light"
     },
     "output_type": "display_data"
    }
   ],
   "source": [
    "plot_roc(\"Train Baseline\", train_labels, train_predictions_baseline, color=colors[0])\n",
    "plot_roc(\"Test Baseline\", test_labels, test_predictions_baseline, color=colors[0], linestyle='--')\n",
    "\n",
    "plot_roc(\"Train Weighted\", train_labels, train_predictions_weighted, color=colors[1])\n",
    "plot_roc(\"Test Weighted\", test_labels, test_predictions_weighted, color=colors[1], linestyle='--')\n",
    "\n",
    "plt.legend(loc='lower right')"
   ]
  },
  {
   "cell_type": "code",
   "execution_count": null,
   "metadata": {},
   "outputs": [],
   "source": []
  }
 ],
 "metadata": {
  "kernelspec": {
   "display_name": "Python 3",
   "language": "python",
   "name": "python3"
  },
  "language_info": {
   "codemirror_mode": {
    "name": "ipython",
    "version": 3
   },
   "file_extension": ".py",
   "mimetype": "text/x-python",
   "name": "python",
   "nbconvert_exporter": "python",
   "pygments_lexer": "ipython3",
   "version": "3.6.9"
  }
 },
 "nbformat": 4,
 "nbformat_minor": 4
}
